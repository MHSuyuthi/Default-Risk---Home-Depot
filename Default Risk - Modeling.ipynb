{
  "cells": [
    {
      "attachments": {},
      "cell_type": "markdown",
      "id": "ioNYNAULl9Ob",
      "metadata": {
        "id": "ioNYNAULl9Ob"
      },
      "source": [
        "# PERKENALAN\n",
        "\n",
        "NAMA : MUHAMMAD HANIF SUYUTHI\n",
        "\n",
        "PROGRAM : FTDS\n",
        "\n",
        "BATCH : RMT-019"
      ]
    },
    {
      "attachments": {},
      "cell_type": "markdown",
      "id": "8WpiLql2m9Ml",
      "metadata": {
        "id": "8WpiLql2m9Ml"
      },
      "source": [
        "# DEFAULT RISK - HOME DEPOT"
      ]
    },
    {
      "attachments": {},
      "cell_type": "markdown",
      "id": "eYC4MIHqmDBQ",
      "metadata": {
        "id": "eYC4MIHqmDBQ"
      },
      "source": [
        "# DESKRIPSI\n",
        "\n",
        "## OBJEKTIF\n",
        "MEMBUAT DEFAULT PREDICTION MODEL\n",
        "\n",
        "## PERMASALAHAN\n",
        "- APA SAJA FITUR YANG MEMPENGARUHI DEFAULT\n",
        "- BAGAIMANAKAH HASIL DARI MODEL PREDIKSI YANG KITA BUAT\n",
        "\n",
        "\n",
        "## DATASET\n",
        "https://www.kaggle.com/competitions/home-credit-default-risk/data\n"
      ]
    },
    {
      "cell_type": "code",
      "execution_count": null,
      "id": "5Wy-yeMD3PES",
      "metadata": {
        "colab": {
          "base_uri": "https://localhost:8080/"
        },
        "id": "5Wy-yeMD3PES",
        "outputId": "c255fc52-ad54-416f-b207-3723e321637f"
      },
      "outputs": [
        {
          "name": "stdout",
          "output_type": "stream",
          "text": [
            "Looking in indexes: https://pypi.org/simple, https://us-python.pkg.dev/colab-wheels/public/simple/\n",
            "Requirement already satisfied: feature_engine in /usr/local/lib/python3.10/dist-packages (1.6.1)\n",
            "Requirement already satisfied: numpy>=1.18.2 in /usr/local/lib/python3.10/dist-packages (from feature_engine) (1.22.4)\n",
            "Requirement already satisfied: pandas>=1.0.3 in /usr/local/lib/python3.10/dist-packages (from feature_engine) (1.5.3)\n",
            "Requirement already satisfied: scikit-learn>=1.0.0 in /usr/local/lib/python3.10/dist-packages (from feature_engine) (1.2.2)\n",
            "Requirement already satisfied: scipy>=1.4.1 in /usr/local/lib/python3.10/dist-packages (from feature_engine) (1.10.1)\n",
            "Requirement already satisfied: statsmodels>=0.11.1 in /usr/local/lib/python3.10/dist-packages (from feature_engine) (0.13.5)\n",
            "Requirement already satisfied: python-dateutil>=2.8.1 in /usr/local/lib/python3.10/dist-packages (from pandas>=1.0.3->feature_engine) (2.8.2)\n",
            "Requirement already satisfied: pytz>=2020.1 in /usr/local/lib/python3.10/dist-packages (from pandas>=1.0.3->feature_engine) (2022.7.1)\n",
            "Requirement already satisfied: joblib>=1.1.1 in /usr/local/lib/python3.10/dist-packages (from scikit-learn>=1.0.0->feature_engine) (1.2.0)\n",
            "Requirement already satisfied: threadpoolctl>=2.0.0 in /usr/local/lib/python3.10/dist-packages (from scikit-learn>=1.0.0->feature_engine) (3.1.0)\n",
            "Requirement already satisfied: patsy>=0.5.2 in /usr/local/lib/python3.10/dist-packages (from statsmodels>=0.11.1->feature_engine) (0.5.3)\n",
            "Requirement already satisfied: packaging>=21.3 in /usr/local/lib/python3.10/dist-packages (from statsmodels>=0.11.1->feature_engine) (23.1)\n",
            "Requirement already satisfied: six in /usr/local/lib/python3.10/dist-packages (from patsy>=0.5.2->statsmodels>=0.11.1->feature_engine) (1.16.0)\n"
          ]
        }
      ],
      "source": [
        "pip install feature_engine"
      ]
    },
    {
      "attachments": {},
      "cell_type": "markdown",
      "id": "zyVKN-G7Po_p",
      "metadata": {
        "id": "zyVKN-G7Po_p"
      },
      "source": [
        "# Impor Pustaka"
      ]
    },
    {
      "cell_type": "code",
      "execution_count": 130,
      "id": "74b2e851",
      "metadata": {
        "id": "74b2e851"
      },
      "outputs": [],
      "source": [
        "import pandas as pd\n",
        "import numpy as np\n",
        "from scipy import stats\n",
        "\n",
        "import seaborn as sns\n",
        "import matplotlib.pyplot as plt\n",
        "\n",
        "from sklearn import preprocessing\n",
        "from sklearn.model_selection import train_test_split\n",
        "from sklearn.model_selection import train_test_split\n",
        "\n",
        "from scipy.stats import kendalltau\n",
        "from scipy.stats import chi2_contingency\n",
        "\n",
        "from scipy.stats import skew\n",
        "\n",
        "\n",
        "from feature_engine.outliers import Winsorizer\n",
        "from sklearn.impute import SimpleImputer\n",
        "from sklearn.preprocessing import StandardScaler, OneHotEncoder, OrdinalEncoder, LabelEncoder\n",
        "from sklearn.pipeline import Pipeline\n",
        "from sklearn.compose import ColumnTransformer\n",
        "\n",
        "from xgboost import XGBClassifier\n",
        "from sklearn.model_selection import KFold\n",
        "from sklearn.model_selection import GridSearchCV\n",
        "\n",
        "from sklearn.metrics import roc_auc_score\n",
        "\n",
        "\n",
        "from sklearn.linear_model import LogisticRegression\n",
        "from sklearn.model_selection import RandomizedSearchCV\n",
        "from lightgbm import LGBMClassifier\n",
        "\n",
        "import xgboost as xgb\n",
        "from sklearn.metrics import classification_report, confusion_matrix, ConfusionMatrixDisplay\n",
        "#from imblearn.over_sampling import SMOTE\n",
        "from imblearn.under_sampling import RandomUnderSampler\n",
        "\n",
        "#save model\n",
        "import json\n",
        "import pickle\n",
        "\n",
        "import warnings\n",
        "warnings.filterwarnings(\"ignore\")"
      ]
    },
    {
      "cell_type": "code",
      "execution_count": 131,
      "id": "risFCoTXsVCt",
      "metadata": {
        "colab": {
          "base_uri": "https://localhost:8080/"
        },
        "id": "risFCoTXsVCt",
        "outputId": "7982ec48-673c-4df0-9c87-18498be5c536"
      },
      "outputs": [
        {
          "name": "stdout",
          "output_type": "stream",
          "text": [
            "Drive already mounted at /content/drive; to attempt to forcibly remount, call drive.mount(\"/content/drive\", force_remount=True).\n"
          ]
        }
      ],
      "source": [
        "from google.colab import drive\n",
        "drive.mount('/content/drive')"
      ]
    },
    {
      "attachments": {},
      "cell_type": "markdown",
      "id": "_9sFVNUDt8S-",
      "metadata": {
        "id": "_9sFVNUDt8S-"
      },
      "source": [
        "# Memuat Data"
      ]
    },
    {
      "cell_type": "code",
      "execution_count": 132,
      "id": "2ef8b9da",
      "metadata": {
        "id": "2ef8b9da"
      },
      "outputs": [],
      "source": [
        "df1=pd.read_csv(\"/content/drive/MyDrive/Hacktiv8/Final Project/application_train.csv\")\n",
        "df2=pd.read_csv(\"/content/drive/MyDrive/Hacktiv8/Final Project/application_test.csv\")"
      ]
    },
    {
      "cell_type": "code",
      "execution_count": 133,
      "id": "V1HuiG7f9k8z",
      "metadata": {
        "colab": {
          "base_uri": "https://localhost:8080/",
          "height": 300
        },
        "id": "V1HuiG7f9k8z",
        "outputId": "7c205c25-a68a-48dc-f9d2-4196e46f0f30"
      },
      "outputs": [
        {
          "data": {
            "text/html": [
              "\n",
              "  <div id=\"df-89ff8f5f-7d64-4000-b0ab-3a81df4cab8a\">\n",
              "    <div class=\"colab-df-container\">\n",
              "      <div>\n",
              "<style scoped>\n",
              "    .dataframe tbody tr th:only-of-type {\n",
              "        vertical-align: middle;\n",
              "    }\n",
              "\n",
              "    .dataframe tbody tr th {\n",
              "        vertical-align: top;\n",
              "    }\n",
              "\n",
              "    .dataframe thead th {\n",
              "        text-align: right;\n",
              "    }\n",
              "</style>\n",
              "<table border=\"1\" class=\"dataframe\">\n",
              "  <thead>\n",
              "    <tr style=\"text-align: right;\">\n",
              "      <th></th>\n",
              "      <th>SK_ID_CURR</th>\n",
              "      <th>TARGET</th>\n",
              "      <th>NAME_CONTRACT_TYPE</th>\n",
              "      <th>CODE_GENDER</th>\n",
              "      <th>FLAG_OWN_CAR</th>\n",
              "      <th>FLAG_OWN_REALTY</th>\n",
              "      <th>CNT_CHILDREN</th>\n",
              "      <th>AMT_INCOME_TOTAL</th>\n",
              "      <th>AMT_CREDIT</th>\n",
              "      <th>AMT_ANNUITY</th>\n",
              "      <th>...</th>\n",
              "      <th>FLAG_DOCUMENT_18</th>\n",
              "      <th>FLAG_DOCUMENT_19</th>\n",
              "      <th>FLAG_DOCUMENT_20</th>\n",
              "      <th>FLAG_DOCUMENT_21</th>\n",
              "      <th>AMT_REQ_CREDIT_BUREAU_HOUR</th>\n",
              "      <th>AMT_REQ_CREDIT_BUREAU_DAY</th>\n",
              "      <th>AMT_REQ_CREDIT_BUREAU_WEEK</th>\n",
              "      <th>AMT_REQ_CREDIT_BUREAU_MON</th>\n",
              "      <th>AMT_REQ_CREDIT_BUREAU_QRT</th>\n",
              "      <th>AMT_REQ_CREDIT_BUREAU_YEAR</th>\n",
              "    </tr>\n",
              "  </thead>\n",
              "  <tbody>\n",
              "    <tr>\n",
              "      <th>0</th>\n",
              "      <td>100002</td>\n",
              "      <td>1</td>\n",
              "      <td>Cash loans</td>\n",
              "      <td>M</td>\n",
              "      <td>N</td>\n",
              "      <td>Y</td>\n",
              "      <td>0</td>\n",
              "      <td>202500.0</td>\n",
              "      <td>406597.5</td>\n",
              "      <td>24700.5</td>\n",
              "      <td>...</td>\n",
              "      <td>0</td>\n",
              "      <td>0</td>\n",
              "      <td>0</td>\n",
              "      <td>0</td>\n",
              "      <td>0.0</td>\n",
              "      <td>0.0</td>\n",
              "      <td>0.0</td>\n",
              "      <td>0.0</td>\n",
              "      <td>0.0</td>\n",
              "      <td>1.0</td>\n",
              "    </tr>\n",
              "    <tr>\n",
              "      <th>1</th>\n",
              "      <td>100003</td>\n",
              "      <td>0</td>\n",
              "      <td>Cash loans</td>\n",
              "      <td>F</td>\n",
              "      <td>N</td>\n",
              "      <td>N</td>\n",
              "      <td>0</td>\n",
              "      <td>270000.0</td>\n",
              "      <td>1293502.5</td>\n",
              "      <td>35698.5</td>\n",
              "      <td>...</td>\n",
              "      <td>0</td>\n",
              "      <td>0</td>\n",
              "      <td>0</td>\n",
              "      <td>0</td>\n",
              "      <td>0.0</td>\n",
              "      <td>0.0</td>\n",
              "      <td>0.0</td>\n",
              "      <td>0.0</td>\n",
              "      <td>0.0</td>\n",
              "      <td>0.0</td>\n",
              "    </tr>\n",
              "    <tr>\n",
              "      <th>2</th>\n",
              "      <td>100004</td>\n",
              "      <td>0</td>\n",
              "      <td>Revolving loans</td>\n",
              "      <td>M</td>\n",
              "      <td>Y</td>\n",
              "      <td>Y</td>\n",
              "      <td>0</td>\n",
              "      <td>67500.0</td>\n",
              "      <td>135000.0</td>\n",
              "      <td>6750.0</td>\n",
              "      <td>...</td>\n",
              "      <td>0</td>\n",
              "      <td>0</td>\n",
              "      <td>0</td>\n",
              "      <td>0</td>\n",
              "      <td>0.0</td>\n",
              "      <td>0.0</td>\n",
              "      <td>0.0</td>\n",
              "      <td>0.0</td>\n",
              "      <td>0.0</td>\n",
              "      <td>0.0</td>\n",
              "    </tr>\n",
              "    <tr>\n",
              "      <th>3</th>\n",
              "      <td>100006</td>\n",
              "      <td>0</td>\n",
              "      <td>Cash loans</td>\n",
              "      <td>F</td>\n",
              "      <td>N</td>\n",
              "      <td>Y</td>\n",
              "      <td>0</td>\n",
              "      <td>135000.0</td>\n",
              "      <td>312682.5</td>\n",
              "      <td>29686.5</td>\n",
              "      <td>...</td>\n",
              "      <td>0</td>\n",
              "      <td>0</td>\n",
              "      <td>0</td>\n",
              "      <td>0</td>\n",
              "      <td>NaN</td>\n",
              "      <td>NaN</td>\n",
              "      <td>NaN</td>\n",
              "      <td>NaN</td>\n",
              "      <td>NaN</td>\n",
              "      <td>NaN</td>\n",
              "    </tr>\n",
              "    <tr>\n",
              "      <th>4</th>\n",
              "      <td>100007</td>\n",
              "      <td>0</td>\n",
              "      <td>Cash loans</td>\n",
              "      <td>M</td>\n",
              "      <td>N</td>\n",
              "      <td>Y</td>\n",
              "      <td>0</td>\n",
              "      <td>121500.0</td>\n",
              "      <td>513000.0</td>\n",
              "      <td>21865.5</td>\n",
              "      <td>...</td>\n",
              "      <td>0</td>\n",
              "      <td>0</td>\n",
              "      <td>0</td>\n",
              "      <td>0</td>\n",
              "      <td>0.0</td>\n",
              "      <td>0.0</td>\n",
              "      <td>0.0</td>\n",
              "      <td>0.0</td>\n",
              "      <td>0.0</td>\n",
              "      <td>0.0</td>\n",
              "    </tr>\n",
              "  </tbody>\n",
              "</table>\n",
              "<p>5 rows × 122 columns</p>\n",
              "</div>\n",
              "      <button class=\"colab-df-convert\" onclick=\"convertToInteractive('df-89ff8f5f-7d64-4000-b0ab-3a81df4cab8a')\"\n",
              "              title=\"Convert this dataframe to an interactive table.\"\n",
              "              style=\"display:none;\">\n",
              "        \n",
              "  <svg xmlns=\"http://www.w3.org/2000/svg\" height=\"24px\"viewBox=\"0 0 24 24\"\n",
              "       width=\"24px\">\n",
              "    <path d=\"M0 0h24v24H0V0z\" fill=\"none\"/>\n",
              "    <path d=\"M18.56 5.44l.94 2.06.94-2.06 2.06-.94-2.06-.94-.94-2.06-.94 2.06-2.06.94zm-11 1L8.5 8.5l.94-2.06 2.06-.94-2.06-.94L8.5 2.5l-.94 2.06-2.06.94zm10 10l.94 2.06.94-2.06 2.06-.94-2.06-.94-.94-2.06-.94 2.06-2.06.94z\"/><path d=\"M17.41 7.96l-1.37-1.37c-.4-.4-.92-.59-1.43-.59-.52 0-1.04.2-1.43.59L10.3 9.45l-7.72 7.72c-.78.78-.78 2.05 0 2.83L4 21.41c.39.39.9.59 1.41.59.51 0 1.02-.2 1.41-.59l7.78-7.78 2.81-2.81c.8-.78.8-2.07 0-2.86zM5.41 20L4 18.59l7.72-7.72 1.47 1.35L5.41 20z\"/>\n",
              "  </svg>\n",
              "      </button>\n",
              "      \n",
              "  <style>\n",
              "    .colab-df-container {\n",
              "      display:flex;\n",
              "      flex-wrap:wrap;\n",
              "      gap: 12px;\n",
              "    }\n",
              "\n",
              "    .colab-df-convert {\n",
              "      background-color: #E8F0FE;\n",
              "      border: none;\n",
              "      border-radius: 50%;\n",
              "      cursor: pointer;\n",
              "      display: none;\n",
              "      fill: #1967D2;\n",
              "      height: 32px;\n",
              "      padding: 0 0 0 0;\n",
              "      width: 32px;\n",
              "    }\n",
              "\n",
              "    .colab-df-convert:hover {\n",
              "      background-color: #E2EBFA;\n",
              "      box-shadow: 0px 1px 2px rgba(60, 64, 67, 0.3), 0px 1px 3px 1px rgba(60, 64, 67, 0.15);\n",
              "      fill: #174EA6;\n",
              "    }\n",
              "\n",
              "    [theme=dark] .colab-df-convert {\n",
              "      background-color: #3B4455;\n",
              "      fill: #D2E3FC;\n",
              "    }\n",
              "\n",
              "    [theme=dark] .colab-df-convert:hover {\n",
              "      background-color: #434B5C;\n",
              "      box-shadow: 0px 1px 3px 1px rgba(0, 0, 0, 0.15);\n",
              "      filter: drop-shadow(0px 1px 2px rgba(0, 0, 0, 0.3));\n",
              "      fill: #FFFFFF;\n",
              "    }\n",
              "  </style>\n",
              "\n",
              "      <script>\n",
              "        const buttonEl =\n",
              "          document.querySelector('#df-89ff8f5f-7d64-4000-b0ab-3a81df4cab8a button.colab-df-convert');\n",
              "        buttonEl.style.display =\n",
              "          google.colab.kernel.accessAllowed ? 'block' : 'none';\n",
              "\n",
              "        async function convertToInteractive(key) {\n",
              "          const element = document.querySelector('#df-89ff8f5f-7d64-4000-b0ab-3a81df4cab8a');\n",
              "          const dataTable =\n",
              "            await google.colab.kernel.invokeFunction('convertToInteractive',\n",
              "                                                     [key], {});\n",
              "          if (!dataTable) return;\n",
              "\n",
              "          const docLinkHtml = 'Like what you see? Visit the ' +\n",
              "            '<a target=\"_blank\" href=https://colab.research.google.com/notebooks/data_table.ipynb>data table notebook</a>'\n",
              "            + ' to learn more about interactive tables.';\n",
              "          element.innerHTML = '';\n",
              "          dataTable['output_type'] = 'display_data';\n",
              "          await google.colab.output.renderOutput(dataTable, element);\n",
              "          const docLink = document.createElement('div');\n",
              "          docLink.innerHTML = docLinkHtml;\n",
              "          element.appendChild(docLink);\n",
              "        }\n",
              "      </script>\n",
              "    </div>\n",
              "  </div>\n",
              "  "
            ],
            "text/plain": [
              "   SK_ID_CURR  TARGET NAME_CONTRACT_TYPE CODE_GENDER FLAG_OWN_CAR  \\\n",
              "0      100002       1         Cash loans           M            N   \n",
              "1      100003       0         Cash loans           F            N   \n",
              "2      100004       0    Revolving loans           M            Y   \n",
              "3      100006       0         Cash loans           F            N   \n",
              "4      100007       0         Cash loans           M            N   \n",
              "\n",
              "  FLAG_OWN_REALTY  CNT_CHILDREN  AMT_INCOME_TOTAL  AMT_CREDIT  AMT_ANNUITY  \\\n",
              "0               Y             0          202500.0    406597.5      24700.5   \n",
              "1               N             0          270000.0   1293502.5      35698.5   \n",
              "2               Y             0           67500.0    135000.0       6750.0   \n",
              "3               Y             0          135000.0    312682.5      29686.5   \n",
              "4               Y             0          121500.0    513000.0      21865.5   \n",
              "\n",
              "   ...  FLAG_DOCUMENT_18 FLAG_DOCUMENT_19 FLAG_DOCUMENT_20 FLAG_DOCUMENT_21  \\\n",
              "0  ...                 0                0                0                0   \n",
              "1  ...                 0                0                0                0   \n",
              "2  ...                 0                0                0                0   \n",
              "3  ...                 0                0                0                0   \n",
              "4  ...                 0                0                0                0   \n",
              "\n",
              "  AMT_REQ_CREDIT_BUREAU_HOUR AMT_REQ_CREDIT_BUREAU_DAY  \\\n",
              "0                        0.0                       0.0   \n",
              "1                        0.0                       0.0   \n",
              "2                        0.0                       0.0   \n",
              "3                        NaN                       NaN   \n",
              "4                        0.0                       0.0   \n",
              "\n",
              "   AMT_REQ_CREDIT_BUREAU_WEEK  AMT_REQ_CREDIT_BUREAU_MON  \\\n",
              "0                         0.0                        0.0   \n",
              "1                         0.0                        0.0   \n",
              "2                         0.0                        0.0   \n",
              "3                         NaN                        NaN   \n",
              "4                         0.0                        0.0   \n",
              "\n",
              "   AMT_REQ_CREDIT_BUREAU_QRT  AMT_REQ_CREDIT_BUREAU_YEAR  \n",
              "0                        0.0                         1.0  \n",
              "1                        0.0                         0.0  \n",
              "2                        0.0                         0.0  \n",
              "3                        NaN                         NaN  \n",
              "4                        0.0                         0.0  \n",
              "\n",
              "[5 rows x 122 columns]"
            ]
          },
          "execution_count": 133,
          "metadata": {},
          "output_type": "execute_result"
        }
      ],
      "source": [
        "df1.head(5)"
      ]
    },
    {
      "cell_type": "code",
      "execution_count": 134,
      "id": "ZTjwVpvrRPdZ",
      "metadata": {
        "id": "ZTjwVpvrRPdZ"
      },
      "outputs": [],
      "source": [
        "df6=pd.read_csv(\"/content/drive/MyDrive/Hacktiv8/Final Project/HomeCredit_columns_description.csv\",encoding='latin-1')"
      ]
    },
    {
      "cell_type": "code",
      "execution_count": 135,
      "id": "kJGKHi_wRklo",
      "metadata": {
        "colab": {
          "base_uri": "https://localhost:8080/",
          "height": 424
        },
        "id": "kJGKHi_wRklo",
        "outputId": "c301a692-1ba0-4cbc-9563-d139da93b35f"
      },
      "outputs": [
        {
          "data": {
            "text/html": [
              "\n",
              "  <div id=\"df-3fde6448-7043-4f8d-841b-d9d905ee0ac8\">\n",
              "    <div class=\"colab-df-container\">\n",
              "      <div>\n",
              "<style scoped>\n",
              "    .dataframe tbody tr th:only-of-type {\n",
              "        vertical-align: middle;\n",
              "    }\n",
              "\n",
              "    .dataframe tbody tr th {\n",
              "        vertical-align: top;\n",
              "    }\n",
              "\n",
              "    .dataframe thead th {\n",
              "        text-align: right;\n",
              "    }\n",
              "</style>\n",
              "<table border=\"1\" class=\"dataframe\">\n",
              "  <thead>\n",
              "    <tr style=\"text-align: right;\">\n",
              "      <th></th>\n",
              "      <th>Unnamed: 0</th>\n",
              "      <th>Table</th>\n",
              "      <th>Row</th>\n",
              "      <th>Description</th>\n",
              "      <th>Special</th>\n",
              "    </tr>\n",
              "  </thead>\n",
              "  <tbody>\n",
              "    <tr>\n",
              "      <th>0</th>\n",
              "      <td>1</td>\n",
              "      <td>application_{train|test}.csv</td>\n",
              "      <td>SK_ID_CURR</td>\n",
              "      <td>ID of loan in our sample</td>\n",
              "      <td>NaN</td>\n",
              "    </tr>\n",
              "    <tr>\n",
              "      <th>1</th>\n",
              "      <td>2</td>\n",
              "      <td>application_{train|test}.csv</td>\n",
              "      <td>TARGET</td>\n",
              "      <td>Target variable (1 - client with payment diffi...</td>\n",
              "      <td>NaN</td>\n",
              "    </tr>\n",
              "    <tr>\n",
              "      <th>2</th>\n",
              "      <td>5</td>\n",
              "      <td>application_{train|test}.csv</td>\n",
              "      <td>NAME_CONTRACT_TYPE</td>\n",
              "      <td>Identification if loan is cash or revolving</td>\n",
              "      <td>NaN</td>\n",
              "    </tr>\n",
              "    <tr>\n",
              "      <th>3</th>\n",
              "      <td>6</td>\n",
              "      <td>application_{train|test}.csv</td>\n",
              "      <td>CODE_GENDER</td>\n",
              "      <td>Gender of the client</td>\n",
              "      <td>NaN</td>\n",
              "    </tr>\n",
              "    <tr>\n",
              "      <th>4</th>\n",
              "      <td>7</td>\n",
              "      <td>application_{train|test}.csv</td>\n",
              "      <td>FLAG_OWN_CAR</td>\n",
              "      <td>Flag if the client owns a car</td>\n",
              "      <td>NaN</td>\n",
              "    </tr>\n",
              "    <tr>\n",
              "      <th>...</th>\n",
              "      <td>...</td>\n",
              "      <td>...</td>\n",
              "      <td>...</td>\n",
              "      <td>...</td>\n",
              "      <td>...</td>\n",
              "    </tr>\n",
              "    <tr>\n",
              "      <th>214</th>\n",
              "      <td>217</td>\n",
              "      <td>installments_payments.csv</td>\n",
              "      <td>NUM_INSTALMENT_NUMBER</td>\n",
              "      <td>On which installment we observe payment</td>\n",
              "      <td>NaN</td>\n",
              "    </tr>\n",
              "    <tr>\n",
              "      <th>215</th>\n",
              "      <td>218</td>\n",
              "      <td>installments_payments.csv</td>\n",
              "      <td>DAYS_INSTALMENT</td>\n",
              "      <td>When the installment of previous credit was su...</td>\n",
              "      <td>time only relative to the application</td>\n",
              "    </tr>\n",
              "    <tr>\n",
              "      <th>216</th>\n",
              "      <td>219</td>\n",
              "      <td>installments_payments.csv</td>\n",
              "      <td>DAYS_ENTRY_PAYMENT</td>\n",
              "      <td>When was the installments of previous credit p...</td>\n",
              "      <td>time only relative to the application</td>\n",
              "    </tr>\n",
              "    <tr>\n",
              "      <th>217</th>\n",
              "      <td>220</td>\n",
              "      <td>installments_payments.csv</td>\n",
              "      <td>AMT_INSTALMENT</td>\n",
              "      <td>What was the prescribed installment amount of ...</td>\n",
              "      <td>NaN</td>\n",
              "    </tr>\n",
              "    <tr>\n",
              "      <th>218</th>\n",
              "      <td>221</td>\n",
              "      <td>installments_payments.csv</td>\n",
              "      <td>AMT_PAYMENT</td>\n",
              "      <td>What the client actually paid on previous cred...</td>\n",
              "      <td>NaN</td>\n",
              "    </tr>\n",
              "  </tbody>\n",
              "</table>\n",
              "<p>219 rows × 5 columns</p>\n",
              "</div>\n",
              "      <button class=\"colab-df-convert\" onclick=\"convertToInteractive('df-3fde6448-7043-4f8d-841b-d9d905ee0ac8')\"\n",
              "              title=\"Convert this dataframe to an interactive table.\"\n",
              "              style=\"display:none;\">\n",
              "        \n",
              "  <svg xmlns=\"http://www.w3.org/2000/svg\" height=\"24px\"viewBox=\"0 0 24 24\"\n",
              "       width=\"24px\">\n",
              "    <path d=\"M0 0h24v24H0V0z\" fill=\"none\"/>\n",
              "    <path d=\"M18.56 5.44l.94 2.06.94-2.06 2.06-.94-2.06-.94-.94-2.06-.94 2.06-2.06.94zm-11 1L8.5 8.5l.94-2.06 2.06-.94-2.06-.94L8.5 2.5l-.94 2.06-2.06.94zm10 10l.94 2.06.94-2.06 2.06-.94-2.06-.94-.94-2.06-.94 2.06-2.06.94z\"/><path d=\"M17.41 7.96l-1.37-1.37c-.4-.4-.92-.59-1.43-.59-.52 0-1.04.2-1.43.59L10.3 9.45l-7.72 7.72c-.78.78-.78 2.05 0 2.83L4 21.41c.39.39.9.59 1.41.59.51 0 1.02-.2 1.41-.59l7.78-7.78 2.81-2.81c.8-.78.8-2.07 0-2.86zM5.41 20L4 18.59l7.72-7.72 1.47 1.35L5.41 20z\"/>\n",
              "  </svg>\n",
              "      </button>\n",
              "      \n",
              "  <style>\n",
              "    .colab-df-container {\n",
              "      display:flex;\n",
              "      flex-wrap:wrap;\n",
              "      gap: 12px;\n",
              "    }\n",
              "\n",
              "    .colab-df-convert {\n",
              "      background-color: #E8F0FE;\n",
              "      border: none;\n",
              "      border-radius: 50%;\n",
              "      cursor: pointer;\n",
              "      display: none;\n",
              "      fill: #1967D2;\n",
              "      height: 32px;\n",
              "      padding: 0 0 0 0;\n",
              "      width: 32px;\n",
              "    }\n",
              "\n",
              "    .colab-df-convert:hover {\n",
              "      background-color: #E2EBFA;\n",
              "      box-shadow: 0px 1px 2px rgba(60, 64, 67, 0.3), 0px 1px 3px 1px rgba(60, 64, 67, 0.15);\n",
              "      fill: #174EA6;\n",
              "    }\n",
              "\n",
              "    [theme=dark] .colab-df-convert {\n",
              "      background-color: #3B4455;\n",
              "      fill: #D2E3FC;\n",
              "    }\n",
              "\n",
              "    [theme=dark] .colab-df-convert:hover {\n",
              "      background-color: #434B5C;\n",
              "      box-shadow: 0px 1px 3px 1px rgba(0, 0, 0, 0.15);\n",
              "      filter: drop-shadow(0px 1px 2px rgba(0, 0, 0, 0.3));\n",
              "      fill: #FFFFFF;\n",
              "    }\n",
              "  </style>\n",
              "\n",
              "      <script>\n",
              "        const buttonEl =\n",
              "          document.querySelector('#df-3fde6448-7043-4f8d-841b-d9d905ee0ac8 button.colab-df-convert');\n",
              "        buttonEl.style.display =\n",
              "          google.colab.kernel.accessAllowed ? 'block' : 'none';\n",
              "\n",
              "        async function convertToInteractive(key) {\n",
              "          const element = document.querySelector('#df-3fde6448-7043-4f8d-841b-d9d905ee0ac8');\n",
              "          const dataTable =\n",
              "            await google.colab.kernel.invokeFunction('convertToInteractive',\n",
              "                                                     [key], {});\n",
              "          if (!dataTable) return;\n",
              "\n",
              "          const docLinkHtml = 'Like what you see? Visit the ' +\n",
              "            '<a target=\"_blank\" href=https://colab.research.google.com/notebooks/data_table.ipynb>data table notebook</a>'\n",
              "            + ' to learn more about interactive tables.';\n",
              "          element.innerHTML = '';\n",
              "          dataTable['output_type'] = 'display_data';\n",
              "          await google.colab.output.renderOutput(dataTable, element);\n",
              "          const docLink = document.createElement('div');\n",
              "          docLink.innerHTML = docLinkHtml;\n",
              "          element.appendChild(docLink);\n",
              "        }\n",
              "      </script>\n",
              "    </div>\n",
              "  </div>\n",
              "  "
            ],
            "text/plain": [
              "     Unnamed: 0                         Table                    Row  \\\n",
              "0             1  application_{train|test}.csv             SK_ID_CURR   \n",
              "1             2  application_{train|test}.csv                 TARGET   \n",
              "2             5  application_{train|test}.csv     NAME_CONTRACT_TYPE   \n",
              "3             6  application_{train|test}.csv            CODE_GENDER   \n",
              "4             7  application_{train|test}.csv           FLAG_OWN_CAR   \n",
              "..          ...                           ...                    ...   \n",
              "214         217     installments_payments.csv  NUM_INSTALMENT_NUMBER   \n",
              "215         218     installments_payments.csv        DAYS_INSTALMENT   \n",
              "216         219     installments_payments.csv     DAYS_ENTRY_PAYMENT   \n",
              "217         220     installments_payments.csv         AMT_INSTALMENT   \n",
              "218         221     installments_payments.csv            AMT_PAYMENT   \n",
              "\n",
              "                                           Description  \\\n",
              "0                             ID of loan in our sample   \n",
              "1    Target variable (1 - client with payment diffi...   \n",
              "2          Identification if loan is cash or revolving   \n",
              "3                                 Gender of the client   \n",
              "4                        Flag if the client owns a car   \n",
              "..                                                 ...   \n",
              "214            On which installment we observe payment   \n",
              "215  When the installment of previous credit was su...   \n",
              "216  When was the installments of previous credit p...   \n",
              "217  What was the prescribed installment amount of ...   \n",
              "218  What the client actually paid on previous cred...   \n",
              "\n",
              "                                   Special  \n",
              "0                                      NaN  \n",
              "1                                      NaN  \n",
              "2                                      NaN  \n",
              "3                                      NaN  \n",
              "4                                      NaN  \n",
              "..                                     ...  \n",
              "214                                    NaN  \n",
              "215  time only relative to the application  \n",
              "216  time only relative to the application  \n",
              "217                                    NaN  \n",
              "218                                    NaN  \n",
              "\n",
              "[219 rows x 5 columns]"
            ]
          },
          "execution_count": 135,
          "metadata": {},
          "output_type": "execute_result"
        }
      ],
      "source": [
        "df6"
      ]
    },
    {
      "cell_type": "code",
      "execution_count": 136,
      "id": "sU7-hk5FRcvD",
      "metadata": {
        "id": "sU7-hk5FRcvD"
      },
      "outputs": [],
      "source": [
        "df_desc=df6[df6['Table']=='application_{train|test}.csv']"
      ]
    },
    {
      "cell_type": "code",
      "execution_count": 137,
      "id": "sIM8mxOuEOTH",
      "metadata": {
        "colab": {
          "base_uri": "https://localhost:8080/",
          "height": 424
        },
        "id": "sIM8mxOuEOTH",
        "outputId": "f057730a-e785-4b71-e85e-de1f5b71ff4f"
      },
      "outputs": [
        {
          "data": {
            "text/html": [
              "\n",
              "  <div id=\"df-a94caaa6-25e2-4dec-af49-ad7e57f96a83\">\n",
              "    <div class=\"colab-df-container\">\n",
              "      <div>\n",
              "<style scoped>\n",
              "    .dataframe tbody tr th:only-of-type {\n",
              "        vertical-align: middle;\n",
              "    }\n",
              "\n",
              "    .dataframe tbody tr th {\n",
              "        vertical-align: top;\n",
              "    }\n",
              "\n",
              "    .dataframe thead th {\n",
              "        text-align: right;\n",
              "    }\n",
              "</style>\n",
              "<table border=\"1\" class=\"dataframe\">\n",
              "  <thead>\n",
              "    <tr style=\"text-align: right;\">\n",
              "      <th></th>\n",
              "      <th>Unnamed: 0</th>\n",
              "      <th>Table</th>\n",
              "      <th>Row</th>\n",
              "      <th>Description</th>\n",
              "      <th>Special</th>\n",
              "    </tr>\n",
              "  </thead>\n",
              "  <tbody>\n",
              "    <tr>\n",
              "      <th>0</th>\n",
              "      <td>1</td>\n",
              "      <td>application_{train|test}.csv</td>\n",
              "      <td>SK_ID_CURR</td>\n",
              "      <td>ID of loan in our sample</td>\n",
              "      <td>NaN</td>\n",
              "    </tr>\n",
              "    <tr>\n",
              "      <th>1</th>\n",
              "      <td>2</td>\n",
              "      <td>application_{train|test}.csv</td>\n",
              "      <td>TARGET</td>\n",
              "      <td>Target variable (1 - client with payment diffi...</td>\n",
              "      <td>NaN</td>\n",
              "    </tr>\n",
              "    <tr>\n",
              "      <th>2</th>\n",
              "      <td>5</td>\n",
              "      <td>application_{train|test}.csv</td>\n",
              "      <td>NAME_CONTRACT_TYPE</td>\n",
              "      <td>Identification if loan is cash or revolving</td>\n",
              "      <td>NaN</td>\n",
              "    </tr>\n",
              "    <tr>\n",
              "      <th>3</th>\n",
              "      <td>6</td>\n",
              "      <td>application_{train|test}.csv</td>\n",
              "      <td>CODE_GENDER</td>\n",
              "      <td>Gender of the client</td>\n",
              "      <td>NaN</td>\n",
              "    </tr>\n",
              "    <tr>\n",
              "      <th>4</th>\n",
              "      <td>7</td>\n",
              "      <td>application_{train|test}.csv</td>\n",
              "      <td>FLAG_OWN_CAR</td>\n",
              "      <td>Flag if the client owns a car</td>\n",
              "      <td>NaN</td>\n",
              "    </tr>\n",
              "    <tr>\n",
              "      <th>...</th>\n",
              "      <td>...</td>\n",
              "      <td>...</td>\n",
              "      <td>...</td>\n",
              "      <td>...</td>\n",
              "      <td>...</td>\n",
              "    </tr>\n",
              "    <tr>\n",
              "      <th>117</th>\n",
              "      <td>120</td>\n",
              "      <td>application_{train|test}.csv</td>\n",
              "      <td>AMT_REQ_CREDIT_BUREAU_DAY</td>\n",
              "      <td>Number of enquiries to Credit Bureau about the...</td>\n",
              "      <td>NaN</td>\n",
              "    </tr>\n",
              "    <tr>\n",
              "      <th>118</th>\n",
              "      <td>121</td>\n",
              "      <td>application_{train|test}.csv</td>\n",
              "      <td>AMT_REQ_CREDIT_BUREAU_WEEK</td>\n",
              "      <td>Number of enquiries to Credit Bureau about the...</td>\n",
              "      <td>NaN</td>\n",
              "    </tr>\n",
              "    <tr>\n",
              "      <th>119</th>\n",
              "      <td>122</td>\n",
              "      <td>application_{train|test}.csv</td>\n",
              "      <td>AMT_REQ_CREDIT_BUREAU_MON</td>\n",
              "      <td>Number of enquiries to Credit Bureau about the...</td>\n",
              "      <td>NaN</td>\n",
              "    </tr>\n",
              "    <tr>\n",
              "      <th>120</th>\n",
              "      <td>123</td>\n",
              "      <td>application_{train|test}.csv</td>\n",
              "      <td>AMT_REQ_CREDIT_BUREAU_QRT</td>\n",
              "      <td>Number of enquiries to Credit Bureau about the...</td>\n",
              "      <td>NaN</td>\n",
              "    </tr>\n",
              "    <tr>\n",
              "      <th>121</th>\n",
              "      <td>124</td>\n",
              "      <td>application_{train|test}.csv</td>\n",
              "      <td>AMT_REQ_CREDIT_BUREAU_YEAR</td>\n",
              "      <td>Number of enquiries to Credit Bureau about the...</td>\n",
              "      <td>NaN</td>\n",
              "    </tr>\n",
              "  </tbody>\n",
              "</table>\n",
              "<p>122 rows × 5 columns</p>\n",
              "</div>\n",
              "      <button class=\"colab-df-convert\" onclick=\"convertToInteractive('df-a94caaa6-25e2-4dec-af49-ad7e57f96a83')\"\n",
              "              title=\"Convert this dataframe to an interactive table.\"\n",
              "              style=\"display:none;\">\n",
              "        \n",
              "  <svg xmlns=\"http://www.w3.org/2000/svg\" height=\"24px\"viewBox=\"0 0 24 24\"\n",
              "       width=\"24px\">\n",
              "    <path d=\"M0 0h24v24H0V0z\" fill=\"none\"/>\n",
              "    <path d=\"M18.56 5.44l.94 2.06.94-2.06 2.06-.94-2.06-.94-.94-2.06-.94 2.06-2.06.94zm-11 1L8.5 8.5l.94-2.06 2.06-.94-2.06-.94L8.5 2.5l-.94 2.06-2.06.94zm10 10l.94 2.06.94-2.06 2.06-.94-2.06-.94-.94-2.06-.94 2.06-2.06.94z\"/><path d=\"M17.41 7.96l-1.37-1.37c-.4-.4-.92-.59-1.43-.59-.52 0-1.04.2-1.43.59L10.3 9.45l-7.72 7.72c-.78.78-.78 2.05 0 2.83L4 21.41c.39.39.9.59 1.41.59.51 0 1.02-.2 1.41-.59l7.78-7.78 2.81-2.81c.8-.78.8-2.07 0-2.86zM5.41 20L4 18.59l7.72-7.72 1.47 1.35L5.41 20z\"/>\n",
              "  </svg>\n",
              "      </button>\n",
              "      \n",
              "  <style>\n",
              "    .colab-df-container {\n",
              "      display:flex;\n",
              "      flex-wrap:wrap;\n",
              "      gap: 12px;\n",
              "    }\n",
              "\n",
              "    .colab-df-convert {\n",
              "      background-color: #E8F0FE;\n",
              "      border: none;\n",
              "      border-radius: 50%;\n",
              "      cursor: pointer;\n",
              "      display: none;\n",
              "      fill: #1967D2;\n",
              "      height: 32px;\n",
              "      padding: 0 0 0 0;\n",
              "      width: 32px;\n",
              "    }\n",
              "\n",
              "    .colab-df-convert:hover {\n",
              "      background-color: #E2EBFA;\n",
              "      box-shadow: 0px 1px 2px rgba(60, 64, 67, 0.3), 0px 1px 3px 1px rgba(60, 64, 67, 0.15);\n",
              "      fill: #174EA6;\n",
              "    }\n",
              "\n",
              "    [theme=dark] .colab-df-convert {\n",
              "      background-color: #3B4455;\n",
              "      fill: #D2E3FC;\n",
              "    }\n",
              "\n",
              "    [theme=dark] .colab-df-convert:hover {\n",
              "      background-color: #434B5C;\n",
              "      box-shadow: 0px 1px 3px 1px rgba(0, 0, 0, 0.15);\n",
              "      filter: drop-shadow(0px 1px 2px rgba(0, 0, 0, 0.3));\n",
              "      fill: #FFFFFF;\n",
              "    }\n",
              "  </style>\n",
              "\n",
              "      <script>\n",
              "        const buttonEl =\n",
              "          document.querySelector('#df-a94caaa6-25e2-4dec-af49-ad7e57f96a83 button.colab-df-convert');\n",
              "        buttonEl.style.display =\n",
              "          google.colab.kernel.accessAllowed ? 'block' : 'none';\n",
              "\n",
              "        async function convertToInteractive(key) {\n",
              "          const element = document.querySelector('#df-a94caaa6-25e2-4dec-af49-ad7e57f96a83');\n",
              "          const dataTable =\n",
              "            await google.colab.kernel.invokeFunction('convertToInteractive',\n",
              "                                                     [key], {});\n",
              "          if (!dataTable) return;\n",
              "\n",
              "          const docLinkHtml = 'Like what you see? Visit the ' +\n",
              "            '<a target=\"_blank\" href=https://colab.research.google.com/notebooks/data_table.ipynb>data table notebook</a>'\n",
              "            + ' to learn more about interactive tables.';\n",
              "          element.innerHTML = '';\n",
              "          dataTable['output_type'] = 'display_data';\n",
              "          await google.colab.output.renderOutput(dataTable, element);\n",
              "          const docLink = document.createElement('div');\n",
              "          docLink.innerHTML = docLinkHtml;\n",
              "          element.appendChild(docLink);\n",
              "        }\n",
              "      </script>\n",
              "    </div>\n",
              "  </div>\n",
              "  "
            ],
            "text/plain": [
              "     Unnamed: 0                         Table                         Row  \\\n",
              "0             1  application_{train|test}.csv                  SK_ID_CURR   \n",
              "1             2  application_{train|test}.csv                      TARGET   \n",
              "2             5  application_{train|test}.csv          NAME_CONTRACT_TYPE   \n",
              "3             6  application_{train|test}.csv                 CODE_GENDER   \n",
              "4             7  application_{train|test}.csv                FLAG_OWN_CAR   \n",
              "..          ...                           ...                         ...   \n",
              "117         120  application_{train|test}.csv   AMT_REQ_CREDIT_BUREAU_DAY   \n",
              "118         121  application_{train|test}.csv  AMT_REQ_CREDIT_BUREAU_WEEK   \n",
              "119         122  application_{train|test}.csv   AMT_REQ_CREDIT_BUREAU_MON   \n",
              "120         123  application_{train|test}.csv   AMT_REQ_CREDIT_BUREAU_QRT   \n",
              "121         124  application_{train|test}.csv  AMT_REQ_CREDIT_BUREAU_YEAR   \n",
              "\n",
              "                                           Description Special  \n",
              "0                             ID of loan in our sample     NaN  \n",
              "1    Target variable (1 - client with payment diffi...     NaN  \n",
              "2          Identification if loan is cash or revolving     NaN  \n",
              "3                                 Gender of the client     NaN  \n",
              "4                        Flag if the client owns a car     NaN  \n",
              "..                                                 ...     ...  \n",
              "117  Number of enquiries to Credit Bureau about the...     NaN  \n",
              "118  Number of enquiries to Credit Bureau about the...     NaN  \n",
              "119  Number of enquiries to Credit Bureau about the...     NaN  \n",
              "120  Number of enquiries to Credit Bureau about the...     NaN  \n",
              "121  Number of enquiries to Credit Bureau about the...     NaN  \n",
              "\n",
              "[122 rows x 5 columns]"
            ]
          },
          "execution_count": 137,
          "metadata": {},
          "output_type": "execute_result"
        }
      ],
      "source": [
        "df_desc"
      ]
    },
    {
      "cell_type": "code",
      "execution_count": 138,
      "id": "aac62acf",
      "metadata": {
        "colab": {
          "base_uri": "https://localhost:8080/"
        },
        "id": "aac62acf",
        "outputId": "c875f559-e4e8-431f-d263-7f1e2ec6ec44"
      },
      "outputs": [
        {
          "name": "stdout",
          "output_type": "stream",
          "text": [
            "<class 'pandas.core.frame.DataFrame'>\n",
            "RangeIndex: 307511 entries, 0 to 307510\n",
            "Data columns (total 122 columns):\n",
            " #    Column                        Dtype  \n",
            "---   ------                        -----  \n",
            " 0    SK_ID_CURR                    int64  \n",
            " 1    TARGET                        int64  \n",
            " 2    NAME_CONTRACT_TYPE            object \n",
            " 3    CODE_GENDER                   object \n",
            " 4    FLAG_OWN_CAR                  object \n",
            " 5    FLAG_OWN_REALTY               object \n",
            " 6    CNT_CHILDREN                  int64  \n",
            " 7    AMT_INCOME_TOTAL              float64\n",
            " 8    AMT_CREDIT                    float64\n",
            " 9    AMT_ANNUITY                   float64\n",
            " 10   AMT_GOODS_PRICE               float64\n",
            " 11   NAME_TYPE_SUITE               object \n",
            " 12   NAME_INCOME_TYPE              object \n",
            " 13   NAME_EDUCATION_TYPE           object \n",
            " 14   NAME_FAMILY_STATUS            object \n",
            " 15   NAME_HOUSING_TYPE             object \n",
            " 16   REGION_POPULATION_RELATIVE    float64\n",
            " 17   DAYS_BIRTH                    int64  \n",
            " 18   DAYS_EMPLOYED                 int64  \n",
            " 19   DAYS_REGISTRATION             float64\n",
            " 20   DAYS_ID_PUBLISH               int64  \n",
            " 21   OWN_CAR_AGE                   float64\n",
            " 22   FLAG_MOBIL                    int64  \n",
            " 23   FLAG_EMP_PHONE                int64  \n",
            " 24   FLAG_WORK_PHONE               int64  \n",
            " 25   FLAG_CONT_MOBILE              int64  \n",
            " 26   FLAG_PHONE                    int64  \n",
            " 27   FLAG_EMAIL                    int64  \n",
            " 28   OCCUPATION_TYPE               object \n",
            " 29   CNT_FAM_MEMBERS               float64\n",
            " 30   REGION_RATING_CLIENT          int64  \n",
            " 31   REGION_RATING_CLIENT_W_CITY   int64  \n",
            " 32   WEEKDAY_APPR_PROCESS_START    object \n",
            " 33   HOUR_APPR_PROCESS_START       int64  \n",
            " 34   REG_REGION_NOT_LIVE_REGION    int64  \n",
            " 35   REG_REGION_NOT_WORK_REGION    int64  \n",
            " 36   LIVE_REGION_NOT_WORK_REGION   int64  \n",
            " 37   REG_CITY_NOT_LIVE_CITY        int64  \n",
            " 38   REG_CITY_NOT_WORK_CITY        int64  \n",
            " 39   LIVE_CITY_NOT_WORK_CITY       int64  \n",
            " 40   ORGANIZATION_TYPE             object \n",
            " 41   EXT_SOURCE_1                  float64\n",
            " 42   EXT_SOURCE_2                  float64\n",
            " 43   EXT_SOURCE_3                  float64\n",
            " 44   APARTMENTS_AVG                float64\n",
            " 45   BASEMENTAREA_AVG              float64\n",
            " 46   YEARS_BEGINEXPLUATATION_AVG   float64\n",
            " 47   YEARS_BUILD_AVG               float64\n",
            " 48   COMMONAREA_AVG                float64\n",
            " 49   ELEVATORS_AVG                 float64\n",
            " 50   ENTRANCES_AVG                 float64\n",
            " 51   FLOORSMAX_AVG                 float64\n",
            " 52   FLOORSMIN_AVG                 float64\n",
            " 53   LANDAREA_AVG                  float64\n",
            " 54   LIVINGAPARTMENTS_AVG          float64\n",
            " 55   LIVINGAREA_AVG                float64\n",
            " 56   NONLIVINGAPARTMENTS_AVG       float64\n",
            " 57   NONLIVINGAREA_AVG             float64\n",
            " 58   APARTMENTS_MODE               float64\n",
            " 59   BASEMENTAREA_MODE             float64\n",
            " 60   YEARS_BEGINEXPLUATATION_MODE  float64\n",
            " 61   YEARS_BUILD_MODE              float64\n",
            " 62   COMMONAREA_MODE               float64\n",
            " 63   ELEVATORS_MODE                float64\n",
            " 64   ENTRANCES_MODE                float64\n",
            " 65   FLOORSMAX_MODE                float64\n",
            " 66   FLOORSMIN_MODE                float64\n",
            " 67   LANDAREA_MODE                 float64\n",
            " 68   LIVINGAPARTMENTS_MODE         float64\n",
            " 69   LIVINGAREA_MODE               float64\n",
            " 70   NONLIVINGAPARTMENTS_MODE      float64\n",
            " 71   NONLIVINGAREA_MODE            float64\n",
            " 72   APARTMENTS_MEDI               float64\n",
            " 73   BASEMENTAREA_MEDI             float64\n",
            " 74   YEARS_BEGINEXPLUATATION_MEDI  float64\n",
            " 75   YEARS_BUILD_MEDI              float64\n",
            " 76   COMMONAREA_MEDI               float64\n",
            " 77   ELEVATORS_MEDI                float64\n",
            " 78   ENTRANCES_MEDI                float64\n",
            " 79   FLOORSMAX_MEDI                float64\n",
            " 80   FLOORSMIN_MEDI                float64\n",
            " 81   LANDAREA_MEDI                 float64\n",
            " 82   LIVINGAPARTMENTS_MEDI         float64\n",
            " 83   LIVINGAREA_MEDI               float64\n",
            " 84   NONLIVINGAPARTMENTS_MEDI      float64\n",
            " 85   NONLIVINGAREA_MEDI            float64\n",
            " 86   FONDKAPREMONT_MODE            object \n",
            " 87   HOUSETYPE_MODE                object \n",
            " 88   TOTALAREA_MODE                float64\n",
            " 89   WALLSMATERIAL_MODE            object \n",
            " 90   EMERGENCYSTATE_MODE           object \n",
            " 91   OBS_30_CNT_SOCIAL_CIRCLE      float64\n",
            " 92   DEF_30_CNT_SOCIAL_CIRCLE      float64\n",
            " 93   OBS_60_CNT_SOCIAL_CIRCLE      float64\n",
            " 94   DEF_60_CNT_SOCIAL_CIRCLE      float64\n",
            " 95   DAYS_LAST_PHONE_CHANGE        float64\n",
            " 96   FLAG_DOCUMENT_2               int64  \n",
            " 97   FLAG_DOCUMENT_3               int64  \n",
            " 98   FLAG_DOCUMENT_4               int64  \n",
            " 99   FLAG_DOCUMENT_5               int64  \n",
            " 100  FLAG_DOCUMENT_6               int64  \n",
            " 101  FLAG_DOCUMENT_7               int64  \n",
            " 102  FLAG_DOCUMENT_8               int64  \n",
            " 103  FLAG_DOCUMENT_9               int64  \n",
            " 104  FLAG_DOCUMENT_10              int64  \n",
            " 105  FLAG_DOCUMENT_11              int64  \n",
            " 106  FLAG_DOCUMENT_12              int64  \n",
            " 107  FLAG_DOCUMENT_13              int64  \n",
            " 108  FLAG_DOCUMENT_14              int64  \n",
            " 109  FLAG_DOCUMENT_15              int64  \n",
            " 110  FLAG_DOCUMENT_16              int64  \n",
            " 111  FLAG_DOCUMENT_17              int64  \n",
            " 112  FLAG_DOCUMENT_18              int64  \n",
            " 113  FLAG_DOCUMENT_19              int64  \n",
            " 114  FLAG_DOCUMENT_20              int64  \n",
            " 115  FLAG_DOCUMENT_21              int64  \n",
            " 116  AMT_REQ_CREDIT_BUREAU_HOUR    float64\n",
            " 117  AMT_REQ_CREDIT_BUREAU_DAY     float64\n",
            " 118  AMT_REQ_CREDIT_BUREAU_WEEK    float64\n",
            " 119  AMT_REQ_CREDIT_BUREAU_MON     float64\n",
            " 120  AMT_REQ_CREDIT_BUREAU_QRT     float64\n",
            " 121  AMT_REQ_CREDIT_BUREAU_YEAR    float64\n",
            "dtypes: float64(65), int64(41), object(16)\n",
            "memory usage: 286.2+ MB\n"
          ]
        }
      ],
      "source": [
        "df1.info(verbose=True)"
      ]
    },
    {
      "cell_type": "code",
      "execution_count": 139,
      "id": "Af2FGJvXAmWK",
      "metadata": {
        "colab": {
          "base_uri": "https://localhost:8080/",
          "height": 394
        },
        "id": "Af2FGJvXAmWK",
        "outputId": "6ff4d6d1-8236-446d-b77b-778ba671727d"
      },
      "outputs": [
        {
          "data": {
            "text/html": [
              "\n",
              "  <div id=\"df-73f09b4f-d526-4d7d-84da-cf95a2ccc7dd\">\n",
              "    <div class=\"colab-df-container\">\n",
              "      <div>\n",
              "<style scoped>\n",
              "    .dataframe tbody tr th:only-of-type {\n",
              "        vertical-align: middle;\n",
              "    }\n",
              "\n",
              "    .dataframe tbody tr th {\n",
              "        vertical-align: top;\n",
              "    }\n",
              "\n",
              "    .dataframe thead th {\n",
              "        text-align: right;\n",
              "    }\n",
              "</style>\n",
              "<table border=\"1\" class=\"dataframe\">\n",
              "  <thead>\n",
              "    <tr style=\"text-align: right;\">\n",
              "      <th></th>\n",
              "      <th>SK_ID_CURR</th>\n",
              "      <th>TARGET</th>\n",
              "      <th>CNT_CHILDREN</th>\n",
              "      <th>AMT_INCOME_TOTAL</th>\n",
              "      <th>AMT_CREDIT</th>\n",
              "      <th>AMT_ANNUITY</th>\n",
              "      <th>AMT_GOODS_PRICE</th>\n",
              "      <th>REGION_POPULATION_RELATIVE</th>\n",
              "      <th>DAYS_BIRTH</th>\n",
              "      <th>DAYS_EMPLOYED</th>\n",
              "      <th>...</th>\n",
              "      <th>FLAG_DOCUMENT_18</th>\n",
              "      <th>FLAG_DOCUMENT_19</th>\n",
              "      <th>FLAG_DOCUMENT_20</th>\n",
              "      <th>FLAG_DOCUMENT_21</th>\n",
              "      <th>AMT_REQ_CREDIT_BUREAU_HOUR</th>\n",
              "      <th>AMT_REQ_CREDIT_BUREAU_DAY</th>\n",
              "      <th>AMT_REQ_CREDIT_BUREAU_WEEK</th>\n",
              "      <th>AMT_REQ_CREDIT_BUREAU_MON</th>\n",
              "      <th>AMT_REQ_CREDIT_BUREAU_QRT</th>\n",
              "      <th>AMT_REQ_CREDIT_BUREAU_YEAR</th>\n",
              "    </tr>\n",
              "  </thead>\n",
              "  <tbody>\n",
              "    <tr>\n",
              "      <th>count</th>\n",
              "      <td>307511.000000</td>\n",
              "      <td>307511.000000</td>\n",
              "      <td>307511.000000</td>\n",
              "      <td>3.075110e+05</td>\n",
              "      <td>3.075110e+05</td>\n",
              "      <td>307499.000000</td>\n",
              "      <td>3.072330e+05</td>\n",
              "      <td>307511.000000</td>\n",
              "      <td>307511.000000</td>\n",
              "      <td>307511.000000</td>\n",
              "      <td>...</td>\n",
              "      <td>307511.000000</td>\n",
              "      <td>307511.000000</td>\n",
              "      <td>307511.000000</td>\n",
              "      <td>307511.000000</td>\n",
              "      <td>265992.000000</td>\n",
              "      <td>265992.000000</td>\n",
              "      <td>265992.000000</td>\n",
              "      <td>265992.000000</td>\n",
              "      <td>265992.000000</td>\n",
              "      <td>265992.000000</td>\n",
              "    </tr>\n",
              "    <tr>\n",
              "      <th>mean</th>\n",
              "      <td>278180.518577</td>\n",
              "      <td>0.080729</td>\n",
              "      <td>0.417052</td>\n",
              "      <td>1.687979e+05</td>\n",
              "      <td>5.990260e+05</td>\n",
              "      <td>27108.573909</td>\n",
              "      <td>5.383962e+05</td>\n",
              "      <td>0.020868</td>\n",
              "      <td>-16036.995067</td>\n",
              "      <td>63815.045904</td>\n",
              "      <td>...</td>\n",
              "      <td>0.008130</td>\n",
              "      <td>0.000595</td>\n",
              "      <td>0.000507</td>\n",
              "      <td>0.000335</td>\n",
              "      <td>0.006402</td>\n",
              "      <td>0.007000</td>\n",
              "      <td>0.034362</td>\n",
              "      <td>0.267395</td>\n",
              "      <td>0.265474</td>\n",
              "      <td>1.899974</td>\n",
              "    </tr>\n",
              "    <tr>\n",
              "      <th>std</th>\n",
              "      <td>102790.175348</td>\n",
              "      <td>0.272419</td>\n",
              "      <td>0.722121</td>\n",
              "      <td>2.371231e+05</td>\n",
              "      <td>4.024908e+05</td>\n",
              "      <td>14493.737315</td>\n",
              "      <td>3.694465e+05</td>\n",
              "      <td>0.013831</td>\n",
              "      <td>4363.988632</td>\n",
              "      <td>141275.766519</td>\n",
              "      <td>...</td>\n",
              "      <td>0.089798</td>\n",
              "      <td>0.024387</td>\n",
              "      <td>0.022518</td>\n",
              "      <td>0.018299</td>\n",
              "      <td>0.083849</td>\n",
              "      <td>0.110757</td>\n",
              "      <td>0.204685</td>\n",
              "      <td>0.916002</td>\n",
              "      <td>0.794056</td>\n",
              "      <td>1.869295</td>\n",
              "    </tr>\n",
              "    <tr>\n",
              "      <th>min</th>\n",
              "      <td>100002.000000</td>\n",
              "      <td>0.000000</td>\n",
              "      <td>0.000000</td>\n",
              "      <td>2.565000e+04</td>\n",
              "      <td>4.500000e+04</td>\n",
              "      <td>1615.500000</td>\n",
              "      <td>4.050000e+04</td>\n",
              "      <td>0.000290</td>\n",
              "      <td>-25229.000000</td>\n",
              "      <td>-17912.000000</td>\n",
              "      <td>...</td>\n",
              "      <td>0.000000</td>\n",
              "      <td>0.000000</td>\n",
              "      <td>0.000000</td>\n",
              "      <td>0.000000</td>\n",
              "      <td>0.000000</td>\n",
              "      <td>0.000000</td>\n",
              "      <td>0.000000</td>\n",
              "      <td>0.000000</td>\n",
              "      <td>0.000000</td>\n",
              "      <td>0.000000</td>\n",
              "    </tr>\n",
              "    <tr>\n",
              "      <th>25%</th>\n",
              "      <td>189145.500000</td>\n",
              "      <td>0.000000</td>\n",
              "      <td>0.000000</td>\n",
              "      <td>1.125000e+05</td>\n",
              "      <td>2.700000e+05</td>\n",
              "      <td>16524.000000</td>\n",
              "      <td>2.385000e+05</td>\n",
              "      <td>0.010006</td>\n",
              "      <td>-19682.000000</td>\n",
              "      <td>-2760.000000</td>\n",
              "      <td>...</td>\n",
              "      <td>0.000000</td>\n",
              "      <td>0.000000</td>\n",
              "      <td>0.000000</td>\n",
              "      <td>0.000000</td>\n",
              "      <td>0.000000</td>\n",
              "      <td>0.000000</td>\n",
              "      <td>0.000000</td>\n",
              "      <td>0.000000</td>\n",
              "      <td>0.000000</td>\n",
              "      <td>0.000000</td>\n",
              "    </tr>\n",
              "    <tr>\n",
              "      <th>50%</th>\n",
              "      <td>278202.000000</td>\n",
              "      <td>0.000000</td>\n",
              "      <td>0.000000</td>\n",
              "      <td>1.471500e+05</td>\n",
              "      <td>5.135310e+05</td>\n",
              "      <td>24903.000000</td>\n",
              "      <td>4.500000e+05</td>\n",
              "      <td>0.018850</td>\n",
              "      <td>-15750.000000</td>\n",
              "      <td>-1213.000000</td>\n",
              "      <td>...</td>\n",
              "      <td>0.000000</td>\n",
              "      <td>0.000000</td>\n",
              "      <td>0.000000</td>\n",
              "      <td>0.000000</td>\n",
              "      <td>0.000000</td>\n",
              "      <td>0.000000</td>\n",
              "      <td>0.000000</td>\n",
              "      <td>0.000000</td>\n",
              "      <td>0.000000</td>\n",
              "      <td>1.000000</td>\n",
              "    </tr>\n",
              "    <tr>\n",
              "      <th>75%</th>\n",
              "      <td>367142.500000</td>\n",
              "      <td>0.000000</td>\n",
              "      <td>1.000000</td>\n",
              "      <td>2.025000e+05</td>\n",
              "      <td>8.086500e+05</td>\n",
              "      <td>34596.000000</td>\n",
              "      <td>6.795000e+05</td>\n",
              "      <td>0.028663</td>\n",
              "      <td>-12413.000000</td>\n",
              "      <td>-289.000000</td>\n",
              "      <td>...</td>\n",
              "      <td>0.000000</td>\n",
              "      <td>0.000000</td>\n",
              "      <td>0.000000</td>\n",
              "      <td>0.000000</td>\n",
              "      <td>0.000000</td>\n",
              "      <td>0.000000</td>\n",
              "      <td>0.000000</td>\n",
              "      <td>0.000000</td>\n",
              "      <td>0.000000</td>\n",
              "      <td>3.000000</td>\n",
              "    </tr>\n",
              "    <tr>\n",
              "      <th>max</th>\n",
              "      <td>456255.000000</td>\n",
              "      <td>1.000000</td>\n",
              "      <td>19.000000</td>\n",
              "      <td>1.170000e+08</td>\n",
              "      <td>4.050000e+06</td>\n",
              "      <td>258025.500000</td>\n",
              "      <td>4.050000e+06</td>\n",
              "      <td>0.072508</td>\n",
              "      <td>-7489.000000</td>\n",
              "      <td>365243.000000</td>\n",
              "      <td>...</td>\n",
              "      <td>1.000000</td>\n",
              "      <td>1.000000</td>\n",
              "      <td>1.000000</td>\n",
              "      <td>1.000000</td>\n",
              "      <td>4.000000</td>\n",
              "      <td>9.000000</td>\n",
              "      <td>8.000000</td>\n",
              "      <td>27.000000</td>\n",
              "      <td>261.000000</td>\n",
              "      <td>25.000000</td>\n",
              "    </tr>\n",
              "  </tbody>\n",
              "</table>\n",
              "<p>8 rows × 106 columns</p>\n",
              "</div>\n",
              "      <button class=\"colab-df-convert\" onclick=\"convertToInteractive('df-73f09b4f-d526-4d7d-84da-cf95a2ccc7dd')\"\n",
              "              title=\"Convert this dataframe to an interactive table.\"\n",
              "              style=\"display:none;\">\n",
              "        \n",
              "  <svg xmlns=\"http://www.w3.org/2000/svg\" height=\"24px\"viewBox=\"0 0 24 24\"\n",
              "       width=\"24px\">\n",
              "    <path d=\"M0 0h24v24H0V0z\" fill=\"none\"/>\n",
              "    <path d=\"M18.56 5.44l.94 2.06.94-2.06 2.06-.94-2.06-.94-.94-2.06-.94 2.06-2.06.94zm-11 1L8.5 8.5l.94-2.06 2.06-.94-2.06-.94L8.5 2.5l-.94 2.06-2.06.94zm10 10l.94 2.06.94-2.06 2.06-.94-2.06-.94-.94-2.06-.94 2.06-2.06.94z\"/><path d=\"M17.41 7.96l-1.37-1.37c-.4-.4-.92-.59-1.43-.59-.52 0-1.04.2-1.43.59L10.3 9.45l-7.72 7.72c-.78.78-.78 2.05 0 2.83L4 21.41c.39.39.9.59 1.41.59.51 0 1.02-.2 1.41-.59l7.78-7.78 2.81-2.81c.8-.78.8-2.07 0-2.86zM5.41 20L4 18.59l7.72-7.72 1.47 1.35L5.41 20z\"/>\n",
              "  </svg>\n",
              "      </button>\n",
              "      \n",
              "  <style>\n",
              "    .colab-df-container {\n",
              "      display:flex;\n",
              "      flex-wrap:wrap;\n",
              "      gap: 12px;\n",
              "    }\n",
              "\n",
              "    .colab-df-convert {\n",
              "      background-color: #E8F0FE;\n",
              "      border: none;\n",
              "      border-radius: 50%;\n",
              "      cursor: pointer;\n",
              "      display: none;\n",
              "      fill: #1967D2;\n",
              "      height: 32px;\n",
              "      padding: 0 0 0 0;\n",
              "      width: 32px;\n",
              "    }\n",
              "\n",
              "    .colab-df-convert:hover {\n",
              "      background-color: #E2EBFA;\n",
              "      box-shadow: 0px 1px 2px rgba(60, 64, 67, 0.3), 0px 1px 3px 1px rgba(60, 64, 67, 0.15);\n",
              "      fill: #174EA6;\n",
              "    }\n",
              "\n",
              "    [theme=dark] .colab-df-convert {\n",
              "      background-color: #3B4455;\n",
              "      fill: #D2E3FC;\n",
              "    }\n",
              "\n",
              "    [theme=dark] .colab-df-convert:hover {\n",
              "      background-color: #434B5C;\n",
              "      box-shadow: 0px 1px 3px 1px rgba(0, 0, 0, 0.15);\n",
              "      filter: drop-shadow(0px 1px 2px rgba(0, 0, 0, 0.3));\n",
              "      fill: #FFFFFF;\n",
              "    }\n",
              "  </style>\n",
              "\n",
              "      <script>\n",
              "        const buttonEl =\n",
              "          document.querySelector('#df-73f09b4f-d526-4d7d-84da-cf95a2ccc7dd button.colab-df-convert');\n",
              "        buttonEl.style.display =\n",
              "          google.colab.kernel.accessAllowed ? 'block' : 'none';\n",
              "\n",
              "        async function convertToInteractive(key) {\n",
              "          const element = document.querySelector('#df-73f09b4f-d526-4d7d-84da-cf95a2ccc7dd');\n",
              "          const dataTable =\n",
              "            await google.colab.kernel.invokeFunction('convertToInteractive',\n",
              "                                                     [key], {});\n",
              "          if (!dataTable) return;\n",
              "\n",
              "          const docLinkHtml = 'Like what you see? Visit the ' +\n",
              "            '<a target=\"_blank\" href=https://colab.research.google.com/notebooks/data_table.ipynb>data table notebook</a>'\n",
              "            + ' to learn more about interactive tables.';\n",
              "          element.innerHTML = '';\n",
              "          dataTable['output_type'] = 'display_data';\n",
              "          await google.colab.output.renderOutput(dataTable, element);\n",
              "          const docLink = document.createElement('div');\n",
              "          docLink.innerHTML = docLinkHtml;\n",
              "          element.appendChild(docLink);\n",
              "        }\n",
              "      </script>\n",
              "    </div>\n",
              "  </div>\n",
              "  "
            ],
            "text/plain": [
              "          SK_ID_CURR         TARGET   CNT_CHILDREN  AMT_INCOME_TOTAL  \\\n",
              "count  307511.000000  307511.000000  307511.000000      3.075110e+05   \n",
              "mean   278180.518577       0.080729       0.417052      1.687979e+05   \n",
              "std    102790.175348       0.272419       0.722121      2.371231e+05   \n",
              "min    100002.000000       0.000000       0.000000      2.565000e+04   \n",
              "25%    189145.500000       0.000000       0.000000      1.125000e+05   \n",
              "50%    278202.000000       0.000000       0.000000      1.471500e+05   \n",
              "75%    367142.500000       0.000000       1.000000      2.025000e+05   \n",
              "max    456255.000000       1.000000      19.000000      1.170000e+08   \n",
              "\n",
              "         AMT_CREDIT    AMT_ANNUITY  AMT_GOODS_PRICE  \\\n",
              "count  3.075110e+05  307499.000000     3.072330e+05   \n",
              "mean   5.990260e+05   27108.573909     5.383962e+05   \n",
              "std    4.024908e+05   14493.737315     3.694465e+05   \n",
              "min    4.500000e+04    1615.500000     4.050000e+04   \n",
              "25%    2.700000e+05   16524.000000     2.385000e+05   \n",
              "50%    5.135310e+05   24903.000000     4.500000e+05   \n",
              "75%    8.086500e+05   34596.000000     6.795000e+05   \n",
              "max    4.050000e+06  258025.500000     4.050000e+06   \n",
              "\n",
              "       REGION_POPULATION_RELATIVE     DAYS_BIRTH  DAYS_EMPLOYED  ...  \\\n",
              "count               307511.000000  307511.000000  307511.000000  ...   \n",
              "mean                     0.020868  -16036.995067   63815.045904  ...   \n",
              "std                      0.013831    4363.988632  141275.766519  ...   \n",
              "min                      0.000290  -25229.000000  -17912.000000  ...   \n",
              "25%                      0.010006  -19682.000000   -2760.000000  ...   \n",
              "50%                      0.018850  -15750.000000   -1213.000000  ...   \n",
              "75%                      0.028663  -12413.000000    -289.000000  ...   \n",
              "max                      0.072508   -7489.000000  365243.000000  ...   \n",
              "\n",
              "       FLAG_DOCUMENT_18  FLAG_DOCUMENT_19  FLAG_DOCUMENT_20  FLAG_DOCUMENT_21  \\\n",
              "count     307511.000000     307511.000000     307511.000000     307511.000000   \n",
              "mean           0.008130          0.000595          0.000507          0.000335   \n",
              "std            0.089798          0.024387          0.022518          0.018299   \n",
              "min            0.000000          0.000000          0.000000          0.000000   \n",
              "25%            0.000000          0.000000          0.000000          0.000000   \n",
              "50%            0.000000          0.000000          0.000000          0.000000   \n",
              "75%            0.000000          0.000000          0.000000          0.000000   \n",
              "max            1.000000          1.000000          1.000000          1.000000   \n",
              "\n",
              "       AMT_REQ_CREDIT_BUREAU_HOUR  AMT_REQ_CREDIT_BUREAU_DAY  \\\n",
              "count               265992.000000              265992.000000   \n",
              "mean                     0.006402                   0.007000   \n",
              "std                      0.083849                   0.110757   \n",
              "min                      0.000000                   0.000000   \n",
              "25%                      0.000000                   0.000000   \n",
              "50%                      0.000000                   0.000000   \n",
              "75%                      0.000000                   0.000000   \n",
              "max                      4.000000                   9.000000   \n",
              "\n",
              "       AMT_REQ_CREDIT_BUREAU_WEEK  AMT_REQ_CREDIT_BUREAU_MON  \\\n",
              "count               265992.000000              265992.000000   \n",
              "mean                     0.034362                   0.267395   \n",
              "std                      0.204685                   0.916002   \n",
              "min                      0.000000                   0.000000   \n",
              "25%                      0.000000                   0.000000   \n",
              "50%                      0.000000                   0.000000   \n",
              "75%                      0.000000                   0.000000   \n",
              "max                      8.000000                  27.000000   \n",
              "\n",
              "       AMT_REQ_CREDIT_BUREAU_QRT  AMT_REQ_CREDIT_BUREAU_YEAR  \n",
              "count              265992.000000               265992.000000  \n",
              "mean                    0.265474                    1.899974  \n",
              "std                     0.794056                    1.869295  \n",
              "min                     0.000000                    0.000000  \n",
              "25%                     0.000000                    0.000000  \n",
              "50%                     0.000000                    1.000000  \n",
              "75%                     0.000000                    3.000000  \n",
              "max                   261.000000                   25.000000  \n",
              "\n",
              "[8 rows x 106 columns]"
            ]
          },
          "execution_count": 139,
          "metadata": {},
          "output_type": "execute_result"
        }
      ],
      "source": [
        "df1.describe()"
      ]
    },
    {
      "cell_type": "code",
      "execution_count": 139,
      "id": "EzIE4turp453",
      "metadata": {
        "id": "EzIE4turp453"
      },
      "outputs": [],
      "source": []
    },
    {
      "attachments": {},
      "cell_type": "markdown",
      "id": "jZnAEluPieNC",
      "metadata": {
        "id": "jZnAEluPieNC"
      },
      "source": []
    },
    {
      "attachments": {},
      "cell_type": "markdown",
      "id": "hUgD2a3kgjio",
      "metadata": {
        "id": "hUgD2a3kgjio"
      },
      "source": [
        "# Fitur Engineering"
      ]
    },
    {
      "cell_type": "code",
      "execution_count": 140,
      "id": "wqHPX5tQIc87",
      "metadata": {
        "id": "wqHPX5tQIc87"
      },
      "outputs": [],
      "source": [
        "cat_cols=df1.select_dtypes(include='object').columns.tolist()\n",
        "num_cols=df1.select_dtypes(include=['int','float']).columns.tolist()"
      ]
    },
    {
      "cell_type": "code",
      "execution_count": 141,
      "id": "LBumM_ORaz0o",
      "metadata": {
        "colab": {
          "base_uri": "https://localhost:8080/",
          "height": 551
        },
        "id": "LBumM_ORaz0o",
        "outputId": "34dcf11d-b41a-40d9-dd45-0785481b6ad7"
      },
      "outputs": [
        {
          "data": {
            "text/html": [
              "\n",
              "  <div id=\"df-71588ca9-a802-450f-b98c-95099f5e440c\">\n",
              "    <div class=\"colab-df-container\">\n",
              "      <div>\n",
              "<style scoped>\n",
              "    .dataframe tbody tr th:only-of-type {\n",
              "        vertical-align: middle;\n",
              "    }\n",
              "\n",
              "    .dataframe tbody tr th {\n",
              "        vertical-align: top;\n",
              "    }\n",
              "\n",
              "    .dataframe thead th {\n",
              "        text-align: right;\n",
              "    }\n",
              "</style>\n",
              "<table border=\"1\" class=\"dataframe\">\n",
              "  <thead>\n",
              "    <tr style=\"text-align: right;\">\n",
              "      <th></th>\n",
              "      <th>fitur</th>\n",
              "      <th>nuniq</th>\n",
              "      <th>uniq</th>\n",
              "    </tr>\n",
              "  </thead>\n",
              "  <tbody>\n",
              "    <tr>\n",
              "      <th>NAME_CONTRACT_TYPE</th>\n",
              "      <td>NAME_CONTRACT_TYPE</td>\n",
              "      <td>2</td>\n",
              "      <td>[Cash loans, Revolving loans]</td>\n",
              "    </tr>\n",
              "    <tr>\n",
              "      <th>CODE_GENDER</th>\n",
              "      <td>CODE_GENDER</td>\n",
              "      <td>3</td>\n",
              "      <td>[M, F, XNA]</td>\n",
              "    </tr>\n",
              "    <tr>\n",
              "      <th>FLAG_OWN_CAR</th>\n",
              "      <td>FLAG_OWN_CAR</td>\n",
              "      <td>2</td>\n",
              "      <td>[N, Y]</td>\n",
              "    </tr>\n",
              "    <tr>\n",
              "      <th>FLAG_OWN_REALTY</th>\n",
              "      <td>FLAG_OWN_REALTY</td>\n",
              "      <td>2</td>\n",
              "      <td>[Y, N]</td>\n",
              "    </tr>\n",
              "    <tr>\n",
              "      <th>NAME_TYPE_SUITE</th>\n",
              "      <td>NAME_TYPE_SUITE</td>\n",
              "      <td>7</td>\n",
              "      <td>[Unaccompanied, Family, Spouse, partner, Child...</td>\n",
              "    </tr>\n",
              "    <tr>\n",
              "      <th>NAME_INCOME_TYPE</th>\n",
              "      <td>NAME_INCOME_TYPE</td>\n",
              "      <td>8</td>\n",
              "      <td>[Working, State servant, Commercial associate,...</td>\n",
              "    </tr>\n",
              "    <tr>\n",
              "      <th>NAME_EDUCATION_TYPE</th>\n",
              "      <td>NAME_EDUCATION_TYPE</td>\n",
              "      <td>5</td>\n",
              "      <td>[Secondary / secondary special, Higher educati...</td>\n",
              "    </tr>\n",
              "    <tr>\n",
              "      <th>NAME_FAMILY_STATUS</th>\n",
              "      <td>NAME_FAMILY_STATUS</td>\n",
              "      <td>6</td>\n",
              "      <td>[Single / not married, Married, Civil marriage...</td>\n",
              "    </tr>\n",
              "    <tr>\n",
              "      <th>NAME_HOUSING_TYPE</th>\n",
              "      <td>NAME_HOUSING_TYPE</td>\n",
              "      <td>6</td>\n",
              "      <td>[House / apartment, Rented apartment, With par...</td>\n",
              "    </tr>\n",
              "    <tr>\n",
              "      <th>OCCUPATION_TYPE</th>\n",
              "      <td>OCCUPATION_TYPE</td>\n",
              "      <td>18</td>\n",
              "      <td>[Laborers, Core staff, Accountants, Managers, ...</td>\n",
              "    </tr>\n",
              "    <tr>\n",
              "      <th>WEEKDAY_APPR_PROCESS_START</th>\n",
              "      <td>WEEKDAY_APPR_PROCESS_START</td>\n",
              "      <td>7</td>\n",
              "      <td>[WEDNESDAY, MONDAY, THURSDAY, SUNDAY, SATURDAY...</td>\n",
              "    </tr>\n",
              "    <tr>\n",
              "      <th>ORGANIZATION_TYPE</th>\n",
              "      <td>ORGANIZATION_TYPE</td>\n",
              "      <td>58</td>\n",
              "      <td>[Business Entity Type 3, School, Government, R...</td>\n",
              "    </tr>\n",
              "    <tr>\n",
              "      <th>FONDKAPREMONT_MODE</th>\n",
              "      <td>FONDKAPREMONT_MODE</td>\n",
              "      <td>4</td>\n",
              "      <td>[reg oper account, nan, org spec account, reg ...</td>\n",
              "    </tr>\n",
              "    <tr>\n",
              "      <th>HOUSETYPE_MODE</th>\n",
              "      <td>HOUSETYPE_MODE</td>\n",
              "      <td>3</td>\n",
              "      <td>[block of flats, nan, terraced house, specific...</td>\n",
              "    </tr>\n",
              "    <tr>\n",
              "      <th>WALLSMATERIAL_MODE</th>\n",
              "      <td>WALLSMATERIAL_MODE</td>\n",
              "      <td>7</td>\n",
              "      <td>[Stone, brick, Block, nan, Panel, Mixed, Woode...</td>\n",
              "    </tr>\n",
              "    <tr>\n",
              "      <th>EMERGENCYSTATE_MODE</th>\n",
              "      <td>EMERGENCYSTATE_MODE</td>\n",
              "      <td>2</td>\n",
              "      <td>[No, nan, Yes]</td>\n",
              "    </tr>\n",
              "  </tbody>\n",
              "</table>\n",
              "</div>\n",
              "      <button class=\"colab-df-convert\" onclick=\"convertToInteractive('df-71588ca9-a802-450f-b98c-95099f5e440c')\"\n",
              "              title=\"Convert this dataframe to an interactive table.\"\n",
              "              style=\"display:none;\">\n",
              "        \n",
              "  <svg xmlns=\"http://www.w3.org/2000/svg\" height=\"24px\"viewBox=\"0 0 24 24\"\n",
              "       width=\"24px\">\n",
              "    <path d=\"M0 0h24v24H0V0z\" fill=\"none\"/>\n",
              "    <path d=\"M18.56 5.44l.94 2.06.94-2.06 2.06-.94-2.06-.94-.94-2.06-.94 2.06-2.06.94zm-11 1L8.5 8.5l.94-2.06 2.06-.94-2.06-.94L8.5 2.5l-.94 2.06-2.06.94zm10 10l.94 2.06.94-2.06 2.06-.94-2.06-.94-.94-2.06-.94 2.06-2.06.94z\"/><path d=\"M17.41 7.96l-1.37-1.37c-.4-.4-.92-.59-1.43-.59-.52 0-1.04.2-1.43.59L10.3 9.45l-7.72 7.72c-.78.78-.78 2.05 0 2.83L4 21.41c.39.39.9.59 1.41.59.51 0 1.02-.2 1.41-.59l7.78-7.78 2.81-2.81c.8-.78.8-2.07 0-2.86zM5.41 20L4 18.59l7.72-7.72 1.47 1.35L5.41 20z\"/>\n",
              "  </svg>\n",
              "      </button>\n",
              "      \n",
              "  <style>\n",
              "    .colab-df-container {\n",
              "      display:flex;\n",
              "      flex-wrap:wrap;\n",
              "      gap: 12px;\n",
              "    }\n",
              "\n",
              "    .colab-df-convert {\n",
              "      background-color: #E8F0FE;\n",
              "      border: none;\n",
              "      border-radius: 50%;\n",
              "      cursor: pointer;\n",
              "      display: none;\n",
              "      fill: #1967D2;\n",
              "      height: 32px;\n",
              "      padding: 0 0 0 0;\n",
              "      width: 32px;\n",
              "    }\n",
              "\n",
              "    .colab-df-convert:hover {\n",
              "      background-color: #E2EBFA;\n",
              "      box-shadow: 0px 1px 2px rgba(60, 64, 67, 0.3), 0px 1px 3px 1px rgba(60, 64, 67, 0.15);\n",
              "      fill: #174EA6;\n",
              "    }\n",
              "\n",
              "    [theme=dark] .colab-df-convert {\n",
              "      background-color: #3B4455;\n",
              "      fill: #D2E3FC;\n",
              "    }\n",
              "\n",
              "    [theme=dark] .colab-df-convert:hover {\n",
              "      background-color: #434B5C;\n",
              "      box-shadow: 0px 1px 3px 1px rgba(0, 0, 0, 0.15);\n",
              "      filter: drop-shadow(0px 1px 2px rgba(0, 0, 0, 0.3));\n",
              "      fill: #FFFFFF;\n",
              "    }\n",
              "  </style>\n",
              "\n",
              "      <script>\n",
              "        const buttonEl =\n",
              "          document.querySelector('#df-71588ca9-a802-450f-b98c-95099f5e440c button.colab-df-convert');\n",
              "        buttonEl.style.display =\n",
              "          google.colab.kernel.accessAllowed ? 'block' : 'none';\n",
              "\n",
              "        async function convertToInteractive(key) {\n",
              "          const element = document.querySelector('#df-71588ca9-a802-450f-b98c-95099f5e440c');\n",
              "          const dataTable =\n",
              "            await google.colab.kernel.invokeFunction('convertToInteractive',\n",
              "                                                     [key], {});\n",
              "          if (!dataTable) return;\n",
              "\n",
              "          const docLinkHtml = 'Like what you see? Visit the ' +\n",
              "            '<a target=\"_blank\" href=https://colab.research.google.com/notebooks/data_table.ipynb>data table notebook</a>'\n",
              "            + ' to learn more about interactive tables.';\n",
              "          element.innerHTML = '';\n",
              "          dataTable['output_type'] = 'display_data';\n",
              "          await google.colab.output.renderOutput(dataTable, element);\n",
              "          const docLink = document.createElement('div');\n",
              "          docLink.innerHTML = docLinkHtml;\n",
              "          element.appendChild(docLink);\n",
              "        }\n",
              "      </script>\n",
              "    </div>\n",
              "  </div>\n",
              "  "
            ],
            "text/plain": [
              "                                                 fitur  nuniq  \\\n",
              "NAME_CONTRACT_TYPE                  NAME_CONTRACT_TYPE      2   \n",
              "CODE_GENDER                                CODE_GENDER      3   \n",
              "FLAG_OWN_CAR                              FLAG_OWN_CAR      2   \n",
              "FLAG_OWN_REALTY                        FLAG_OWN_REALTY      2   \n",
              "NAME_TYPE_SUITE                        NAME_TYPE_SUITE      7   \n",
              "NAME_INCOME_TYPE                      NAME_INCOME_TYPE      8   \n",
              "NAME_EDUCATION_TYPE                NAME_EDUCATION_TYPE      5   \n",
              "NAME_FAMILY_STATUS                  NAME_FAMILY_STATUS      6   \n",
              "NAME_HOUSING_TYPE                    NAME_HOUSING_TYPE      6   \n",
              "OCCUPATION_TYPE                        OCCUPATION_TYPE     18   \n",
              "WEEKDAY_APPR_PROCESS_START  WEEKDAY_APPR_PROCESS_START      7   \n",
              "ORGANIZATION_TYPE                    ORGANIZATION_TYPE     58   \n",
              "FONDKAPREMONT_MODE                  FONDKAPREMONT_MODE      4   \n",
              "HOUSETYPE_MODE                          HOUSETYPE_MODE      3   \n",
              "WALLSMATERIAL_MODE                  WALLSMATERIAL_MODE      7   \n",
              "EMERGENCYSTATE_MODE                EMERGENCYSTATE_MODE      2   \n",
              "\n",
              "                                                                         uniq  \n",
              "NAME_CONTRACT_TYPE                              [Cash loans, Revolving loans]  \n",
              "CODE_GENDER                                                       [M, F, XNA]  \n",
              "FLAG_OWN_CAR                                                           [N, Y]  \n",
              "FLAG_OWN_REALTY                                                        [Y, N]  \n",
              "NAME_TYPE_SUITE             [Unaccompanied, Family, Spouse, partner, Child...  \n",
              "NAME_INCOME_TYPE            [Working, State servant, Commercial associate,...  \n",
              "NAME_EDUCATION_TYPE         [Secondary / secondary special, Higher educati...  \n",
              "NAME_FAMILY_STATUS          [Single / not married, Married, Civil marriage...  \n",
              "NAME_HOUSING_TYPE           [House / apartment, Rented apartment, With par...  \n",
              "OCCUPATION_TYPE             [Laborers, Core staff, Accountants, Managers, ...  \n",
              "WEEKDAY_APPR_PROCESS_START  [WEDNESDAY, MONDAY, THURSDAY, SUNDAY, SATURDAY...  \n",
              "ORGANIZATION_TYPE           [Business Entity Type 3, School, Government, R...  \n",
              "FONDKAPREMONT_MODE          [reg oper account, nan, org spec account, reg ...  \n",
              "HOUSETYPE_MODE              [block of flats, nan, terraced house, specific...  \n",
              "WALLSMATERIAL_MODE          [Stone, brick, Block, nan, Panel, Mixed, Woode...  \n",
              "EMERGENCYSTATE_MODE                                            [No, nan, Yes]  "
            ]
          },
          "execution_count": 141,
          "metadata": {},
          "output_type": "execute_result"
        }
      ],
      "source": [
        "data = {\n",
        "    'fitur': df1[cat_cols].columns,\n",
        "    'nuniq': df1[cat_cols].nunique(),\n",
        "    'uniq': df1[cat_cols].apply(lambda x: x.unique())\n",
        "}\n",
        "df_uniq = pd.DataFrame(data)\n",
        "\n",
        "df_uniq"
      ]
    },
    {
      "cell_type": "code",
      "execution_count": 142,
      "id": "SPBEPIwDcge5",
      "metadata": {
        "colab": {
          "base_uri": "https://localhost:8080/"
        },
        "id": "SPBEPIwDcge5",
        "outputId": "564b7266-80cd-4800-ba8b-ee43d04ef968"
      },
      "outputs": [
        {
          "name": "stdout",
          "output_type": "stream",
          "text": [
            "                          kolom  %missing value\n",
            "0                    SK_ID_CURR        0.000000\n",
            "1                        TARGET        0.000000\n",
            "2            NAME_CONTRACT_TYPE        0.000000\n",
            "3                   CODE_GENDER        0.000000\n",
            "4                  FLAG_OWN_CAR        0.000000\n",
            "..                          ...             ...\n",
            "117   AMT_REQ_CREDIT_BUREAU_DAY       13.501631\n",
            "118  AMT_REQ_CREDIT_BUREAU_WEEK       13.501631\n",
            "119   AMT_REQ_CREDIT_BUREAU_MON       13.501631\n",
            "120   AMT_REQ_CREDIT_BUREAU_QRT       13.501631\n",
            "121  AMT_REQ_CREDIT_BUREAU_YEAR       13.501631\n",
            "\n",
            "[122 rows x 2 columns]\n"
          ]
        }
      ],
      "source": [
        "missing_values = df1.isnull().sum()\n",
        "\n",
        "missing_percentage = (missing_values / len(df1)) * 100\n",
        "\n",
        "missing_df = pd.DataFrame({'kolom': missing_values.index, '%missing value': missing_percentage.values})\n",
        "\n",
        "print(missing_df)"
      ]
    },
    {
      "cell_type": "code",
      "execution_count": 143,
      "id": "YK8I3pzMco1Q",
      "metadata": {
        "colab": {
          "base_uri": "https://localhost:8080/",
          "height": 424
        },
        "id": "YK8I3pzMco1Q",
        "outputId": "db0eeeab-9494-4098-eb3a-d4d50bfbd81a"
      },
      "outputs": [
        {
          "data": {
            "text/html": [
              "\n",
              "  <div id=\"df-1245e990-e34f-47a9-a82d-566bae680e7e\">\n",
              "    <div class=\"colab-df-container\">\n",
              "      <div>\n",
              "<style scoped>\n",
              "    .dataframe tbody tr th:only-of-type {\n",
              "        vertical-align: middle;\n",
              "    }\n",
              "\n",
              "    .dataframe tbody tr th {\n",
              "        vertical-align: top;\n",
              "    }\n",
              "\n",
              "    .dataframe thead th {\n",
              "        text-align: right;\n",
              "    }\n",
              "</style>\n",
              "<table border=\"1\" class=\"dataframe\">\n",
              "  <thead>\n",
              "    <tr style=\"text-align: right;\">\n",
              "      <th></th>\n",
              "      <th>kolom</th>\n",
              "      <th>%missing value</th>\n",
              "    </tr>\n",
              "  </thead>\n",
              "  <tbody>\n",
              "    <tr>\n",
              "      <th>76</th>\n",
              "      <td>COMMONAREA_MEDI</td>\n",
              "      <td>69.872297</td>\n",
              "    </tr>\n",
              "    <tr>\n",
              "      <th>48</th>\n",
              "      <td>COMMONAREA_AVG</td>\n",
              "      <td>69.872297</td>\n",
              "    </tr>\n",
              "    <tr>\n",
              "      <th>62</th>\n",
              "      <td>COMMONAREA_MODE</td>\n",
              "      <td>69.872297</td>\n",
              "    </tr>\n",
              "    <tr>\n",
              "      <th>70</th>\n",
              "      <td>NONLIVINGAPARTMENTS_MODE</td>\n",
              "      <td>69.432963</td>\n",
              "    </tr>\n",
              "    <tr>\n",
              "      <th>56</th>\n",
              "      <td>NONLIVINGAPARTMENTS_AVG</td>\n",
              "      <td>69.432963</td>\n",
              "    </tr>\n",
              "    <tr>\n",
              "      <th>...</th>\n",
              "      <td>...</td>\n",
              "      <td>...</td>\n",
              "    </tr>\n",
              "    <tr>\n",
              "      <th>15</th>\n",
              "      <td>NAME_HOUSING_TYPE</td>\n",
              "      <td>0.000000</td>\n",
              "    </tr>\n",
              "    <tr>\n",
              "      <th>14</th>\n",
              "      <td>NAME_FAMILY_STATUS</td>\n",
              "      <td>0.000000</td>\n",
              "    </tr>\n",
              "    <tr>\n",
              "      <th>13</th>\n",
              "      <td>NAME_EDUCATION_TYPE</td>\n",
              "      <td>0.000000</td>\n",
              "    </tr>\n",
              "    <tr>\n",
              "      <th>12</th>\n",
              "      <td>NAME_INCOME_TYPE</td>\n",
              "      <td>0.000000</td>\n",
              "    </tr>\n",
              "    <tr>\n",
              "      <th>0</th>\n",
              "      <td>SK_ID_CURR</td>\n",
              "      <td>0.000000</td>\n",
              "    </tr>\n",
              "  </tbody>\n",
              "</table>\n",
              "<p>122 rows × 2 columns</p>\n",
              "</div>\n",
              "      <button class=\"colab-df-convert\" onclick=\"convertToInteractive('df-1245e990-e34f-47a9-a82d-566bae680e7e')\"\n",
              "              title=\"Convert this dataframe to an interactive table.\"\n",
              "              style=\"display:none;\">\n",
              "        \n",
              "  <svg xmlns=\"http://www.w3.org/2000/svg\" height=\"24px\"viewBox=\"0 0 24 24\"\n",
              "       width=\"24px\">\n",
              "    <path d=\"M0 0h24v24H0V0z\" fill=\"none\"/>\n",
              "    <path d=\"M18.56 5.44l.94 2.06.94-2.06 2.06-.94-2.06-.94-.94-2.06-.94 2.06-2.06.94zm-11 1L8.5 8.5l.94-2.06 2.06-.94-2.06-.94L8.5 2.5l-.94 2.06-2.06.94zm10 10l.94 2.06.94-2.06 2.06-.94-2.06-.94-.94-2.06-.94 2.06-2.06.94z\"/><path d=\"M17.41 7.96l-1.37-1.37c-.4-.4-.92-.59-1.43-.59-.52 0-1.04.2-1.43.59L10.3 9.45l-7.72 7.72c-.78.78-.78 2.05 0 2.83L4 21.41c.39.39.9.59 1.41.59.51 0 1.02-.2 1.41-.59l7.78-7.78 2.81-2.81c.8-.78.8-2.07 0-2.86zM5.41 20L4 18.59l7.72-7.72 1.47 1.35L5.41 20z\"/>\n",
              "  </svg>\n",
              "      </button>\n",
              "      \n",
              "  <style>\n",
              "    .colab-df-container {\n",
              "      display:flex;\n",
              "      flex-wrap:wrap;\n",
              "      gap: 12px;\n",
              "    }\n",
              "\n",
              "    .colab-df-convert {\n",
              "      background-color: #E8F0FE;\n",
              "      border: none;\n",
              "      border-radius: 50%;\n",
              "      cursor: pointer;\n",
              "      display: none;\n",
              "      fill: #1967D2;\n",
              "      height: 32px;\n",
              "      padding: 0 0 0 0;\n",
              "      width: 32px;\n",
              "    }\n",
              "\n",
              "    .colab-df-convert:hover {\n",
              "      background-color: #E2EBFA;\n",
              "      box-shadow: 0px 1px 2px rgba(60, 64, 67, 0.3), 0px 1px 3px 1px rgba(60, 64, 67, 0.15);\n",
              "      fill: #174EA6;\n",
              "    }\n",
              "\n",
              "    [theme=dark] .colab-df-convert {\n",
              "      background-color: #3B4455;\n",
              "      fill: #D2E3FC;\n",
              "    }\n",
              "\n",
              "    [theme=dark] .colab-df-convert:hover {\n",
              "      background-color: #434B5C;\n",
              "      box-shadow: 0px 1px 3px 1px rgba(0, 0, 0, 0.15);\n",
              "      filter: drop-shadow(0px 1px 2px rgba(0, 0, 0, 0.3));\n",
              "      fill: #FFFFFF;\n",
              "    }\n",
              "  </style>\n",
              "\n",
              "      <script>\n",
              "        const buttonEl =\n",
              "          document.querySelector('#df-1245e990-e34f-47a9-a82d-566bae680e7e button.colab-df-convert');\n",
              "        buttonEl.style.display =\n",
              "          google.colab.kernel.accessAllowed ? 'block' : 'none';\n",
              "\n",
              "        async function convertToInteractive(key) {\n",
              "          const element = document.querySelector('#df-1245e990-e34f-47a9-a82d-566bae680e7e');\n",
              "          const dataTable =\n",
              "            await google.colab.kernel.invokeFunction('convertToInteractive',\n",
              "                                                     [key], {});\n",
              "          if (!dataTable) return;\n",
              "\n",
              "          const docLinkHtml = 'Like what you see? Visit the ' +\n",
              "            '<a target=\"_blank\" href=https://colab.research.google.com/notebooks/data_table.ipynb>data table notebook</a>'\n",
              "            + ' to learn more about interactive tables.';\n",
              "          element.innerHTML = '';\n",
              "          dataTable['output_type'] = 'display_data';\n",
              "          await google.colab.output.renderOutput(dataTable, element);\n",
              "          const docLink = document.createElement('div');\n",
              "          docLink.innerHTML = docLinkHtml;\n",
              "          element.appendChild(docLink);\n",
              "        }\n",
              "      </script>\n",
              "    </div>\n",
              "  </div>\n",
              "  "
            ],
            "text/plain": [
              "                       kolom  %missing value\n",
              "76           COMMONAREA_MEDI       69.872297\n",
              "48            COMMONAREA_AVG       69.872297\n",
              "62           COMMONAREA_MODE       69.872297\n",
              "70  NONLIVINGAPARTMENTS_MODE       69.432963\n",
              "56   NONLIVINGAPARTMENTS_AVG       69.432963\n",
              "..                       ...             ...\n",
              "15         NAME_HOUSING_TYPE        0.000000\n",
              "14        NAME_FAMILY_STATUS        0.000000\n",
              "13       NAME_EDUCATION_TYPE        0.000000\n",
              "12          NAME_INCOME_TYPE        0.000000\n",
              "0                 SK_ID_CURR        0.000000\n",
              "\n",
              "[122 rows x 2 columns]"
            ]
          },
          "execution_count": 143,
          "metadata": {},
          "output_type": "execute_result"
        }
      ],
      "source": [
        "sorted_missing_df = missing_df.sort_values(by='%missing value', ascending=False)\n",
        "sorted_missing_df"
      ]
    },
    {
      "attachments": {},
      "cell_type": "markdown",
      "id": "HLtlWtT7cgBq",
      "metadata": {
        "id": "HLtlWtT7cgBq"
      },
      "source": [
        "Terlihat bahwa banyak kolom yang memiliki persen Nan > 40%"
      ]
    },
    {
      "attachments": {},
      "cell_type": "markdown",
      "id": "0WgJBmvaFeFa",
      "metadata": {
        "id": "0WgJBmvaFeFa"
      },
      "source": [
        "Sealnjutnya kita akan melihat dan menangani kolom yang memiliki nilai yang ganjil"
      ]
    },
    {
      "cell_type": "code",
      "execution_count": 144,
      "id": "ZCwRSxSAbZnf",
      "metadata": {
        "colab": {
          "base_uri": "https://localhost:8080/"
        },
        "id": "ZCwRSxSAbZnf",
        "outputId": "d7abcc9c-1c68-4161-90dc-d04e9b34bdbe"
      },
      "outputs": [
        {
          "data": {
            "text/plain": [
              "35657     XNA\n",
              "38566     XNA\n",
              "83382     XNA\n",
              "189640    XNA\n",
              "Name: CODE_GENDER, dtype: object"
            ]
          },
          "execution_count": 144,
          "metadata": {},
          "output_type": "execute_result"
        }
      ],
      "source": [
        "df_de=df1[df1['CODE_GENDER'] == \"XNA\"]\n",
        "df_de['CODE_GENDER']"
      ]
    },
    {
      "attachments": {},
      "cell_type": "markdown",
      "id": "BK0m3DYO_A9r",
      "metadata": {
        "id": "BK0m3DYO_A9r"
      },
      "source": [
        "Terdapat nilai XNA pada kolom code gender. Terlihat bahwa nilai XNA hanya ada 4 data, sehingga nilai ini akan kita hapus."
      ]
    },
    {
      "cell_type": "code",
      "execution_count": 145,
      "id": "ZuIBg_dTJ6a_",
      "metadata": {
        "colab": {
          "base_uri": "https://localhost:8080/"
        },
        "id": "ZuIBg_dTJ6a_",
        "outputId": "7e199324-f931-48d1-f122-a9fc9157ef86"
      },
      "outputs": [
        {
          "data": {
            "text/plain": [
              "count    307511.000000\n",
              "mean      63815.045904\n",
              "std      141275.766519\n",
              "min      -17912.000000\n",
              "25%       -2760.000000\n",
              "50%       -1213.000000\n",
              "75%        -289.000000\n",
              "max      365243.000000\n",
              "Name: DAYS_EMPLOYED, dtype: float64"
            ]
          },
          "execution_count": 145,
          "metadata": {},
          "output_type": "execute_result"
        }
      ],
      "source": [
        "df1['DAYS_EMPLOYED'].describe()"
      ]
    },
    {
      "cell_type": "code",
      "execution_count": 146,
      "id": "2fgdctaTGzSC",
      "metadata": {
        "colab": {
          "base_uri": "https://localhost:8080/"
        },
        "id": "2fgdctaTGzSC",
        "outputId": "a3ecb7a4-1f0f-4f72-d9ea-49f1e8053e56"
      },
      "outputs": [
        {
          "data": {
            "text/plain": [
              "8         365243\n",
              "11        365243\n",
              "23        365243\n",
              "38        365243\n",
              "43        365243\n",
              "           ...  \n",
              "307469    365243\n",
              "307483    365243\n",
              "307487    365243\n",
              "307505    365243\n",
              "307507    365243\n",
              "Name: DAYS_EMPLOYED, Length: 55374, dtype: int64"
            ]
          },
          "execution_count": 146,
          "metadata": {},
          "output_type": "execute_result"
        }
      ],
      "source": [
        "df_de=df1[df1['DAYS_EMPLOYED'] > 0.0]\n",
        "df_de['DAYS_EMPLOYED']"
      ]
    },
    {
      "attachments": {},
      "cell_type": "markdown",
      "id": "Bc_hTwAbFmFD",
      "metadata": {
        "id": "Bc_hTwAbFmFD"
      },
      "source": [
        "Terlihat bahwa nilai pada kolon days employed kebanyakan bernilai negatif dan hanya ada 1 nilai yang positif"
      ]
    },
    {
      "cell_type": "code",
      "execution_count": 147,
      "id": "_TwiUs3ZF5HQ",
      "metadata": {
        "colab": {
          "base_uri": "https://localhost:8080/"
        },
        "id": "_TwiUs3ZF5HQ",
        "outputId": "ebe0e58e-6357-41ff-fddb-3b98bb08de42"
      },
      "outputs": [
        {
          "data": {
            "text/plain": [
              "count    3.075110e+05\n",
              "mean     1.687979e+05\n",
              "std      2.371231e+05\n",
              "min      2.565000e+04\n",
              "25%      1.125000e+05\n",
              "50%      1.471500e+05\n",
              "75%      2.025000e+05\n",
              "max      1.170000e+08\n",
              "Name: AMT_INCOME_TOTAL, dtype: float64"
            ]
          },
          "execution_count": 147,
          "metadata": {},
          "output_type": "execute_result"
        }
      ],
      "source": [
        "df1['AMT_INCOME_TOTAL'].describe()"
      ]
    },
    {
      "attachments": {},
      "cell_type": "markdown",
      "id": "iNbeitQ8I_KM",
      "metadata": {
        "id": "iNbeitQ8I_KM"
      },
      "source": [
        "Pada kolom amt income total terlihat ada nilai yang terlalu besar. Nilai ini akan kita hapus"
      ]
    },
    {
      "cell_type": "code",
      "execution_count": 29,
      "id": "2k1sxXdHB7iU",
      "metadata": {
        "colab": {
          "base_uri": "https://localhost:8080/",
          "height": 424
        },
        "id": "2k1sxXdHB7iU",
        "outputId": "497fa804-3d4a-49d3-95a4-53086dde0adb"
      },
      "outputs": [
        {
          "data": {
            "text/html": [
              "\n",
              "  <div id=\"df-aacc2f53-35fa-44fe-b4d5-0470fc2306b9\">\n",
              "    <div class=\"colab-df-container\">\n",
              "      <div>\n",
              "<style scoped>\n",
              "    .dataframe tbody tr th:only-of-type {\n",
              "        vertical-align: middle;\n",
              "    }\n",
              "\n",
              "    .dataframe tbody tr th {\n",
              "        vertical-align: top;\n",
              "    }\n",
              "\n",
              "    .dataframe thead th {\n",
              "        text-align: right;\n",
              "    }\n",
              "</style>\n",
              "<table border=\"1\" class=\"dataframe\">\n",
              "  <thead>\n",
              "    <tr style=\"text-align: right;\">\n",
              "      <th></th>\n",
              "      <th>count</th>\n",
              "      <th>mean</th>\n",
              "      <th>std</th>\n",
              "      <th>min</th>\n",
              "      <th>25%</th>\n",
              "      <th>50%</th>\n",
              "      <th>75%</th>\n",
              "      <th>max</th>\n",
              "    </tr>\n",
              "  </thead>\n",
              "  <tbody>\n",
              "    <tr>\n",
              "      <th>SK_ID_CURR</th>\n",
              "      <td>307511.0</td>\n",
              "      <td>278180.518577</td>\n",
              "      <td>102790.175348</td>\n",
              "      <td>100002.0</td>\n",
              "      <td>189145.5</td>\n",
              "      <td>278202.0</td>\n",
              "      <td>367142.5</td>\n",
              "      <td>456255.0</td>\n",
              "    </tr>\n",
              "    <tr>\n",
              "      <th>TARGET</th>\n",
              "      <td>307511.0</td>\n",
              "      <td>0.080729</td>\n",
              "      <td>0.272419</td>\n",
              "      <td>0.0</td>\n",
              "      <td>0.0</td>\n",
              "      <td>0.0</td>\n",
              "      <td>0.0</td>\n",
              "      <td>1.0</td>\n",
              "    </tr>\n",
              "    <tr>\n",
              "      <th>CNT_CHILDREN</th>\n",
              "      <td>307511.0</td>\n",
              "      <td>0.417052</td>\n",
              "      <td>0.722121</td>\n",
              "      <td>0.0</td>\n",
              "      <td>0.0</td>\n",
              "      <td>0.0</td>\n",
              "      <td>1.0</td>\n",
              "      <td>19.0</td>\n",
              "    </tr>\n",
              "    <tr>\n",
              "      <th>AMT_INCOME_TOTAL</th>\n",
              "      <td>307511.0</td>\n",
              "      <td>168797.919297</td>\n",
              "      <td>237123.146279</td>\n",
              "      <td>25650.0</td>\n",
              "      <td>112500.0</td>\n",
              "      <td>147150.0</td>\n",
              "      <td>202500.0</td>\n",
              "      <td>117000000.0</td>\n",
              "    </tr>\n",
              "    <tr>\n",
              "      <th>AMT_CREDIT</th>\n",
              "      <td>307511.0</td>\n",
              "      <td>599025.999706</td>\n",
              "      <td>402490.776996</td>\n",
              "      <td>45000.0</td>\n",
              "      <td>270000.0</td>\n",
              "      <td>513531.0</td>\n",
              "      <td>808650.0</td>\n",
              "      <td>4050000.0</td>\n",
              "    </tr>\n",
              "    <tr>\n",
              "      <th>...</th>\n",
              "      <td>...</td>\n",
              "      <td>...</td>\n",
              "      <td>...</td>\n",
              "      <td>...</td>\n",
              "      <td>...</td>\n",
              "      <td>...</td>\n",
              "      <td>...</td>\n",
              "      <td>...</td>\n",
              "    </tr>\n",
              "    <tr>\n",
              "      <th>AMT_REQ_CREDIT_BUREAU_DAY</th>\n",
              "      <td>265992.0</td>\n",
              "      <td>0.007000</td>\n",
              "      <td>0.110757</td>\n",
              "      <td>0.0</td>\n",
              "      <td>0.0</td>\n",
              "      <td>0.0</td>\n",
              "      <td>0.0</td>\n",
              "      <td>9.0</td>\n",
              "    </tr>\n",
              "    <tr>\n",
              "      <th>AMT_REQ_CREDIT_BUREAU_WEEK</th>\n",
              "      <td>265992.0</td>\n",
              "      <td>0.034362</td>\n",
              "      <td>0.204685</td>\n",
              "      <td>0.0</td>\n",
              "      <td>0.0</td>\n",
              "      <td>0.0</td>\n",
              "      <td>0.0</td>\n",
              "      <td>8.0</td>\n",
              "    </tr>\n",
              "    <tr>\n",
              "      <th>AMT_REQ_CREDIT_BUREAU_MON</th>\n",
              "      <td>265992.0</td>\n",
              "      <td>0.267395</td>\n",
              "      <td>0.916002</td>\n",
              "      <td>0.0</td>\n",
              "      <td>0.0</td>\n",
              "      <td>0.0</td>\n",
              "      <td>0.0</td>\n",
              "      <td>27.0</td>\n",
              "    </tr>\n",
              "    <tr>\n",
              "      <th>AMT_REQ_CREDIT_BUREAU_QRT</th>\n",
              "      <td>265992.0</td>\n",
              "      <td>0.265474</td>\n",
              "      <td>0.794056</td>\n",
              "      <td>0.0</td>\n",
              "      <td>0.0</td>\n",
              "      <td>0.0</td>\n",
              "      <td>0.0</td>\n",
              "      <td>261.0</td>\n",
              "    </tr>\n",
              "    <tr>\n",
              "      <th>AMT_REQ_CREDIT_BUREAU_YEAR</th>\n",
              "      <td>265992.0</td>\n",
              "      <td>1.899974</td>\n",
              "      <td>1.869295</td>\n",
              "      <td>0.0</td>\n",
              "      <td>0.0</td>\n",
              "      <td>1.0</td>\n",
              "      <td>3.0</td>\n",
              "      <td>25.0</td>\n",
              "    </tr>\n",
              "  </tbody>\n",
              "</table>\n",
              "<p>106 rows × 8 columns</p>\n",
              "</div>\n",
              "      <button class=\"colab-df-convert\" onclick=\"convertToInteractive('df-aacc2f53-35fa-44fe-b4d5-0470fc2306b9')\"\n",
              "              title=\"Convert this dataframe to an interactive table.\"\n",
              "              style=\"display:none;\">\n",
              "        \n",
              "  <svg xmlns=\"http://www.w3.org/2000/svg\" height=\"24px\"viewBox=\"0 0 24 24\"\n",
              "       width=\"24px\">\n",
              "    <path d=\"M0 0h24v24H0V0z\" fill=\"none\"/>\n",
              "    <path d=\"M18.56 5.44l.94 2.06.94-2.06 2.06-.94-2.06-.94-.94-2.06-.94 2.06-2.06.94zm-11 1L8.5 8.5l.94-2.06 2.06-.94-2.06-.94L8.5 2.5l-.94 2.06-2.06.94zm10 10l.94 2.06.94-2.06 2.06-.94-2.06-.94-.94-2.06-.94 2.06-2.06.94z\"/><path d=\"M17.41 7.96l-1.37-1.37c-.4-.4-.92-.59-1.43-.59-.52 0-1.04.2-1.43.59L10.3 9.45l-7.72 7.72c-.78.78-.78 2.05 0 2.83L4 21.41c.39.39.9.59 1.41.59.51 0 1.02-.2 1.41-.59l7.78-7.78 2.81-2.81c.8-.78.8-2.07 0-2.86zM5.41 20L4 18.59l7.72-7.72 1.47 1.35L5.41 20z\"/>\n",
              "  </svg>\n",
              "      </button>\n",
              "      \n",
              "  <style>\n",
              "    .colab-df-container {\n",
              "      display:flex;\n",
              "      flex-wrap:wrap;\n",
              "      gap: 12px;\n",
              "    }\n",
              "\n",
              "    .colab-df-convert {\n",
              "      background-color: #E8F0FE;\n",
              "      border: none;\n",
              "      border-radius: 50%;\n",
              "      cursor: pointer;\n",
              "      display: none;\n",
              "      fill: #1967D2;\n",
              "      height: 32px;\n",
              "      padding: 0 0 0 0;\n",
              "      width: 32px;\n",
              "    }\n",
              "\n",
              "    .colab-df-convert:hover {\n",
              "      background-color: #E2EBFA;\n",
              "      box-shadow: 0px 1px 2px rgba(60, 64, 67, 0.3), 0px 1px 3px 1px rgba(60, 64, 67, 0.15);\n",
              "      fill: #174EA6;\n",
              "    }\n",
              "\n",
              "    [theme=dark] .colab-df-convert {\n",
              "      background-color: #3B4455;\n",
              "      fill: #D2E3FC;\n",
              "    }\n",
              "\n",
              "    [theme=dark] .colab-df-convert:hover {\n",
              "      background-color: #434B5C;\n",
              "      box-shadow: 0px 1px 3px 1px rgba(0, 0, 0, 0.15);\n",
              "      filter: drop-shadow(0px 1px 2px rgba(0, 0, 0, 0.3));\n",
              "      fill: #FFFFFF;\n",
              "    }\n",
              "  </style>\n",
              "\n",
              "      <script>\n",
              "        const buttonEl =\n",
              "          document.querySelector('#df-aacc2f53-35fa-44fe-b4d5-0470fc2306b9 button.colab-df-convert');\n",
              "        buttonEl.style.display =\n",
              "          google.colab.kernel.accessAllowed ? 'block' : 'none';\n",
              "\n",
              "        async function convertToInteractive(key) {\n",
              "          const element = document.querySelector('#df-aacc2f53-35fa-44fe-b4d5-0470fc2306b9');\n",
              "          const dataTable =\n",
              "            await google.colab.kernel.invokeFunction('convertToInteractive',\n",
              "                                                     [key], {});\n",
              "          if (!dataTable) return;\n",
              "\n",
              "          const docLinkHtml = 'Like what you see? Visit the ' +\n",
              "            '<a target=\"_blank\" href=https://colab.research.google.com/notebooks/data_table.ipynb>data table notebook</a>'\n",
              "            + ' to learn more about interactive tables.';\n",
              "          element.innerHTML = '';\n",
              "          dataTable['output_type'] = 'display_data';\n",
              "          await google.colab.output.renderOutput(dataTable, element);\n",
              "          const docLink = document.createElement('div');\n",
              "          docLink.innerHTML = docLinkHtml;\n",
              "          element.appendChild(docLink);\n",
              "        }\n",
              "      </script>\n",
              "    </div>\n",
              "  </div>\n",
              "  "
            ],
            "text/plain": [
              "                               count           mean            std       min  \\\n",
              "SK_ID_CURR                  307511.0  278180.518577  102790.175348  100002.0   \n",
              "TARGET                      307511.0       0.080729       0.272419       0.0   \n",
              "CNT_CHILDREN                307511.0       0.417052       0.722121       0.0   \n",
              "AMT_INCOME_TOTAL            307511.0  168797.919297  237123.146279   25650.0   \n",
              "AMT_CREDIT                  307511.0  599025.999706  402490.776996   45000.0   \n",
              "...                              ...            ...            ...       ...   \n",
              "AMT_REQ_CREDIT_BUREAU_DAY   265992.0       0.007000       0.110757       0.0   \n",
              "AMT_REQ_CREDIT_BUREAU_WEEK  265992.0       0.034362       0.204685       0.0   \n",
              "AMT_REQ_CREDIT_BUREAU_MON   265992.0       0.267395       0.916002       0.0   \n",
              "AMT_REQ_CREDIT_BUREAU_QRT   265992.0       0.265474       0.794056       0.0   \n",
              "AMT_REQ_CREDIT_BUREAU_YEAR  265992.0       1.899974       1.869295       0.0   \n",
              "\n",
              "                                 25%       50%       75%          max  \n",
              "SK_ID_CURR                  189145.5  278202.0  367142.5     456255.0  \n",
              "TARGET                           0.0       0.0       0.0          1.0  \n",
              "CNT_CHILDREN                     0.0       0.0       1.0         19.0  \n",
              "AMT_INCOME_TOTAL            112500.0  147150.0  202500.0  117000000.0  \n",
              "AMT_CREDIT                  270000.0  513531.0  808650.0    4050000.0  \n",
              "...                              ...       ...       ...          ...  \n",
              "AMT_REQ_CREDIT_BUREAU_DAY        0.0       0.0       0.0          9.0  \n",
              "AMT_REQ_CREDIT_BUREAU_WEEK       0.0       0.0       0.0          8.0  \n",
              "AMT_REQ_CREDIT_BUREAU_MON        0.0       0.0       0.0         27.0  \n",
              "AMT_REQ_CREDIT_BUREAU_QRT        0.0       0.0       0.0        261.0  \n",
              "AMT_REQ_CREDIT_BUREAU_YEAR       0.0       1.0       3.0         25.0  \n",
              "\n",
              "[106 rows x 8 columns]"
            ]
          },
          "execution_count": 29,
          "metadata": {},
          "output_type": "execute_result"
        }
      ],
      "source": [
        "df1.describe().transpose()"
      ]
    },
    {
      "attachments": {},
      "cell_type": "markdown",
      "id": "2QqJ8w1AB67x",
      "metadata": {
        "id": "2QqJ8w1AB67x"
      },
      "source": []
    },
    {
      "cell_type": "code",
      "execution_count": 30,
      "id": "uVIlrGufRdy5",
      "metadata": {
        "colab": {
          "base_uri": "https://localhost:8080/"
        },
        "id": "uVIlrGufRdy5",
        "outputId": "3972272e-8b80-4f16-8afb-f67652494add"
      },
      "outputs": [
        {
          "data": {
            "text/plain": [
              "F    202448\n",
              "M    105059\n",
              "Name: CODE_GENDER, dtype: int64"
            ]
          },
          "execution_count": 30,
          "metadata": {},
          "output_type": "execute_result"
        }
      ],
      "source": [
        "df1 = df1[df1['CODE_GENDER']!='XNA']\n",
        "\n",
        "df1['CODE_GENDER'].value_counts()"
      ]
    },
    {
      "cell_type": "code",
      "execution_count": 31,
      "id": "hvYPWkKSRrcv",
      "metadata": {
        "colab": {
          "base_uri": "https://localhost:8080/"
        },
        "id": "hvYPWkKSRrcv",
        "outputId": "ed8ce101-d808-47a4-9df0-5ac89ed84810"
      },
      "outputs": [
        {
          "data": {
            "text/plain": [
              "count    3.075060e+05\n",
              "mean     1.684178e+05\n",
              "std      1.088124e+05\n",
              "min      2.565000e+04\n",
              "25%      1.125000e+05\n",
              "50%      1.471500e+05\n",
              "75%      2.025000e+05\n",
              "max      1.800009e+07\n",
              "Name: AMT_INCOME_TOTAL, dtype: float64"
            ]
          },
          "execution_count": 31,
          "metadata": {},
          "output_type": "execute_result"
        }
      ],
      "source": [
        "df1 = df1[df1['AMT_INCOME_TOTAL'] != 117000000.0]\n",
        "df1['AMT_INCOME_TOTAL'].describe()"
      ]
    },
    {
      "cell_type": "code",
      "execution_count": 32,
      "id": "aI0wVRyNR5D8",
      "metadata": {
        "id": "aI0wVRyNR5D8"
      },
      "outputs": [],
      "source": [
        "df1['DAYS_EMPLOYED'] = df1['DAYS_EMPLOYED'].apply(lambda x: np.nan if x==365243 else x)\n",
        "df2['DAYS_EMPLOYED'] = df2['DAYS_EMPLOYED'].apply(lambda x: np.nan if x==365243 else x)"
      ]
    },
    {
      "attachments": {},
      "cell_type": "markdown",
      "id": "qk5TftSzGDU_",
      "metadata": {
        "id": "qk5TftSzGDU_"
      },
      "source": [
        "Nilai numerik yang semuanya memiliki nilai negatif kita ubah menjadi nilai positif"
      ]
    },
    {
      "cell_type": "code",
      "execution_count": 33,
      "id": "9qV4gQVIId6Y",
      "metadata": {
        "id": "9qV4gQVIId6Y"
      },
      "outputs": [],
      "source": [
        "df1[num_cols]=df1[num_cols].abs()"
      ]
    },
    {
      "attachments": {},
      "cell_type": "markdown",
      "id": "ykHd1atNGLwf",
      "metadata": {
        "id": "ykHd1atNGLwf"
      },
      "source": [
        "Kemudian kita akan menghapus kolom yang memiliki nilai missing value"
      ]
    },
    {
      "cell_type": "code",
      "execution_count": 34,
      "id": "2f27b3af",
      "metadata": {
        "id": "2f27b3af"
      },
      "outputs": [],
      "source": [
        "threshold = len(df1) * 0.6\n",
        "df1_cleaned = df1.dropna(thresh=threshold, axis=1)\n",
        "data=df1_cleaned"
      ]
    },
    {
      "cell_type": "code",
      "execution_count": 35,
      "id": "bb0JaOgfltDp",
      "metadata": {
        "colab": {
          "base_uri": "https://localhost:8080/"
        },
        "id": "bb0JaOgfltDp",
        "outputId": "c993e459-141d-4378-b425-acdfd6c0e9aa"
      },
      "outputs": [
        {
          "data": {
            "text/plain": [
              "(307506, 73)"
            ]
          },
          "execution_count": 35,
          "metadata": {},
          "output_type": "execute_result"
        }
      ],
      "source": [
        "data.shape"
      ]
    },
    {
      "cell_type": "code",
      "execution_count": 36,
      "id": "BkIKj_2JeaXp",
      "metadata": {
        "colab": {
          "base_uri": "https://localhost:8080/",
          "height": 424
        },
        "id": "BkIKj_2JeaXp",
        "outputId": "ae3e1802-b594-4520-b7bf-1855e1efa28e"
      },
      "outputs": [
        {
          "data": {
            "text/html": [
              "\n",
              "  <div id=\"df-165341a4-f881-4b37-a34d-aee2f608177e\">\n",
              "    <div class=\"colab-df-container\">\n",
              "      <div>\n",
              "<style scoped>\n",
              "    .dataframe tbody tr th:only-of-type {\n",
              "        vertical-align: middle;\n",
              "    }\n",
              "\n",
              "    .dataframe tbody tr th {\n",
              "        vertical-align: top;\n",
              "    }\n",
              "\n",
              "    .dataframe thead th {\n",
              "        text-align: right;\n",
              "    }\n",
              "</style>\n",
              "<table border=\"1\" class=\"dataframe\">\n",
              "  <thead>\n",
              "    <tr style=\"text-align: right;\">\n",
              "      <th></th>\n",
              "      <th>kolom</th>\n",
              "      <th>%missing value</th>\n",
              "    </tr>\n",
              "  </thead>\n",
              "  <tbody>\n",
              "    <tr>\n",
              "      <th>0</th>\n",
              "      <td>SK_ID_CURR</td>\n",
              "      <td>0.00000</td>\n",
              "    </tr>\n",
              "    <tr>\n",
              "      <th>1</th>\n",
              "      <td>TARGET</td>\n",
              "      <td>0.00000</td>\n",
              "    </tr>\n",
              "    <tr>\n",
              "      <th>2</th>\n",
              "      <td>NAME_CONTRACT_TYPE</td>\n",
              "      <td>0.00000</td>\n",
              "    </tr>\n",
              "    <tr>\n",
              "      <th>3</th>\n",
              "      <td>CODE_GENDER</td>\n",
              "      <td>0.00000</td>\n",
              "    </tr>\n",
              "    <tr>\n",
              "      <th>4</th>\n",
              "      <td>FLAG_OWN_CAR</td>\n",
              "      <td>0.00000</td>\n",
              "    </tr>\n",
              "    <tr>\n",
              "      <th>...</th>\n",
              "      <td>...</td>\n",
              "      <td>...</td>\n",
              "    </tr>\n",
              "    <tr>\n",
              "      <th>68</th>\n",
              "      <td>AMT_REQ_CREDIT_BUREAU_DAY</td>\n",
              "      <td>13.50185</td>\n",
              "    </tr>\n",
              "    <tr>\n",
              "      <th>69</th>\n",
              "      <td>AMT_REQ_CREDIT_BUREAU_WEEK</td>\n",
              "      <td>13.50185</td>\n",
              "    </tr>\n",
              "    <tr>\n",
              "      <th>70</th>\n",
              "      <td>AMT_REQ_CREDIT_BUREAU_MON</td>\n",
              "      <td>13.50185</td>\n",
              "    </tr>\n",
              "    <tr>\n",
              "      <th>71</th>\n",
              "      <td>AMT_REQ_CREDIT_BUREAU_QRT</td>\n",
              "      <td>13.50185</td>\n",
              "    </tr>\n",
              "    <tr>\n",
              "      <th>72</th>\n",
              "      <td>AMT_REQ_CREDIT_BUREAU_YEAR</td>\n",
              "      <td>13.50185</td>\n",
              "    </tr>\n",
              "  </tbody>\n",
              "</table>\n",
              "<p>73 rows × 2 columns</p>\n",
              "</div>\n",
              "      <button class=\"colab-df-convert\" onclick=\"convertToInteractive('df-165341a4-f881-4b37-a34d-aee2f608177e')\"\n",
              "              title=\"Convert this dataframe to an interactive table.\"\n",
              "              style=\"display:none;\">\n",
              "        \n",
              "  <svg xmlns=\"http://www.w3.org/2000/svg\" height=\"24px\"viewBox=\"0 0 24 24\"\n",
              "       width=\"24px\">\n",
              "    <path d=\"M0 0h24v24H0V0z\" fill=\"none\"/>\n",
              "    <path d=\"M18.56 5.44l.94 2.06.94-2.06 2.06-.94-2.06-.94-.94-2.06-.94 2.06-2.06.94zm-11 1L8.5 8.5l.94-2.06 2.06-.94-2.06-.94L8.5 2.5l-.94 2.06-2.06.94zm10 10l.94 2.06.94-2.06 2.06-.94-2.06-.94-.94-2.06-.94 2.06-2.06.94z\"/><path d=\"M17.41 7.96l-1.37-1.37c-.4-.4-.92-.59-1.43-.59-.52 0-1.04.2-1.43.59L10.3 9.45l-7.72 7.72c-.78.78-.78 2.05 0 2.83L4 21.41c.39.39.9.59 1.41.59.51 0 1.02-.2 1.41-.59l7.78-7.78 2.81-2.81c.8-.78.8-2.07 0-2.86zM5.41 20L4 18.59l7.72-7.72 1.47 1.35L5.41 20z\"/>\n",
              "  </svg>\n",
              "      </button>\n",
              "      \n",
              "  <style>\n",
              "    .colab-df-container {\n",
              "      display:flex;\n",
              "      flex-wrap:wrap;\n",
              "      gap: 12px;\n",
              "    }\n",
              "\n",
              "    .colab-df-convert {\n",
              "      background-color: #E8F0FE;\n",
              "      border: none;\n",
              "      border-radius: 50%;\n",
              "      cursor: pointer;\n",
              "      display: none;\n",
              "      fill: #1967D2;\n",
              "      height: 32px;\n",
              "      padding: 0 0 0 0;\n",
              "      width: 32px;\n",
              "    }\n",
              "\n",
              "    .colab-df-convert:hover {\n",
              "      background-color: #E2EBFA;\n",
              "      box-shadow: 0px 1px 2px rgba(60, 64, 67, 0.3), 0px 1px 3px 1px rgba(60, 64, 67, 0.15);\n",
              "      fill: #174EA6;\n",
              "    }\n",
              "\n",
              "    [theme=dark] .colab-df-convert {\n",
              "      background-color: #3B4455;\n",
              "      fill: #D2E3FC;\n",
              "    }\n",
              "\n",
              "    [theme=dark] .colab-df-convert:hover {\n",
              "      background-color: #434B5C;\n",
              "      box-shadow: 0px 1px 3px 1px rgba(0, 0, 0, 0.15);\n",
              "      filter: drop-shadow(0px 1px 2px rgba(0, 0, 0, 0.3));\n",
              "      fill: #FFFFFF;\n",
              "    }\n",
              "  </style>\n",
              "\n",
              "      <script>\n",
              "        const buttonEl =\n",
              "          document.querySelector('#df-165341a4-f881-4b37-a34d-aee2f608177e button.colab-df-convert');\n",
              "        buttonEl.style.display =\n",
              "          google.colab.kernel.accessAllowed ? 'block' : 'none';\n",
              "\n",
              "        async function convertToInteractive(key) {\n",
              "          const element = document.querySelector('#df-165341a4-f881-4b37-a34d-aee2f608177e');\n",
              "          const dataTable =\n",
              "            await google.colab.kernel.invokeFunction('convertToInteractive',\n",
              "                                                     [key], {});\n",
              "          if (!dataTable) return;\n",
              "\n",
              "          const docLinkHtml = 'Like what you see? Visit the ' +\n",
              "            '<a target=\"_blank\" href=https://colab.research.google.com/notebooks/data_table.ipynb>data table notebook</a>'\n",
              "            + ' to learn more about interactive tables.';\n",
              "          element.innerHTML = '';\n",
              "          dataTable['output_type'] = 'display_data';\n",
              "          await google.colab.output.renderOutput(dataTable, element);\n",
              "          const docLink = document.createElement('div');\n",
              "          docLink.innerHTML = docLinkHtml;\n",
              "          element.appendChild(docLink);\n",
              "        }\n",
              "      </script>\n",
              "    </div>\n",
              "  </div>\n",
              "  "
            ],
            "text/plain": [
              "                         kolom  %missing value\n",
              "0                   SK_ID_CURR         0.00000\n",
              "1                       TARGET         0.00000\n",
              "2           NAME_CONTRACT_TYPE         0.00000\n",
              "3                  CODE_GENDER         0.00000\n",
              "4                 FLAG_OWN_CAR         0.00000\n",
              "..                         ...             ...\n",
              "68   AMT_REQ_CREDIT_BUREAU_DAY        13.50185\n",
              "69  AMT_REQ_CREDIT_BUREAU_WEEK        13.50185\n",
              "70   AMT_REQ_CREDIT_BUREAU_MON        13.50185\n",
              "71   AMT_REQ_CREDIT_BUREAU_QRT        13.50185\n",
              "72  AMT_REQ_CREDIT_BUREAU_YEAR        13.50185\n",
              "\n",
              "[73 rows x 2 columns]"
            ]
          },
          "execution_count": 36,
          "metadata": {},
          "output_type": "execute_result"
        }
      ],
      "source": [
        "# Menghitung jumlah missing value untuk setiap kolom\n",
        "missing_values = df1_cleaned.isnull().sum()\n",
        "\n",
        "# Menghitung persentase missing value untuk setiap kolom\n",
        "missing_percentage = (missing_values / len(df1_cleaned)) * 100\n",
        "\n",
        "# Membuat DataFrame untuk missing value\n",
        "missing_df = pd.DataFrame({'kolom': missing_values.index, '%missing value': missing_percentage.values})\n",
        "\n",
        "# Menampilkan hasil\n",
        "missing_df"
      ]
    },
    {
      "cell_type": "code",
      "execution_count": 36,
      "id": "NPg0rJl54bd7",
      "metadata": {
        "id": "NPg0rJl54bd7"
      },
      "outputs": [],
      "source": []
    },
    {
      "attachments": {},
      "cell_type": "markdown",
      "id": "S12KDpfA4b-L",
      "metadata": {
        "id": "S12KDpfA4b-L"
      },
      "source": []
    },
    {
      "attachments": {},
      "cell_type": "markdown",
      "id": "rjVwUrxaUQe6",
      "metadata": {
        "id": "rjVwUrxaUQe6"
      },
      "source": [
        "## Bagi Data"
      ]
    },
    {
      "cell_type": "code",
      "execution_count": 37,
      "id": "UQz9OULsuOmX",
      "metadata": {
        "id": "UQz9OULsuOmX"
      },
      "outputs": [],
      "source": [
        "data=df1"
      ]
    },
    {
      "cell_type": "code",
      "execution_count": 38,
      "id": "3b82ee67",
      "metadata": {
        "id": "3b82ee67"
      },
      "outputs": [],
      "source": [
        "X = data.drop(['TARGET'], axis=1)\n",
        "y = data['TARGET']"
      ]
    },
    {
      "cell_type": "code",
      "execution_count": 39,
      "id": "9a5222d7",
      "metadata": {
        "id": "9a5222d7"
      },
      "outputs": [],
      "source": [
        "X_train, X_test, y_train, y_test = train_test_split(X, y, test_size=0.20, random_state=20)"
      ]
    },
    {
      "cell_type": "code",
      "execution_count": 40,
      "id": "a91c60c0",
      "metadata": {
        "colab": {
          "base_uri": "https://localhost:8080/",
          "height": 394
        },
        "id": "a91c60c0",
        "outputId": "5210db19-fe75-4eeb-d984-8a9b826a0489"
      },
      "outputs": [
        {
          "data": {
            "text/html": [
              "\n",
              "  <div id=\"df-7b129366-8e1e-4846-8ca6-9e8c776a1499\">\n",
              "    <div class=\"colab-df-container\">\n",
              "      <div>\n",
              "<style scoped>\n",
              "    .dataframe tbody tr th:only-of-type {\n",
              "        vertical-align: middle;\n",
              "    }\n",
              "\n",
              "    .dataframe tbody tr th {\n",
              "        vertical-align: top;\n",
              "    }\n",
              "\n",
              "    .dataframe thead th {\n",
              "        text-align: right;\n",
              "    }\n",
              "</style>\n",
              "<table border=\"1\" class=\"dataframe\">\n",
              "  <thead>\n",
              "    <tr style=\"text-align: right;\">\n",
              "      <th></th>\n",
              "      <th>SK_ID_CURR</th>\n",
              "      <th>CNT_CHILDREN</th>\n",
              "      <th>AMT_INCOME_TOTAL</th>\n",
              "      <th>AMT_CREDIT</th>\n",
              "      <th>AMT_ANNUITY</th>\n",
              "      <th>AMT_GOODS_PRICE</th>\n",
              "      <th>REGION_POPULATION_RELATIVE</th>\n",
              "      <th>DAYS_BIRTH</th>\n",
              "      <th>DAYS_EMPLOYED</th>\n",
              "      <th>DAYS_REGISTRATION</th>\n",
              "      <th>...</th>\n",
              "      <th>FLAG_DOCUMENT_18</th>\n",
              "      <th>FLAG_DOCUMENT_19</th>\n",
              "      <th>FLAG_DOCUMENT_20</th>\n",
              "      <th>FLAG_DOCUMENT_21</th>\n",
              "      <th>AMT_REQ_CREDIT_BUREAU_HOUR</th>\n",
              "      <th>AMT_REQ_CREDIT_BUREAU_DAY</th>\n",
              "      <th>AMT_REQ_CREDIT_BUREAU_WEEK</th>\n",
              "      <th>AMT_REQ_CREDIT_BUREAU_MON</th>\n",
              "      <th>AMT_REQ_CREDIT_BUREAU_QRT</th>\n",
              "      <th>AMT_REQ_CREDIT_BUREAU_YEAR</th>\n",
              "    </tr>\n",
              "  </thead>\n",
              "  <tbody>\n",
              "    <tr>\n",
              "      <th>count</th>\n",
              "      <td>246004.000000</td>\n",
              "      <td>246004.000000</td>\n",
              "      <td>2.460040e+05</td>\n",
              "      <td>2.460040e+05</td>\n",
              "      <td>245993.000000</td>\n",
              "      <td>2.457830e+05</td>\n",
              "      <td>246004.000000</td>\n",
              "      <td>246004.000000</td>\n",
              "      <td>201599.000000</td>\n",
              "      <td>246004.000000</td>\n",
              "      <td>...</td>\n",
              "      <td>246004.000000</td>\n",
              "      <td>246004.000000</td>\n",
              "      <td>246004.000000</td>\n",
              "      <td>246004.000000</td>\n",
              "      <td>212822.000000</td>\n",
              "      <td>212822.000000</td>\n",
              "      <td>212822.000000</td>\n",
              "      <td>212822.000000</td>\n",
              "      <td>212822.000000</td>\n",
              "      <td>212822.000000</td>\n",
              "    </tr>\n",
              "    <tr>\n",
              "      <th>mean</th>\n",
              "      <td>278341.672717</td>\n",
              "      <td>0.417383</td>\n",
              "      <td>1.683439e+05</td>\n",
              "      <td>5.990907e+05</td>\n",
              "      <td>27091.758983</td>\n",
              "      <td>5.383926e+05</td>\n",
              "      <td>0.020877</td>\n",
              "      <td>16043.055336</td>\n",
              "      <td>2384.716799</td>\n",
              "      <td>4985.111120</td>\n",
              "      <td>...</td>\n",
              "      <td>0.008175</td>\n",
              "      <td>0.000622</td>\n",
              "      <td>0.000512</td>\n",
              "      <td>0.000341</td>\n",
              "      <td>0.006306</td>\n",
              "      <td>0.007062</td>\n",
              "      <td>0.034324</td>\n",
              "      <td>0.267543</td>\n",
              "      <td>0.266345</td>\n",
              "      <td>1.899052</td>\n",
              "    </tr>\n",
              "    <tr>\n",
              "      <th>std</th>\n",
              "      <td>102860.483362</td>\n",
              "      <td>0.723205</td>\n",
              "      <td>1.110738e+05</td>\n",
              "      <td>4.025138e+05</td>\n",
              "      <td>14474.155584</td>\n",
              "      <td>3.693229e+05</td>\n",
              "      <td>0.013835</td>\n",
              "      <td>4362.732622</td>\n",
              "      <td>2337.924961</td>\n",
              "      <td>3522.911264</td>\n",
              "      <td>...</td>\n",
              "      <td>0.090044</td>\n",
              "      <td>0.024931</td>\n",
              "      <td>0.022626</td>\n",
              "      <td>0.018475</td>\n",
              "      <td>0.083435</td>\n",
              "      <td>0.110453</td>\n",
              "      <td>0.205280</td>\n",
              "      <td>0.915601</td>\n",
              "      <td>0.832984</td>\n",
              "      <td>1.868297</td>\n",
              "    </tr>\n",
              "    <tr>\n",
              "      <th>min</th>\n",
              "      <td>100002.000000</td>\n",
              "      <td>0.000000</td>\n",
              "      <td>2.565000e+04</td>\n",
              "      <td>4.500000e+04</td>\n",
              "      <td>1615.500000</td>\n",
              "      <td>4.500000e+04</td>\n",
              "      <td>0.000290</td>\n",
              "      <td>7489.000000</td>\n",
              "      <td>0.000000</td>\n",
              "      <td>0.000000</td>\n",
              "      <td>...</td>\n",
              "      <td>0.000000</td>\n",
              "      <td>0.000000</td>\n",
              "      <td>0.000000</td>\n",
              "      <td>0.000000</td>\n",
              "      <td>0.000000</td>\n",
              "      <td>0.000000</td>\n",
              "      <td>0.000000</td>\n",
              "      <td>0.000000</td>\n",
              "      <td>0.000000</td>\n",
              "      <td>0.000000</td>\n",
              "    </tr>\n",
              "    <tr>\n",
              "      <th>25%</th>\n",
              "      <td>189249.750000</td>\n",
              "      <td>0.000000</td>\n",
              "      <td>1.125000e+05</td>\n",
              "      <td>2.700000e+05</td>\n",
              "      <td>16515.000000</td>\n",
              "      <td>2.385000e+05</td>\n",
              "      <td>0.010006</td>\n",
              "      <td>12425.000000</td>\n",
              "      <td>767.000000</td>\n",
              "      <td>2008.000000</td>\n",
              "      <td>...</td>\n",
              "      <td>0.000000</td>\n",
              "      <td>0.000000</td>\n",
              "      <td>0.000000</td>\n",
              "      <td>0.000000</td>\n",
              "      <td>0.000000</td>\n",
              "      <td>0.000000</td>\n",
              "      <td>0.000000</td>\n",
              "      <td>0.000000</td>\n",
              "      <td>0.000000</td>\n",
              "      <td>0.000000</td>\n",
              "    </tr>\n",
              "    <tr>\n",
              "      <th>50%</th>\n",
              "      <td>278432.000000</td>\n",
              "      <td>0.000000</td>\n",
              "      <td>1.485000e+05</td>\n",
              "      <td>5.130405e+05</td>\n",
              "      <td>24885.000000</td>\n",
              "      <td>4.500000e+05</td>\n",
              "      <td>0.018850</td>\n",
              "      <td>15759.500000</td>\n",
              "      <td>1649.000000</td>\n",
              "      <td>4504.000000</td>\n",
              "      <td>...</td>\n",
              "      <td>0.000000</td>\n",
              "      <td>0.000000</td>\n",
              "      <td>0.000000</td>\n",
              "      <td>0.000000</td>\n",
              "      <td>0.000000</td>\n",
              "      <td>0.000000</td>\n",
              "      <td>0.000000</td>\n",
              "      <td>0.000000</td>\n",
              "      <td>0.000000</td>\n",
              "      <td>1.000000</td>\n",
              "    </tr>\n",
              "    <tr>\n",
              "      <th>75%</th>\n",
              "      <td>367358.250000</td>\n",
              "      <td>1.000000</td>\n",
              "      <td>2.025000e+05</td>\n",
              "      <td>8.086500e+05</td>\n",
              "      <td>34596.000000</td>\n",
              "      <td>6.795000e+05</td>\n",
              "      <td>0.028663</td>\n",
              "      <td>19684.250000</td>\n",
              "      <td>3174.500000</td>\n",
              "      <td>7479.000000</td>\n",
              "      <td>...</td>\n",
              "      <td>0.000000</td>\n",
              "      <td>0.000000</td>\n",
              "      <td>0.000000</td>\n",
              "      <td>0.000000</td>\n",
              "      <td>0.000000</td>\n",
              "      <td>0.000000</td>\n",
              "      <td>0.000000</td>\n",
              "      <td>0.000000</td>\n",
              "      <td>0.000000</td>\n",
              "      <td>3.000000</td>\n",
              "    </tr>\n",
              "    <tr>\n",
              "      <th>max</th>\n",
              "      <td>456253.000000</td>\n",
              "      <td>19.000000</td>\n",
              "      <td>1.800009e+07</td>\n",
              "      <td>4.050000e+06</td>\n",
              "      <td>258025.500000</td>\n",
              "      <td>4.050000e+06</td>\n",
              "      <td>0.072508</td>\n",
              "      <td>25229.000000</td>\n",
              "      <td>17912.000000</td>\n",
              "      <td>24672.000000</td>\n",
              "      <td>...</td>\n",
              "      <td>1.000000</td>\n",
              "      <td>1.000000</td>\n",
              "      <td>1.000000</td>\n",
              "      <td>1.000000</td>\n",
              "      <td>4.000000</td>\n",
              "      <td>9.000000</td>\n",
              "      <td>8.000000</td>\n",
              "      <td>27.000000</td>\n",
              "      <td>261.000000</td>\n",
              "      <td>25.000000</td>\n",
              "    </tr>\n",
              "  </tbody>\n",
              "</table>\n",
              "<p>8 rows × 105 columns</p>\n",
              "</div>\n",
              "      <button class=\"colab-df-convert\" onclick=\"convertToInteractive('df-7b129366-8e1e-4846-8ca6-9e8c776a1499')\"\n",
              "              title=\"Convert this dataframe to an interactive table.\"\n",
              "              style=\"display:none;\">\n",
              "        \n",
              "  <svg xmlns=\"http://www.w3.org/2000/svg\" height=\"24px\"viewBox=\"0 0 24 24\"\n",
              "       width=\"24px\">\n",
              "    <path d=\"M0 0h24v24H0V0z\" fill=\"none\"/>\n",
              "    <path d=\"M18.56 5.44l.94 2.06.94-2.06 2.06-.94-2.06-.94-.94-2.06-.94 2.06-2.06.94zm-11 1L8.5 8.5l.94-2.06 2.06-.94-2.06-.94L8.5 2.5l-.94 2.06-2.06.94zm10 10l.94 2.06.94-2.06 2.06-.94-2.06-.94-.94-2.06-.94 2.06-2.06.94z\"/><path d=\"M17.41 7.96l-1.37-1.37c-.4-.4-.92-.59-1.43-.59-.52 0-1.04.2-1.43.59L10.3 9.45l-7.72 7.72c-.78.78-.78 2.05 0 2.83L4 21.41c.39.39.9.59 1.41.59.51 0 1.02-.2 1.41-.59l7.78-7.78 2.81-2.81c.8-.78.8-2.07 0-2.86zM5.41 20L4 18.59l7.72-7.72 1.47 1.35L5.41 20z\"/>\n",
              "  </svg>\n",
              "      </button>\n",
              "      \n",
              "  <style>\n",
              "    .colab-df-container {\n",
              "      display:flex;\n",
              "      flex-wrap:wrap;\n",
              "      gap: 12px;\n",
              "    }\n",
              "\n",
              "    .colab-df-convert {\n",
              "      background-color: #E8F0FE;\n",
              "      border: none;\n",
              "      border-radius: 50%;\n",
              "      cursor: pointer;\n",
              "      display: none;\n",
              "      fill: #1967D2;\n",
              "      height: 32px;\n",
              "      padding: 0 0 0 0;\n",
              "      width: 32px;\n",
              "    }\n",
              "\n",
              "    .colab-df-convert:hover {\n",
              "      background-color: #E2EBFA;\n",
              "      box-shadow: 0px 1px 2px rgba(60, 64, 67, 0.3), 0px 1px 3px 1px rgba(60, 64, 67, 0.15);\n",
              "      fill: #174EA6;\n",
              "    }\n",
              "\n",
              "    [theme=dark] .colab-df-convert {\n",
              "      background-color: #3B4455;\n",
              "      fill: #D2E3FC;\n",
              "    }\n",
              "\n",
              "    [theme=dark] .colab-df-convert:hover {\n",
              "      background-color: #434B5C;\n",
              "      box-shadow: 0px 1px 3px 1px rgba(0, 0, 0, 0.15);\n",
              "      filter: drop-shadow(0px 1px 2px rgba(0, 0, 0, 0.3));\n",
              "      fill: #FFFFFF;\n",
              "    }\n",
              "  </style>\n",
              "\n",
              "      <script>\n",
              "        const buttonEl =\n",
              "          document.querySelector('#df-7b129366-8e1e-4846-8ca6-9e8c776a1499 button.colab-df-convert');\n",
              "        buttonEl.style.display =\n",
              "          google.colab.kernel.accessAllowed ? 'block' : 'none';\n",
              "\n",
              "        async function convertToInteractive(key) {\n",
              "          const element = document.querySelector('#df-7b129366-8e1e-4846-8ca6-9e8c776a1499');\n",
              "          const dataTable =\n",
              "            await google.colab.kernel.invokeFunction('convertToInteractive',\n",
              "                                                     [key], {});\n",
              "          if (!dataTable) return;\n",
              "\n",
              "          const docLinkHtml = 'Like what you see? Visit the ' +\n",
              "            '<a target=\"_blank\" href=https://colab.research.google.com/notebooks/data_table.ipynb>data table notebook</a>'\n",
              "            + ' to learn more about interactive tables.';\n",
              "          element.innerHTML = '';\n",
              "          dataTable['output_type'] = 'display_data';\n",
              "          await google.colab.output.renderOutput(dataTable, element);\n",
              "          const docLink = document.createElement('div');\n",
              "          docLink.innerHTML = docLinkHtml;\n",
              "          element.appendChild(docLink);\n",
              "        }\n",
              "      </script>\n",
              "    </div>\n",
              "  </div>\n",
              "  "
            ],
            "text/plain": [
              "          SK_ID_CURR   CNT_CHILDREN  AMT_INCOME_TOTAL    AMT_CREDIT  \\\n",
              "count  246004.000000  246004.000000      2.460040e+05  2.460040e+05   \n",
              "mean   278341.672717       0.417383      1.683439e+05  5.990907e+05   \n",
              "std    102860.483362       0.723205      1.110738e+05  4.025138e+05   \n",
              "min    100002.000000       0.000000      2.565000e+04  4.500000e+04   \n",
              "25%    189249.750000       0.000000      1.125000e+05  2.700000e+05   \n",
              "50%    278432.000000       0.000000      1.485000e+05  5.130405e+05   \n",
              "75%    367358.250000       1.000000      2.025000e+05  8.086500e+05   \n",
              "max    456253.000000      19.000000      1.800009e+07  4.050000e+06   \n",
              "\n",
              "         AMT_ANNUITY  AMT_GOODS_PRICE  REGION_POPULATION_RELATIVE  \\\n",
              "count  245993.000000     2.457830e+05               246004.000000   \n",
              "mean    27091.758983     5.383926e+05                    0.020877   \n",
              "std     14474.155584     3.693229e+05                    0.013835   \n",
              "min      1615.500000     4.500000e+04                    0.000290   \n",
              "25%     16515.000000     2.385000e+05                    0.010006   \n",
              "50%     24885.000000     4.500000e+05                    0.018850   \n",
              "75%     34596.000000     6.795000e+05                    0.028663   \n",
              "max    258025.500000     4.050000e+06                    0.072508   \n",
              "\n",
              "          DAYS_BIRTH  DAYS_EMPLOYED  DAYS_REGISTRATION  ...  FLAG_DOCUMENT_18  \\\n",
              "count  246004.000000  201599.000000      246004.000000  ...     246004.000000   \n",
              "mean    16043.055336    2384.716799        4985.111120  ...          0.008175   \n",
              "std      4362.732622    2337.924961        3522.911264  ...          0.090044   \n",
              "min      7489.000000       0.000000           0.000000  ...          0.000000   \n",
              "25%     12425.000000     767.000000        2008.000000  ...          0.000000   \n",
              "50%     15759.500000    1649.000000        4504.000000  ...          0.000000   \n",
              "75%     19684.250000    3174.500000        7479.000000  ...          0.000000   \n",
              "max     25229.000000   17912.000000       24672.000000  ...          1.000000   \n",
              "\n",
              "       FLAG_DOCUMENT_19  FLAG_DOCUMENT_20  FLAG_DOCUMENT_21  \\\n",
              "count     246004.000000     246004.000000     246004.000000   \n",
              "mean           0.000622          0.000512          0.000341   \n",
              "std            0.024931          0.022626          0.018475   \n",
              "min            0.000000          0.000000          0.000000   \n",
              "25%            0.000000          0.000000          0.000000   \n",
              "50%            0.000000          0.000000          0.000000   \n",
              "75%            0.000000          0.000000          0.000000   \n",
              "max            1.000000          1.000000          1.000000   \n",
              "\n",
              "       AMT_REQ_CREDIT_BUREAU_HOUR  AMT_REQ_CREDIT_BUREAU_DAY  \\\n",
              "count               212822.000000              212822.000000   \n",
              "mean                     0.006306                   0.007062   \n",
              "std                      0.083435                   0.110453   \n",
              "min                      0.000000                   0.000000   \n",
              "25%                      0.000000                   0.000000   \n",
              "50%                      0.000000                   0.000000   \n",
              "75%                      0.000000                   0.000000   \n",
              "max                      4.000000                   9.000000   \n",
              "\n",
              "       AMT_REQ_CREDIT_BUREAU_WEEK  AMT_REQ_CREDIT_BUREAU_MON  \\\n",
              "count               212822.000000              212822.000000   \n",
              "mean                     0.034324                   0.267543   \n",
              "std                      0.205280                   0.915601   \n",
              "min                      0.000000                   0.000000   \n",
              "25%                      0.000000                   0.000000   \n",
              "50%                      0.000000                   0.000000   \n",
              "75%                      0.000000                   0.000000   \n",
              "max                      8.000000                  27.000000   \n",
              "\n",
              "       AMT_REQ_CREDIT_BUREAU_QRT  AMT_REQ_CREDIT_BUREAU_YEAR  \n",
              "count              212822.000000               212822.000000  \n",
              "mean                    0.266345                    1.899052  \n",
              "std                     0.832984                    1.868297  \n",
              "min                     0.000000                    0.000000  \n",
              "25%                     0.000000                    0.000000  \n",
              "50%                     0.000000                    1.000000  \n",
              "75%                     0.000000                    3.000000  \n",
              "max                   261.000000                   25.000000  \n",
              "\n",
              "[8 rows x 105 columns]"
            ]
          },
          "execution_count": 40,
          "metadata": {},
          "output_type": "execute_result"
        }
      ],
      "source": [
        "X_train.describe()"
      ]
    },
    {
      "attachments": {},
      "cell_type": "markdown",
      "id": "kPwnGO514duB",
      "metadata": {
        "id": "kPwnGO514duB"
      },
      "source": [
        "## Seleksi Fitur"
      ]
    },
    {
      "cell_type": "code",
      "execution_count": 41,
      "id": "fb95f2d7",
      "metadata": {
        "id": "fb95f2d7"
      },
      "outputs": [],
      "source": [
        "cat_cols=X_train.select_dtypes(include='object').columns.tolist()\n",
        "num_cols=X_train.select_dtypes(include=['int','float']).columns.tolist()"
      ]
    },
    {
      "cell_type": "code",
      "execution_count": 42,
      "id": "309fb0d9",
      "metadata": {
        "id": "309fb0d9"
      },
      "outputs": [],
      "source": [
        "df_korelasi_cat = pd.DataFrame(columns=['Kolom Kategorik', 'Chi-Square', 'P-value'])\n",
        "\n",
        "#Mencari nilai chi\n",
        "for kolom in cat_cols:\n",
        "    cross_tab = pd.crosstab(X_train[kolom], y)\n",
        "    chi2, p_value, _, _ = chi2_contingency(cross_tab)\n",
        "    new_row = pd.DataFrame({'Kolom Kategorik': [kolom], 'Chi-Square': [chi2], 'P-value': [p_value]})\n",
        "    df_korelasi_cat = pd.concat([df_korelasi_cat, new_row], ignore_index=True)"
      ]
    },
    {
      "cell_type": "code",
      "execution_count": 43,
      "id": "svG9K4e8dweh",
      "metadata": {
        "colab": {
          "base_uri": "https://localhost:8080/",
          "height": 551
        },
        "id": "svG9K4e8dweh",
        "outputId": "0fbf8332-1e84-4ccf-af39-fed67e4f0341"
      },
      "outputs": [
        {
          "data": {
            "text/html": [
              "\n",
              "  <div id=\"df-fef27da5-9da9-448d-a9c6-5a8c662a8457\">\n",
              "    <div class=\"colab-df-container\">\n",
              "      <div>\n",
              "<style scoped>\n",
              "    .dataframe tbody tr th:only-of-type {\n",
              "        vertical-align: middle;\n",
              "    }\n",
              "\n",
              "    .dataframe tbody tr th {\n",
              "        vertical-align: top;\n",
              "    }\n",
              "\n",
              "    .dataframe thead th {\n",
              "        text-align: right;\n",
              "    }\n",
              "</style>\n",
              "<table border=\"1\" class=\"dataframe\">\n",
              "  <thead>\n",
              "    <tr style=\"text-align: right;\">\n",
              "      <th></th>\n",
              "      <th>Kolom Kategorik</th>\n",
              "      <th>Chi-Square</th>\n",
              "      <th>P-value</th>\n",
              "    </tr>\n",
              "  </thead>\n",
              "  <tbody>\n",
              "    <tr>\n",
              "      <th>0</th>\n",
              "      <td>NAME_CONTRACT_TYPE</td>\n",
              "      <td>232.526458</td>\n",
              "      <td>1.676398e-52</td>\n",
              "    </tr>\n",
              "    <tr>\n",
              "      <th>1</th>\n",
              "      <td>CODE_GENDER</td>\n",
              "      <td>739.083398</td>\n",
              "      <td>9.486082e-163</td>\n",
              "    </tr>\n",
              "    <tr>\n",
              "      <th>2</th>\n",
              "      <td>FLAG_OWN_CAR</td>\n",
              "      <td>102.658285</td>\n",
              "      <td>3.982425e-24</td>\n",
              "    </tr>\n",
              "    <tr>\n",
              "      <th>3</th>\n",
              "      <td>FLAG_OWN_REALTY</td>\n",
              "      <td>11.576002</td>\n",
              "      <td>6.680843e-04</td>\n",
              "    </tr>\n",
              "    <tr>\n",
              "      <th>4</th>\n",
              "      <td>NAME_TYPE_SUITE</td>\n",
              "      <td>31.012249</td>\n",
              "      <td>2.521314e-05</td>\n",
              "    </tr>\n",
              "    <tr>\n",
              "      <th>5</th>\n",
              "      <td>NAME_INCOME_TYPE</td>\n",
              "      <td>1047.138602</td>\n",
              "      <td>7.846495e-222</td>\n",
              "    </tr>\n",
              "    <tr>\n",
              "      <th>6</th>\n",
              "      <td>NAME_EDUCATION_TYPE</td>\n",
              "      <td>840.624177</td>\n",
              "      <td>1.217259e-180</td>\n",
              "    </tr>\n",
              "    <tr>\n",
              "      <th>7</th>\n",
              "      <td>NAME_FAMILY_STATUS</td>\n",
              "      <td>446.481807</td>\n",
              "      <td>2.819336e-94</td>\n",
              "    </tr>\n",
              "    <tr>\n",
              "      <th>8</th>\n",
              "      <td>NAME_HOUSING_TYPE</td>\n",
              "      <td>347.426432</td>\n",
              "      <td>6.268542e-73</td>\n",
              "    </tr>\n",
              "    <tr>\n",
              "      <th>9</th>\n",
              "      <td>OCCUPATION_TYPE</td>\n",
              "      <td>1163.760509</td>\n",
              "      <td>7.714339e-237</td>\n",
              "    </tr>\n",
              "    <tr>\n",
              "      <th>10</th>\n",
              "      <td>WEEKDAY_APPR_PROCESS_START</td>\n",
              "      <td>11.559461</td>\n",
              "      <td>7.254993e-02</td>\n",
              "    </tr>\n",
              "    <tr>\n",
              "      <th>11</th>\n",
              "      <td>ORGANIZATION_TYPE</td>\n",
              "      <td>1295.719947</td>\n",
              "      <td>1.636452e-233</td>\n",
              "    </tr>\n",
              "    <tr>\n",
              "      <th>12</th>\n",
              "      <td>FONDKAPREMONT_MODE</td>\n",
              "      <td>12.979664</td>\n",
              "      <td>4.680789e-03</td>\n",
              "    </tr>\n",
              "    <tr>\n",
              "      <th>13</th>\n",
              "      <td>HOUSETYPE_MODE</td>\n",
              "      <td>24.953044</td>\n",
              "      <td>3.815182e-06</td>\n",
              "    </tr>\n",
              "    <tr>\n",
              "      <th>14</th>\n",
              "      <td>WALLSMATERIAL_MODE</td>\n",
              "      <td>115.130081</td>\n",
              "      <td>1.714723e-22</td>\n",
              "    </tr>\n",
              "    <tr>\n",
              "      <th>15</th>\n",
              "      <td>EMERGENCYSTATE_MODE</td>\n",
              "      <td>27.184296</td>\n",
              "      <td>1.849549e-07</td>\n",
              "    </tr>\n",
              "  </tbody>\n",
              "</table>\n",
              "</div>\n",
              "      <button class=\"colab-df-convert\" onclick=\"convertToInteractive('df-fef27da5-9da9-448d-a9c6-5a8c662a8457')\"\n",
              "              title=\"Convert this dataframe to an interactive table.\"\n",
              "              style=\"display:none;\">\n",
              "        \n",
              "  <svg xmlns=\"http://www.w3.org/2000/svg\" height=\"24px\"viewBox=\"0 0 24 24\"\n",
              "       width=\"24px\">\n",
              "    <path d=\"M0 0h24v24H0V0z\" fill=\"none\"/>\n",
              "    <path d=\"M18.56 5.44l.94 2.06.94-2.06 2.06-.94-2.06-.94-.94-2.06-.94 2.06-2.06.94zm-11 1L8.5 8.5l.94-2.06 2.06-.94-2.06-.94L8.5 2.5l-.94 2.06-2.06.94zm10 10l.94 2.06.94-2.06 2.06-.94-2.06-.94-.94-2.06-.94 2.06-2.06.94z\"/><path d=\"M17.41 7.96l-1.37-1.37c-.4-.4-.92-.59-1.43-.59-.52 0-1.04.2-1.43.59L10.3 9.45l-7.72 7.72c-.78.78-.78 2.05 0 2.83L4 21.41c.39.39.9.59 1.41.59.51 0 1.02-.2 1.41-.59l7.78-7.78 2.81-2.81c.8-.78.8-2.07 0-2.86zM5.41 20L4 18.59l7.72-7.72 1.47 1.35L5.41 20z\"/>\n",
              "  </svg>\n",
              "      </button>\n",
              "      \n",
              "  <style>\n",
              "    .colab-df-container {\n",
              "      display:flex;\n",
              "      flex-wrap:wrap;\n",
              "      gap: 12px;\n",
              "    }\n",
              "\n",
              "    .colab-df-convert {\n",
              "      background-color: #E8F0FE;\n",
              "      border: none;\n",
              "      border-radius: 50%;\n",
              "      cursor: pointer;\n",
              "      display: none;\n",
              "      fill: #1967D2;\n",
              "      height: 32px;\n",
              "      padding: 0 0 0 0;\n",
              "      width: 32px;\n",
              "    }\n",
              "\n",
              "    .colab-df-convert:hover {\n",
              "      background-color: #E2EBFA;\n",
              "      box-shadow: 0px 1px 2px rgba(60, 64, 67, 0.3), 0px 1px 3px 1px rgba(60, 64, 67, 0.15);\n",
              "      fill: #174EA6;\n",
              "    }\n",
              "\n",
              "    [theme=dark] .colab-df-convert {\n",
              "      background-color: #3B4455;\n",
              "      fill: #D2E3FC;\n",
              "    }\n",
              "\n",
              "    [theme=dark] .colab-df-convert:hover {\n",
              "      background-color: #434B5C;\n",
              "      box-shadow: 0px 1px 3px 1px rgba(0, 0, 0, 0.15);\n",
              "      filter: drop-shadow(0px 1px 2px rgba(0, 0, 0, 0.3));\n",
              "      fill: #FFFFFF;\n",
              "    }\n",
              "  </style>\n",
              "\n",
              "      <script>\n",
              "        const buttonEl =\n",
              "          document.querySelector('#df-fef27da5-9da9-448d-a9c6-5a8c662a8457 button.colab-df-convert');\n",
              "        buttonEl.style.display =\n",
              "          google.colab.kernel.accessAllowed ? 'block' : 'none';\n",
              "\n",
              "        async function convertToInteractive(key) {\n",
              "          const element = document.querySelector('#df-fef27da5-9da9-448d-a9c6-5a8c662a8457');\n",
              "          const dataTable =\n",
              "            await google.colab.kernel.invokeFunction('convertToInteractive',\n",
              "                                                     [key], {});\n",
              "          if (!dataTable) return;\n",
              "\n",
              "          const docLinkHtml = 'Like what you see? Visit the ' +\n",
              "            '<a target=\"_blank\" href=https://colab.research.google.com/notebooks/data_table.ipynb>data table notebook</a>'\n",
              "            + ' to learn more about interactive tables.';\n",
              "          element.innerHTML = '';\n",
              "          dataTable['output_type'] = 'display_data';\n",
              "          await google.colab.output.renderOutput(dataTable, element);\n",
              "          const docLink = document.createElement('div');\n",
              "          docLink.innerHTML = docLinkHtml;\n",
              "          element.appendChild(docLink);\n",
              "        }\n",
              "      </script>\n",
              "    </div>\n",
              "  </div>\n",
              "  "
            ],
            "text/plain": [
              "               Kolom Kategorik   Chi-Square        P-value\n",
              "0           NAME_CONTRACT_TYPE   232.526458   1.676398e-52\n",
              "1                  CODE_GENDER   739.083398  9.486082e-163\n",
              "2                 FLAG_OWN_CAR   102.658285   3.982425e-24\n",
              "3              FLAG_OWN_REALTY    11.576002   6.680843e-04\n",
              "4              NAME_TYPE_SUITE    31.012249   2.521314e-05\n",
              "5             NAME_INCOME_TYPE  1047.138602  7.846495e-222\n",
              "6          NAME_EDUCATION_TYPE   840.624177  1.217259e-180\n",
              "7           NAME_FAMILY_STATUS   446.481807   2.819336e-94\n",
              "8            NAME_HOUSING_TYPE   347.426432   6.268542e-73\n",
              "9              OCCUPATION_TYPE  1163.760509  7.714339e-237\n",
              "10  WEEKDAY_APPR_PROCESS_START    11.559461   7.254993e-02\n",
              "11           ORGANIZATION_TYPE  1295.719947  1.636452e-233\n",
              "12          FONDKAPREMONT_MODE    12.979664   4.680789e-03\n",
              "13              HOUSETYPE_MODE    24.953044   3.815182e-06\n",
              "14          WALLSMATERIAL_MODE   115.130081   1.714723e-22\n",
              "15         EMERGENCYSTATE_MODE    27.184296   1.849549e-07"
            ]
          },
          "execution_count": 43,
          "metadata": {},
          "output_type": "execute_result"
        }
      ],
      "source": [
        "df_korelasi_cat"
      ]
    },
    {
      "cell_type": "code",
      "execution_count": 44,
      "id": "c6f0821b",
      "metadata": {
        "id": "c6f0821b"
      },
      "outputs": [],
      "source": [
        "filtered_df = df_korelasi_cat[(df_korelasi_cat['P-value'] < 0.05)]\n",
        "filtered_df = filtered_df[['Kolom Kategorik', 'Chi-Square', 'P-value']]"
      ]
    },
    {
      "cell_type": "code",
      "execution_count": 45,
      "id": "GFYSlYZWJy52",
      "metadata": {
        "colab": {
          "base_uri": "https://localhost:8080/",
          "height": 520
        },
        "id": "GFYSlYZWJy52",
        "outputId": "5e12f133-5f8a-4a01-fdb9-5c6775d9ea70"
      },
      "outputs": [
        {
          "data": {
            "text/html": [
              "\n",
              "  <div id=\"df-f37c94b4-089b-4b14-91b6-3c3ebf8b602a\">\n",
              "    <div class=\"colab-df-container\">\n",
              "      <div>\n",
              "<style scoped>\n",
              "    .dataframe tbody tr th:only-of-type {\n",
              "        vertical-align: middle;\n",
              "    }\n",
              "\n",
              "    .dataframe tbody tr th {\n",
              "        vertical-align: top;\n",
              "    }\n",
              "\n",
              "    .dataframe thead th {\n",
              "        text-align: right;\n",
              "    }\n",
              "</style>\n",
              "<table border=\"1\" class=\"dataframe\">\n",
              "  <thead>\n",
              "    <tr style=\"text-align: right;\">\n",
              "      <th></th>\n",
              "      <th>Kolom Kategorik</th>\n",
              "      <th>Chi-Square</th>\n",
              "      <th>P-value</th>\n",
              "    </tr>\n",
              "  </thead>\n",
              "  <tbody>\n",
              "    <tr>\n",
              "      <th>0</th>\n",
              "      <td>NAME_CONTRACT_TYPE</td>\n",
              "      <td>232.526458</td>\n",
              "      <td>1.676398e-52</td>\n",
              "    </tr>\n",
              "    <tr>\n",
              "      <th>1</th>\n",
              "      <td>CODE_GENDER</td>\n",
              "      <td>739.083398</td>\n",
              "      <td>9.486082e-163</td>\n",
              "    </tr>\n",
              "    <tr>\n",
              "      <th>2</th>\n",
              "      <td>FLAG_OWN_CAR</td>\n",
              "      <td>102.658285</td>\n",
              "      <td>3.982425e-24</td>\n",
              "    </tr>\n",
              "    <tr>\n",
              "      <th>3</th>\n",
              "      <td>FLAG_OWN_REALTY</td>\n",
              "      <td>11.576002</td>\n",
              "      <td>6.680843e-04</td>\n",
              "    </tr>\n",
              "    <tr>\n",
              "      <th>4</th>\n",
              "      <td>NAME_TYPE_SUITE</td>\n",
              "      <td>31.012249</td>\n",
              "      <td>2.521314e-05</td>\n",
              "    </tr>\n",
              "    <tr>\n",
              "      <th>5</th>\n",
              "      <td>NAME_INCOME_TYPE</td>\n",
              "      <td>1047.138602</td>\n",
              "      <td>7.846495e-222</td>\n",
              "    </tr>\n",
              "    <tr>\n",
              "      <th>6</th>\n",
              "      <td>NAME_EDUCATION_TYPE</td>\n",
              "      <td>840.624177</td>\n",
              "      <td>1.217259e-180</td>\n",
              "    </tr>\n",
              "    <tr>\n",
              "      <th>7</th>\n",
              "      <td>NAME_FAMILY_STATUS</td>\n",
              "      <td>446.481807</td>\n",
              "      <td>2.819336e-94</td>\n",
              "    </tr>\n",
              "    <tr>\n",
              "      <th>8</th>\n",
              "      <td>NAME_HOUSING_TYPE</td>\n",
              "      <td>347.426432</td>\n",
              "      <td>6.268542e-73</td>\n",
              "    </tr>\n",
              "    <tr>\n",
              "      <th>9</th>\n",
              "      <td>OCCUPATION_TYPE</td>\n",
              "      <td>1163.760509</td>\n",
              "      <td>7.714339e-237</td>\n",
              "    </tr>\n",
              "    <tr>\n",
              "      <th>11</th>\n",
              "      <td>ORGANIZATION_TYPE</td>\n",
              "      <td>1295.719947</td>\n",
              "      <td>1.636452e-233</td>\n",
              "    </tr>\n",
              "    <tr>\n",
              "      <th>12</th>\n",
              "      <td>FONDKAPREMONT_MODE</td>\n",
              "      <td>12.979664</td>\n",
              "      <td>4.680789e-03</td>\n",
              "    </tr>\n",
              "    <tr>\n",
              "      <th>13</th>\n",
              "      <td>HOUSETYPE_MODE</td>\n",
              "      <td>24.953044</td>\n",
              "      <td>3.815182e-06</td>\n",
              "    </tr>\n",
              "    <tr>\n",
              "      <th>14</th>\n",
              "      <td>WALLSMATERIAL_MODE</td>\n",
              "      <td>115.130081</td>\n",
              "      <td>1.714723e-22</td>\n",
              "    </tr>\n",
              "    <tr>\n",
              "      <th>15</th>\n",
              "      <td>EMERGENCYSTATE_MODE</td>\n",
              "      <td>27.184296</td>\n",
              "      <td>1.849549e-07</td>\n",
              "    </tr>\n",
              "  </tbody>\n",
              "</table>\n",
              "</div>\n",
              "      <button class=\"colab-df-convert\" onclick=\"convertToInteractive('df-f37c94b4-089b-4b14-91b6-3c3ebf8b602a')\"\n",
              "              title=\"Convert this dataframe to an interactive table.\"\n",
              "              style=\"display:none;\">\n",
              "        \n",
              "  <svg xmlns=\"http://www.w3.org/2000/svg\" height=\"24px\"viewBox=\"0 0 24 24\"\n",
              "       width=\"24px\">\n",
              "    <path d=\"M0 0h24v24H0V0z\" fill=\"none\"/>\n",
              "    <path d=\"M18.56 5.44l.94 2.06.94-2.06 2.06-.94-2.06-.94-.94-2.06-.94 2.06-2.06.94zm-11 1L8.5 8.5l.94-2.06 2.06-.94-2.06-.94L8.5 2.5l-.94 2.06-2.06.94zm10 10l.94 2.06.94-2.06 2.06-.94-2.06-.94-.94-2.06-.94 2.06-2.06.94z\"/><path d=\"M17.41 7.96l-1.37-1.37c-.4-.4-.92-.59-1.43-.59-.52 0-1.04.2-1.43.59L10.3 9.45l-7.72 7.72c-.78.78-.78 2.05 0 2.83L4 21.41c.39.39.9.59 1.41.59.51 0 1.02-.2 1.41-.59l7.78-7.78 2.81-2.81c.8-.78.8-2.07 0-2.86zM5.41 20L4 18.59l7.72-7.72 1.47 1.35L5.41 20z\"/>\n",
              "  </svg>\n",
              "      </button>\n",
              "      \n",
              "  <style>\n",
              "    .colab-df-container {\n",
              "      display:flex;\n",
              "      flex-wrap:wrap;\n",
              "      gap: 12px;\n",
              "    }\n",
              "\n",
              "    .colab-df-convert {\n",
              "      background-color: #E8F0FE;\n",
              "      border: none;\n",
              "      border-radius: 50%;\n",
              "      cursor: pointer;\n",
              "      display: none;\n",
              "      fill: #1967D2;\n",
              "      height: 32px;\n",
              "      padding: 0 0 0 0;\n",
              "      width: 32px;\n",
              "    }\n",
              "\n",
              "    .colab-df-convert:hover {\n",
              "      background-color: #E2EBFA;\n",
              "      box-shadow: 0px 1px 2px rgba(60, 64, 67, 0.3), 0px 1px 3px 1px rgba(60, 64, 67, 0.15);\n",
              "      fill: #174EA6;\n",
              "    }\n",
              "\n",
              "    [theme=dark] .colab-df-convert {\n",
              "      background-color: #3B4455;\n",
              "      fill: #D2E3FC;\n",
              "    }\n",
              "\n",
              "    [theme=dark] .colab-df-convert:hover {\n",
              "      background-color: #434B5C;\n",
              "      box-shadow: 0px 1px 3px 1px rgba(0, 0, 0, 0.15);\n",
              "      filter: drop-shadow(0px 1px 2px rgba(0, 0, 0, 0.3));\n",
              "      fill: #FFFFFF;\n",
              "    }\n",
              "  </style>\n",
              "\n",
              "      <script>\n",
              "        const buttonEl =\n",
              "          document.querySelector('#df-f37c94b4-089b-4b14-91b6-3c3ebf8b602a button.colab-df-convert');\n",
              "        buttonEl.style.display =\n",
              "          google.colab.kernel.accessAllowed ? 'block' : 'none';\n",
              "\n",
              "        async function convertToInteractive(key) {\n",
              "          const element = document.querySelector('#df-f37c94b4-089b-4b14-91b6-3c3ebf8b602a');\n",
              "          const dataTable =\n",
              "            await google.colab.kernel.invokeFunction('convertToInteractive',\n",
              "                                                     [key], {});\n",
              "          if (!dataTable) return;\n",
              "\n",
              "          const docLinkHtml = 'Like what you see? Visit the ' +\n",
              "            '<a target=\"_blank\" href=https://colab.research.google.com/notebooks/data_table.ipynb>data table notebook</a>'\n",
              "            + ' to learn more about interactive tables.';\n",
              "          element.innerHTML = '';\n",
              "          dataTable['output_type'] = 'display_data';\n",
              "          await google.colab.output.renderOutput(dataTable, element);\n",
              "          const docLink = document.createElement('div');\n",
              "          docLink.innerHTML = docLinkHtml;\n",
              "          element.appendChild(docLink);\n",
              "        }\n",
              "      </script>\n",
              "    </div>\n",
              "  </div>\n",
              "  "
            ],
            "text/plain": [
              "        Kolom Kategorik   Chi-Square        P-value\n",
              "0    NAME_CONTRACT_TYPE   232.526458   1.676398e-52\n",
              "1           CODE_GENDER   739.083398  9.486082e-163\n",
              "2          FLAG_OWN_CAR   102.658285   3.982425e-24\n",
              "3       FLAG_OWN_REALTY    11.576002   6.680843e-04\n",
              "4       NAME_TYPE_SUITE    31.012249   2.521314e-05\n",
              "5      NAME_INCOME_TYPE  1047.138602  7.846495e-222\n",
              "6   NAME_EDUCATION_TYPE   840.624177  1.217259e-180\n",
              "7    NAME_FAMILY_STATUS   446.481807   2.819336e-94\n",
              "8     NAME_HOUSING_TYPE   347.426432   6.268542e-73\n",
              "9       OCCUPATION_TYPE  1163.760509  7.714339e-237\n",
              "11    ORGANIZATION_TYPE  1295.719947  1.636452e-233\n",
              "12   FONDKAPREMONT_MODE    12.979664   4.680789e-03\n",
              "13       HOUSETYPE_MODE    24.953044   3.815182e-06\n",
              "14   WALLSMATERIAL_MODE   115.130081   1.714723e-22\n",
              "15  EMERGENCYSTATE_MODE    27.184296   1.849549e-07"
            ]
          },
          "execution_count": 45,
          "metadata": {},
          "output_type": "execute_result"
        }
      ],
      "source": [
        "filtered_df"
      ]
    },
    {
      "cell_type": "code",
      "execution_count": 46,
      "id": "8d7ba33f",
      "metadata": {
        "id": "8d7ba33f"
      },
      "outputs": [],
      "source": [
        "cat=filtered_df['Kolom Kategorik'].tolist()"
      ]
    },
    {
      "cell_type": "code",
      "execution_count": 47,
      "id": "2ea4142d",
      "metadata": {
        "colab": {
          "base_uri": "https://localhost:8080/"
        },
        "id": "2ea4142d",
        "outputId": "2fc632be-0fab-430a-fb2a-44b43d78d316"
      },
      "outputs": [
        {
          "data": {
            "text/plain": [
              "['NAME_CONTRACT_TYPE',\n",
              " 'CODE_GENDER',\n",
              " 'FLAG_OWN_CAR',\n",
              " 'FLAG_OWN_REALTY',\n",
              " 'NAME_TYPE_SUITE',\n",
              " 'NAME_INCOME_TYPE',\n",
              " 'NAME_EDUCATION_TYPE',\n",
              " 'NAME_FAMILY_STATUS',\n",
              " 'NAME_HOUSING_TYPE',\n",
              " 'OCCUPATION_TYPE',\n",
              " 'ORGANIZATION_TYPE',\n",
              " 'FONDKAPREMONT_MODE',\n",
              " 'HOUSETYPE_MODE',\n",
              " 'WALLSMATERIAL_MODE',\n",
              " 'EMERGENCYSTATE_MODE']"
            ]
          },
          "execution_count": 47,
          "metadata": {},
          "output_type": "execute_result"
        }
      ],
      "source": [
        "cat"
      ]
    },
    {
      "cell_type": "code",
      "execution_count": 47,
      "id": "-5o2JiJBIU6I",
      "metadata": {
        "id": "-5o2JiJBIU6I"
      },
      "outputs": [],
      "source": []
    },
    {
      "cell_type": "code",
      "execution_count": 48,
      "id": "6bf31448",
      "metadata": {
        "id": "6bf31448"
      },
      "outputs": [],
      "source": [
        "df_korelasi_num = pd.DataFrame(columns=['Kolom Numerik', 'pearson', 'spearman'])\n",
        "\n",
        "# korelasi kolom numerik\n",
        "for kolom in num_cols:\n",
        "    korelasi_pearson = X_train[kolom].corr(data['TARGET'])\n",
        "    korelasi_spearman = X_train[kolom].corr(data['TARGET'], method='spearman')\n",
        "    new_row = pd.DataFrame({'Kolom Numerik': [kolom], 'pearson': [korelasi_pearson], 'spearman': [korelasi_spearman]})\n",
        "    df_korelasi_num = pd.concat([df_korelasi_num, new_row], ignore_index=True)"
      ]
    },
    {
      "cell_type": "code",
      "execution_count": 49,
      "id": "MyyKXI6kd9ys",
      "metadata": {
        "colab": {
          "base_uri": "https://localhost:8080/",
          "height": 424
        },
        "id": "MyyKXI6kd9ys",
        "outputId": "a44e65fc-6a1b-4984-e516-6ef840a5d8f5"
      },
      "outputs": [
        {
          "data": {
            "text/html": [
              "\n",
              "  <div id=\"df-258c042c-844a-40d1-9e4f-3a2d7889e9c3\">\n",
              "    <div class=\"colab-df-container\">\n",
              "      <div>\n",
              "<style scoped>\n",
              "    .dataframe tbody tr th:only-of-type {\n",
              "        vertical-align: middle;\n",
              "    }\n",
              "\n",
              "    .dataframe tbody tr th {\n",
              "        vertical-align: top;\n",
              "    }\n",
              "\n",
              "    .dataframe thead th {\n",
              "        text-align: right;\n",
              "    }\n",
              "</style>\n",
              "<table border=\"1\" class=\"dataframe\">\n",
              "  <thead>\n",
              "    <tr style=\"text-align: right;\">\n",
              "      <th></th>\n",
              "      <th>Kolom Numerik</th>\n",
              "      <th>pearson</th>\n",
              "      <th>spearman</th>\n",
              "    </tr>\n",
              "  </thead>\n",
              "  <tbody>\n",
              "    <tr>\n",
              "      <th>0</th>\n",
              "      <td>SK_ID_CURR</td>\n",
              "      <td>-0.001773</td>\n",
              "      <td>-0.001778</td>\n",
              "    </tr>\n",
              "    <tr>\n",
              "      <th>1</th>\n",
              "      <td>CNT_CHILDREN</td>\n",
              "      <td>0.019982</td>\n",
              "      <td>0.020684</td>\n",
              "    </tr>\n",
              "    <tr>\n",
              "      <th>2</th>\n",
              "      <td>AMT_INCOME_TOTAL</td>\n",
              "      <td>-0.019363</td>\n",
              "      <td>-0.017574</td>\n",
              "    </tr>\n",
              "    <tr>\n",
              "      <th>3</th>\n",
              "      <td>AMT_CREDIT</td>\n",
              "      <td>-0.030687</td>\n",
              "      <td>-0.017772</td>\n",
              "    </tr>\n",
              "    <tr>\n",
              "      <th>4</th>\n",
              "      <td>AMT_ANNUITY</td>\n",
              "      <td>-0.012875</td>\n",
              "      <td>-0.000229</td>\n",
              "    </tr>\n",
              "    <tr>\n",
              "      <th>...</th>\n",
              "      <td>...</td>\n",
              "      <td>...</td>\n",
              "      <td>...</td>\n",
              "    </tr>\n",
              "    <tr>\n",
              "      <th>100</th>\n",
              "      <td>AMT_REQ_CREDIT_BUREAU_DAY</td>\n",
              "      <td>0.001688</td>\n",
              "      <td>0.003631</td>\n",
              "    </tr>\n",
              "    <tr>\n",
              "      <th>101</th>\n",
              "      <td>AMT_REQ_CREDIT_BUREAU_WEEK</td>\n",
              "      <td>0.000513</td>\n",
              "      <td>0.000139</td>\n",
              "    </tr>\n",
              "    <tr>\n",
              "      <th>102</th>\n",
              "      <td>AMT_REQ_CREDIT_BUREAU_MON</td>\n",
              "      <td>-0.011005</td>\n",
              "      <td>-0.005777</td>\n",
              "    </tr>\n",
              "    <tr>\n",
              "      <th>103</th>\n",
              "      <td>AMT_REQ_CREDIT_BUREAU_QRT</td>\n",
              "      <td>-0.002890</td>\n",
              "      <td>-0.008954</td>\n",
              "    </tr>\n",
              "    <tr>\n",
              "      <th>104</th>\n",
              "      <td>AMT_REQ_CREDIT_BUREAU_YEAR</td>\n",
              "      <td>0.018456</td>\n",
              "      <td>0.018258</td>\n",
              "    </tr>\n",
              "  </tbody>\n",
              "</table>\n",
              "<p>105 rows × 3 columns</p>\n",
              "</div>\n",
              "      <button class=\"colab-df-convert\" onclick=\"convertToInteractive('df-258c042c-844a-40d1-9e4f-3a2d7889e9c3')\"\n",
              "              title=\"Convert this dataframe to an interactive table.\"\n",
              "              style=\"display:none;\">\n",
              "        \n",
              "  <svg xmlns=\"http://www.w3.org/2000/svg\" height=\"24px\"viewBox=\"0 0 24 24\"\n",
              "       width=\"24px\">\n",
              "    <path d=\"M0 0h24v24H0V0z\" fill=\"none\"/>\n",
              "    <path d=\"M18.56 5.44l.94 2.06.94-2.06 2.06-.94-2.06-.94-.94-2.06-.94 2.06-2.06.94zm-11 1L8.5 8.5l.94-2.06 2.06-.94-2.06-.94L8.5 2.5l-.94 2.06-2.06.94zm10 10l.94 2.06.94-2.06 2.06-.94-2.06-.94-.94-2.06-.94 2.06-2.06.94z\"/><path d=\"M17.41 7.96l-1.37-1.37c-.4-.4-.92-.59-1.43-.59-.52 0-1.04.2-1.43.59L10.3 9.45l-7.72 7.72c-.78.78-.78 2.05 0 2.83L4 21.41c.39.39.9.59 1.41.59.51 0 1.02-.2 1.41-.59l7.78-7.78 2.81-2.81c.8-.78.8-2.07 0-2.86zM5.41 20L4 18.59l7.72-7.72 1.47 1.35L5.41 20z\"/>\n",
              "  </svg>\n",
              "      </button>\n",
              "      \n",
              "  <style>\n",
              "    .colab-df-container {\n",
              "      display:flex;\n",
              "      flex-wrap:wrap;\n",
              "      gap: 12px;\n",
              "    }\n",
              "\n",
              "    .colab-df-convert {\n",
              "      background-color: #E8F0FE;\n",
              "      border: none;\n",
              "      border-radius: 50%;\n",
              "      cursor: pointer;\n",
              "      display: none;\n",
              "      fill: #1967D2;\n",
              "      height: 32px;\n",
              "      padding: 0 0 0 0;\n",
              "      width: 32px;\n",
              "    }\n",
              "\n",
              "    .colab-df-convert:hover {\n",
              "      background-color: #E2EBFA;\n",
              "      box-shadow: 0px 1px 2px rgba(60, 64, 67, 0.3), 0px 1px 3px 1px rgba(60, 64, 67, 0.15);\n",
              "      fill: #174EA6;\n",
              "    }\n",
              "\n",
              "    [theme=dark] .colab-df-convert {\n",
              "      background-color: #3B4455;\n",
              "      fill: #D2E3FC;\n",
              "    }\n",
              "\n",
              "    [theme=dark] .colab-df-convert:hover {\n",
              "      background-color: #434B5C;\n",
              "      box-shadow: 0px 1px 3px 1px rgba(0, 0, 0, 0.15);\n",
              "      filter: drop-shadow(0px 1px 2px rgba(0, 0, 0, 0.3));\n",
              "      fill: #FFFFFF;\n",
              "    }\n",
              "  </style>\n",
              "\n",
              "      <script>\n",
              "        const buttonEl =\n",
              "          document.querySelector('#df-258c042c-844a-40d1-9e4f-3a2d7889e9c3 button.colab-df-convert');\n",
              "        buttonEl.style.display =\n",
              "          google.colab.kernel.accessAllowed ? 'block' : 'none';\n",
              "\n",
              "        async function convertToInteractive(key) {\n",
              "          const element = document.querySelector('#df-258c042c-844a-40d1-9e4f-3a2d7889e9c3');\n",
              "          const dataTable =\n",
              "            await google.colab.kernel.invokeFunction('convertToInteractive',\n",
              "                                                     [key], {});\n",
              "          if (!dataTable) return;\n",
              "\n",
              "          const docLinkHtml = 'Like what you see? Visit the ' +\n",
              "            '<a target=\"_blank\" href=https://colab.research.google.com/notebooks/data_table.ipynb>data table notebook</a>'\n",
              "            + ' to learn more about interactive tables.';\n",
              "          element.innerHTML = '';\n",
              "          dataTable['output_type'] = 'display_data';\n",
              "          await google.colab.output.renderOutput(dataTable, element);\n",
              "          const docLink = document.createElement('div');\n",
              "          docLink.innerHTML = docLinkHtml;\n",
              "          element.appendChild(docLink);\n",
              "        }\n",
              "      </script>\n",
              "    </div>\n",
              "  </div>\n",
              "  "
            ],
            "text/plain": [
              "                  Kolom Numerik   pearson  spearman\n",
              "0                    SK_ID_CURR -0.001773 -0.001778\n",
              "1                  CNT_CHILDREN  0.019982  0.020684\n",
              "2              AMT_INCOME_TOTAL -0.019363 -0.017574\n",
              "3                    AMT_CREDIT -0.030687 -0.017772\n",
              "4                   AMT_ANNUITY -0.012875 -0.000229\n",
              "..                          ...       ...       ...\n",
              "100   AMT_REQ_CREDIT_BUREAU_DAY  0.001688  0.003631\n",
              "101  AMT_REQ_CREDIT_BUREAU_WEEK  0.000513  0.000139\n",
              "102   AMT_REQ_CREDIT_BUREAU_MON -0.011005 -0.005777\n",
              "103   AMT_REQ_CREDIT_BUREAU_QRT -0.002890 -0.008954\n",
              "104  AMT_REQ_CREDIT_BUREAU_YEAR  0.018456  0.018258\n",
              "\n",
              "[105 rows x 3 columns]"
            ]
          },
          "execution_count": 49,
          "metadata": {},
          "output_type": "execute_result"
        }
      ],
      "source": [
        "df_korelasi_num"
      ]
    },
    {
      "cell_type": "code",
      "execution_count": 50,
      "id": "a28574e7",
      "metadata": {
        "colab": {
          "base_uri": "https://localhost:8080/"
        },
        "id": "a28574e7",
        "outputId": "5fa25073-83d1-4e8d-f4d2-d2d5150c1452"
      },
      "outputs": [
        {
          "name": "stdout",
          "output_type": "stream",
          "text": [
            "                  Kolom Numerik   pearson  spearman\n",
            "7                    DAYS_BIRTH -0.078714 -0.078755\n",
            "8                 DAYS_EMPLOYED -0.074810 -0.080693\n",
            "10              DAYS_ID_PUBLISH -0.050684 -0.051733\n",
            "11                  OWN_CAR_AGE  0.039734  0.054078\n",
            "19         REGION_RATING_CLIENT  0.059420  0.059475\n",
            "20  REGION_RATING_CLIENT_W_CITY  0.061428  0.061506\n",
            "26       REG_CITY_NOT_WORK_CITY  0.052831  0.052831\n",
            "28                 EXT_SOURCE_1 -0.155359 -0.151253\n",
            "29                 EXT_SOURCE_2 -0.160599 -0.147541\n",
            "30                 EXT_SOURCE_3 -0.177716 -0.165239\n",
            "78       DAYS_LAST_PHONE_CHANGE -0.055684 -0.054245\n"
          ]
        }
      ],
      "source": [
        "filtered_df = df_korelasi_num[(df_korelasi_num['pearson'].abs() > 0.05) | (df_korelasi_num['spearman'].abs() > 0.05)]\n",
        "filtered_df = filtered_df[['Kolom Numerik', 'pearson', 'spearman']]\n",
        "print(filtered_df)"
      ]
    },
    {
      "cell_type": "code",
      "execution_count": 51,
      "id": "7ad0b485",
      "metadata": {
        "id": "7ad0b485"
      },
      "outputs": [],
      "source": [
        "num=filtered_df['Kolom Numerik'].tolist()"
      ]
    },
    {
      "cell_type": "code",
      "execution_count": 52,
      "id": "ae550bd1",
      "metadata": {
        "id": "ae550bd1"
      },
      "outputs": [],
      "source": [
        "kolom_fitur = num + cat"
      ]
    },
    {
      "cell_type": "code",
      "execution_count": 53,
      "id": "493c414c",
      "metadata": {
        "id": "493c414c"
      },
      "outputs": [],
      "source": [
        "X_train_fix=X_train[kolom_fitur]"
      ]
    },
    {
      "cell_type": "code",
      "execution_count": 54,
      "id": "20cc5fe1",
      "metadata": {
        "colab": {
          "base_uri": "https://localhost:8080/",
          "height": 644
        },
        "id": "20cc5fe1",
        "outputId": "86719026-f52c-4d28-8da3-25bb53a36d16"
      },
      "outputs": [
        {
          "data": {
            "text/html": [
              "\n",
              "  <div id=\"df-0cb93622-7e96-4f03-b993-e5bc5f4b08d5\">\n",
              "    <div class=\"colab-df-container\">\n",
              "      <div>\n",
              "<style scoped>\n",
              "    .dataframe tbody tr th:only-of-type {\n",
              "        vertical-align: middle;\n",
              "    }\n",
              "\n",
              "    .dataframe tbody tr th {\n",
              "        vertical-align: top;\n",
              "    }\n",
              "\n",
              "    .dataframe thead th {\n",
              "        text-align: right;\n",
              "    }\n",
              "</style>\n",
              "<table border=\"1\" class=\"dataframe\">\n",
              "  <thead>\n",
              "    <tr style=\"text-align: right;\">\n",
              "      <th></th>\n",
              "      <th>DAYS_BIRTH</th>\n",
              "      <th>DAYS_EMPLOYED</th>\n",
              "      <th>DAYS_ID_PUBLISH</th>\n",
              "      <th>OWN_CAR_AGE</th>\n",
              "      <th>REGION_RATING_CLIENT</th>\n",
              "      <th>REGION_RATING_CLIENT_W_CITY</th>\n",
              "      <th>REG_CITY_NOT_WORK_CITY</th>\n",
              "      <th>EXT_SOURCE_1</th>\n",
              "      <th>EXT_SOURCE_2</th>\n",
              "      <th>EXT_SOURCE_3</th>\n",
              "      <th>...</th>\n",
              "      <th>NAME_INCOME_TYPE</th>\n",
              "      <th>NAME_EDUCATION_TYPE</th>\n",
              "      <th>NAME_FAMILY_STATUS</th>\n",
              "      <th>NAME_HOUSING_TYPE</th>\n",
              "      <th>OCCUPATION_TYPE</th>\n",
              "      <th>ORGANIZATION_TYPE</th>\n",
              "      <th>FONDKAPREMONT_MODE</th>\n",
              "      <th>HOUSETYPE_MODE</th>\n",
              "      <th>WALLSMATERIAL_MODE</th>\n",
              "      <th>EMERGENCYSTATE_MODE</th>\n",
              "    </tr>\n",
              "  </thead>\n",
              "  <tbody>\n",
              "    <tr>\n",
              "      <th>227344</th>\n",
              "      <td>9705</td>\n",
              "      <td>267.0</td>\n",
              "      <td>2311</td>\n",
              "      <td>NaN</td>\n",
              "      <td>2</td>\n",
              "      <td>2</td>\n",
              "      <td>0</td>\n",
              "      <td>NaN</td>\n",
              "      <td>0.047090</td>\n",
              "      <td>0.692559</td>\n",
              "      <td>...</td>\n",
              "      <td>Commercial associate</td>\n",
              "      <td>Secondary / secondary special</td>\n",
              "      <td>Single / not married</td>\n",
              "      <td>House / apartment</td>\n",
              "      <td>Laborers</td>\n",
              "      <td>Business Entity Type 3</td>\n",
              "      <td>reg oper account</td>\n",
              "      <td>block of flats</td>\n",
              "      <td>Panel</td>\n",
              "      <td>No</td>\n",
              "    </tr>\n",
              "    <tr>\n",
              "      <th>291079</th>\n",
              "      <td>13788</td>\n",
              "      <td>327.0</td>\n",
              "      <td>4632</td>\n",
              "      <td>NaN</td>\n",
              "      <td>2</td>\n",
              "      <td>2</td>\n",
              "      <td>0</td>\n",
              "      <td>NaN</td>\n",
              "      <td>0.690533</td>\n",
              "      <td>0.506484</td>\n",
              "      <td>...</td>\n",
              "      <td>Commercial associate</td>\n",
              "      <td>Secondary / secondary special</td>\n",
              "      <td>Married</td>\n",
              "      <td>House / apartment</td>\n",
              "      <td>Laborers</td>\n",
              "      <td>Housing</td>\n",
              "      <td>reg oper spec account</td>\n",
              "      <td>block of flats</td>\n",
              "      <td>Panel</td>\n",
              "      <td>No</td>\n",
              "    </tr>\n",
              "    <tr>\n",
              "      <th>286592</th>\n",
              "      <td>17599</td>\n",
              "      <td>844.0</td>\n",
              "      <td>1135</td>\n",
              "      <td>NaN</td>\n",
              "      <td>3</td>\n",
              "      <td>3</td>\n",
              "      <td>1</td>\n",
              "      <td>NaN</td>\n",
              "      <td>0.388123</td>\n",
              "      <td>NaN</td>\n",
              "      <td>...</td>\n",
              "      <td>Working</td>\n",
              "      <td>Secondary / secondary special</td>\n",
              "      <td>Married</td>\n",
              "      <td>House / apartment</td>\n",
              "      <td>NaN</td>\n",
              "      <td>Business Entity Type 3</td>\n",
              "      <td>NaN</td>\n",
              "      <td>NaN</td>\n",
              "      <td>NaN</td>\n",
              "      <td>NaN</td>\n",
              "    </tr>\n",
              "    <tr>\n",
              "      <th>153384</th>\n",
              "      <td>22608</td>\n",
              "      <td>NaN</td>\n",
              "      <td>4947</td>\n",
              "      <td>NaN</td>\n",
              "      <td>2</td>\n",
              "      <td>2</td>\n",
              "      <td>0</td>\n",
              "      <td>NaN</td>\n",
              "      <td>0.679831</td>\n",
              "      <td>0.763640</td>\n",
              "      <td>...</td>\n",
              "      <td>Pensioner</td>\n",
              "      <td>Secondary / secondary special</td>\n",
              "      <td>Married</td>\n",
              "      <td>House / apartment</td>\n",
              "      <td>NaN</td>\n",
              "      <td>XNA</td>\n",
              "      <td>reg oper account</td>\n",
              "      <td>block of flats</td>\n",
              "      <td>Stone, brick</td>\n",
              "      <td>No</td>\n",
              "    </tr>\n",
              "    <tr>\n",
              "      <th>130483</th>\n",
              "      <td>13321</td>\n",
              "      <td>5887.0</td>\n",
              "      <td>5989</td>\n",
              "      <td>NaN</td>\n",
              "      <td>2</td>\n",
              "      <td>2</td>\n",
              "      <td>0</td>\n",
              "      <td>0.622110</td>\n",
              "      <td>0.447977</td>\n",
              "      <td>0.508287</td>\n",
              "      <td>...</td>\n",
              "      <td>Working</td>\n",
              "      <td>Higher education</td>\n",
              "      <td>Separated</td>\n",
              "      <td>House / apartment</td>\n",
              "      <td>Core staff</td>\n",
              "      <td>School</td>\n",
              "      <td>NaN</td>\n",
              "      <td>NaN</td>\n",
              "      <td>NaN</td>\n",
              "      <td>NaN</td>\n",
              "    </tr>\n",
              "    <tr>\n",
              "      <th>...</th>\n",
              "      <td>...</td>\n",
              "      <td>...</td>\n",
              "      <td>...</td>\n",
              "      <td>...</td>\n",
              "      <td>...</td>\n",
              "      <td>...</td>\n",
              "      <td>...</td>\n",
              "      <td>...</td>\n",
              "      <td>...</td>\n",
              "      <td>...</td>\n",
              "      <td>...</td>\n",
              "      <td>...</td>\n",
              "      <td>...</td>\n",
              "      <td>...</td>\n",
              "      <td>...</td>\n",
              "      <td>...</td>\n",
              "      <td>...</td>\n",
              "      <td>...</td>\n",
              "      <td>...</td>\n",
              "      <td>...</td>\n",
              "      <td>...</td>\n",
              "    </tr>\n",
              "    <tr>\n",
              "      <th>178573</th>\n",
              "      <td>23033</td>\n",
              "      <td>222.0</td>\n",
              "      <td>3995</td>\n",
              "      <td>NaN</td>\n",
              "      <td>2</td>\n",
              "      <td>2</td>\n",
              "      <td>0</td>\n",
              "      <td>NaN</td>\n",
              "      <td>0.772702</td>\n",
              "      <td>0.621226</td>\n",
              "      <td>...</td>\n",
              "      <td>Working</td>\n",
              "      <td>Secondary / secondary special</td>\n",
              "      <td>Separated</td>\n",
              "      <td>House / apartment</td>\n",
              "      <td>High skill tech staff</td>\n",
              "      <td>Transport: type 4</td>\n",
              "      <td>NaN</td>\n",
              "      <td>block of flats</td>\n",
              "      <td>Panel</td>\n",
              "      <td>No</td>\n",
              "    </tr>\n",
              "    <tr>\n",
              "      <th>31963</th>\n",
              "      <td>10854</td>\n",
              "      <td>2412.0</td>\n",
              "      <td>2908</td>\n",
              "      <td>15.0</td>\n",
              "      <td>2</td>\n",
              "      <td>2</td>\n",
              "      <td>0</td>\n",
              "      <td>0.236655</td>\n",
              "      <td>0.515272</td>\n",
              "      <td>0.553165</td>\n",
              "      <td>...</td>\n",
              "      <td>Working</td>\n",
              "      <td>Secondary / secondary special</td>\n",
              "      <td>Married</td>\n",
              "      <td>House / apartment</td>\n",
              "      <td>Laborers</td>\n",
              "      <td>Business Entity Type 3</td>\n",
              "      <td>org spec account</td>\n",
              "      <td>block of flats</td>\n",
              "      <td>Stone, brick</td>\n",
              "      <td>No</td>\n",
              "    </tr>\n",
              "    <tr>\n",
              "      <th>220065</th>\n",
              "      <td>10453</td>\n",
              "      <td>1866.0</td>\n",
              "      <td>2169</td>\n",
              "      <td>NaN</td>\n",
              "      <td>2</td>\n",
              "      <td>2</td>\n",
              "      <td>0</td>\n",
              "      <td>0.591807</td>\n",
              "      <td>0.603728</td>\n",
              "      <td>0.612704</td>\n",
              "      <td>...</td>\n",
              "      <td>Commercial associate</td>\n",
              "      <td>Secondary / secondary special</td>\n",
              "      <td>Married</td>\n",
              "      <td>House / apartment</td>\n",
              "      <td>Core staff</td>\n",
              "      <td>Business Entity Type 2</td>\n",
              "      <td>NaN</td>\n",
              "      <td>NaN</td>\n",
              "      <td>NaN</td>\n",
              "      <td>NaN</td>\n",
              "    </tr>\n",
              "    <tr>\n",
              "      <th>285924</th>\n",
              "      <td>10267</td>\n",
              "      <td>2593.0</td>\n",
              "      <td>2345</td>\n",
              "      <td>NaN</td>\n",
              "      <td>2</td>\n",
              "      <td>2</td>\n",
              "      <td>0</td>\n",
              "      <td>NaN</td>\n",
              "      <td>0.668714</td>\n",
              "      <td>0.104795</td>\n",
              "      <td>...</td>\n",
              "      <td>Working</td>\n",
              "      <td>Secondary / secondary special</td>\n",
              "      <td>Single / not married</td>\n",
              "      <td>With parents</td>\n",
              "      <td>Sales staff</td>\n",
              "      <td>Business Entity Type 3</td>\n",
              "      <td>reg oper account</td>\n",
              "      <td>block of flats</td>\n",
              "      <td>Stone, brick</td>\n",
              "      <td>No</td>\n",
              "    </tr>\n",
              "    <tr>\n",
              "      <th>37137</th>\n",
              "      <td>17390</td>\n",
              "      <td>533.0</td>\n",
              "      <td>915</td>\n",
              "      <td>NaN</td>\n",
              "      <td>2</td>\n",
              "      <td>2</td>\n",
              "      <td>0</td>\n",
              "      <td>0.814471</td>\n",
              "      <td>0.223411</td>\n",
              "      <td>0.186293</td>\n",
              "      <td>...</td>\n",
              "      <td>Working</td>\n",
              "      <td>Secondary / secondary special</td>\n",
              "      <td>Married</td>\n",
              "      <td>House / apartment</td>\n",
              "      <td>Laborers</td>\n",
              "      <td>Business Entity Type 3</td>\n",
              "      <td>reg oper account</td>\n",
              "      <td>block of flats</td>\n",
              "      <td>Panel</td>\n",
              "      <td>No</td>\n",
              "    </tr>\n",
              "  </tbody>\n",
              "</table>\n",
              "<p>246004 rows × 26 columns</p>\n",
              "</div>\n",
              "      <button class=\"colab-df-convert\" onclick=\"convertToInteractive('df-0cb93622-7e96-4f03-b993-e5bc5f4b08d5')\"\n",
              "              title=\"Convert this dataframe to an interactive table.\"\n",
              "              style=\"display:none;\">\n",
              "        \n",
              "  <svg xmlns=\"http://www.w3.org/2000/svg\" height=\"24px\"viewBox=\"0 0 24 24\"\n",
              "       width=\"24px\">\n",
              "    <path d=\"M0 0h24v24H0V0z\" fill=\"none\"/>\n",
              "    <path d=\"M18.56 5.44l.94 2.06.94-2.06 2.06-.94-2.06-.94-.94-2.06-.94 2.06-2.06.94zm-11 1L8.5 8.5l.94-2.06 2.06-.94-2.06-.94L8.5 2.5l-.94 2.06-2.06.94zm10 10l.94 2.06.94-2.06 2.06-.94-2.06-.94-.94-2.06-.94 2.06-2.06.94z\"/><path d=\"M17.41 7.96l-1.37-1.37c-.4-.4-.92-.59-1.43-.59-.52 0-1.04.2-1.43.59L10.3 9.45l-7.72 7.72c-.78.78-.78 2.05 0 2.83L4 21.41c.39.39.9.59 1.41.59.51 0 1.02-.2 1.41-.59l7.78-7.78 2.81-2.81c.8-.78.8-2.07 0-2.86zM5.41 20L4 18.59l7.72-7.72 1.47 1.35L5.41 20z\"/>\n",
              "  </svg>\n",
              "      </button>\n",
              "      \n",
              "  <style>\n",
              "    .colab-df-container {\n",
              "      display:flex;\n",
              "      flex-wrap:wrap;\n",
              "      gap: 12px;\n",
              "    }\n",
              "\n",
              "    .colab-df-convert {\n",
              "      background-color: #E8F0FE;\n",
              "      border: none;\n",
              "      border-radius: 50%;\n",
              "      cursor: pointer;\n",
              "      display: none;\n",
              "      fill: #1967D2;\n",
              "      height: 32px;\n",
              "      padding: 0 0 0 0;\n",
              "      width: 32px;\n",
              "    }\n",
              "\n",
              "    .colab-df-convert:hover {\n",
              "      background-color: #E2EBFA;\n",
              "      box-shadow: 0px 1px 2px rgba(60, 64, 67, 0.3), 0px 1px 3px 1px rgba(60, 64, 67, 0.15);\n",
              "      fill: #174EA6;\n",
              "    }\n",
              "\n",
              "    [theme=dark] .colab-df-convert {\n",
              "      background-color: #3B4455;\n",
              "      fill: #D2E3FC;\n",
              "    }\n",
              "\n",
              "    [theme=dark] .colab-df-convert:hover {\n",
              "      background-color: #434B5C;\n",
              "      box-shadow: 0px 1px 3px 1px rgba(0, 0, 0, 0.15);\n",
              "      filter: drop-shadow(0px 1px 2px rgba(0, 0, 0, 0.3));\n",
              "      fill: #FFFFFF;\n",
              "    }\n",
              "  </style>\n",
              "\n",
              "      <script>\n",
              "        const buttonEl =\n",
              "          document.querySelector('#df-0cb93622-7e96-4f03-b993-e5bc5f4b08d5 button.colab-df-convert');\n",
              "        buttonEl.style.display =\n",
              "          google.colab.kernel.accessAllowed ? 'block' : 'none';\n",
              "\n",
              "        async function convertToInteractive(key) {\n",
              "          const element = document.querySelector('#df-0cb93622-7e96-4f03-b993-e5bc5f4b08d5');\n",
              "          const dataTable =\n",
              "            await google.colab.kernel.invokeFunction('convertToInteractive',\n",
              "                                                     [key], {});\n",
              "          if (!dataTable) return;\n",
              "\n",
              "          const docLinkHtml = 'Like what you see? Visit the ' +\n",
              "            '<a target=\"_blank\" href=https://colab.research.google.com/notebooks/data_table.ipynb>data table notebook</a>'\n",
              "            + ' to learn more about interactive tables.';\n",
              "          element.innerHTML = '';\n",
              "          dataTable['output_type'] = 'display_data';\n",
              "          await google.colab.output.renderOutput(dataTable, element);\n",
              "          const docLink = document.createElement('div');\n",
              "          docLink.innerHTML = docLinkHtml;\n",
              "          element.appendChild(docLink);\n",
              "        }\n",
              "      </script>\n",
              "    </div>\n",
              "  </div>\n",
              "  "
            ],
            "text/plain": [
              "        DAYS_BIRTH  DAYS_EMPLOYED  DAYS_ID_PUBLISH  OWN_CAR_AGE  \\\n",
              "227344        9705          267.0             2311          NaN   \n",
              "291079       13788          327.0             4632          NaN   \n",
              "286592       17599          844.0             1135          NaN   \n",
              "153384       22608            NaN             4947          NaN   \n",
              "130483       13321         5887.0             5989          NaN   \n",
              "...            ...            ...              ...          ...   \n",
              "178573       23033          222.0             3995          NaN   \n",
              "31963        10854         2412.0             2908         15.0   \n",
              "220065       10453         1866.0             2169          NaN   \n",
              "285924       10267         2593.0             2345          NaN   \n",
              "37137        17390          533.0              915          NaN   \n",
              "\n",
              "        REGION_RATING_CLIENT  REGION_RATING_CLIENT_W_CITY  \\\n",
              "227344                     2                            2   \n",
              "291079                     2                            2   \n",
              "286592                     3                            3   \n",
              "153384                     2                            2   \n",
              "130483                     2                            2   \n",
              "...                      ...                          ...   \n",
              "178573                     2                            2   \n",
              "31963                      2                            2   \n",
              "220065                     2                            2   \n",
              "285924                     2                            2   \n",
              "37137                      2                            2   \n",
              "\n",
              "        REG_CITY_NOT_WORK_CITY  EXT_SOURCE_1  EXT_SOURCE_2  EXT_SOURCE_3  ...  \\\n",
              "227344                       0           NaN      0.047090      0.692559  ...   \n",
              "291079                       0           NaN      0.690533      0.506484  ...   \n",
              "286592                       1           NaN      0.388123           NaN  ...   \n",
              "153384                       0           NaN      0.679831      0.763640  ...   \n",
              "130483                       0      0.622110      0.447977      0.508287  ...   \n",
              "...                        ...           ...           ...           ...  ...   \n",
              "178573                       0           NaN      0.772702      0.621226  ...   \n",
              "31963                        0      0.236655      0.515272      0.553165  ...   \n",
              "220065                       0      0.591807      0.603728      0.612704  ...   \n",
              "285924                       0           NaN      0.668714      0.104795  ...   \n",
              "37137                        0      0.814471      0.223411      0.186293  ...   \n",
              "\n",
              "            NAME_INCOME_TYPE            NAME_EDUCATION_TYPE  \\\n",
              "227344  Commercial associate  Secondary / secondary special   \n",
              "291079  Commercial associate  Secondary / secondary special   \n",
              "286592               Working  Secondary / secondary special   \n",
              "153384             Pensioner  Secondary / secondary special   \n",
              "130483               Working               Higher education   \n",
              "...                      ...                            ...   \n",
              "178573               Working  Secondary / secondary special   \n",
              "31963                Working  Secondary / secondary special   \n",
              "220065  Commercial associate  Secondary / secondary special   \n",
              "285924               Working  Secondary / secondary special   \n",
              "37137                Working  Secondary / secondary special   \n",
              "\n",
              "          NAME_FAMILY_STATUS  NAME_HOUSING_TYPE        OCCUPATION_TYPE  \\\n",
              "227344  Single / not married  House / apartment               Laborers   \n",
              "291079               Married  House / apartment               Laborers   \n",
              "286592               Married  House / apartment                    NaN   \n",
              "153384               Married  House / apartment                    NaN   \n",
              "130483             Separated  House / apartment             Core staff   \n",
              "...                      ...                ...                    ...   \n",
              "178573             Separated  House / apartment  High skill tech staff   \n",
              "31963                Married  House / apartment               Laborers   \n",
              "220065               Married  House / apartment             Core staff   \n",
              "285924  Single / not married       With parents            Sales staff   \n",
              "37137                Married  House / apartment               Laborers   \n",
              "\n",
              "             ORGANIZATION_TYPE     FONDKAPREMONT_MODE  HOUSETYPE_MODE  \\\n",
              "227344  Business Entity Type 3       reg oper account  block of flats   \n",
              "291079                 Housing  reg oper spec account  block of flats   \n",
              "286592  Business Entity Type 3                    NaN             NaN   \n",
              "153384                     XNA       reg oper account  block of flats   \n",
              "130483                  School                    NaN             NaN   \n",
              "...                        ...                    ...             ...   \n",
              "178573       Transport: type 4                    NaN  block of flats   \n",
              "31963   Business Entity Type 3       org spec account  block of flats   \n",
              "220065  Business Entity Type 2                    NaN             NaN   \n",
              "285924  Business Entity Type 3       reg oper account  block of flats   \n",
              "37137   Business Entity Type 3       reg oper account  block of flats   \n",
              "\n",
              "       WALLSMATERIAL_MODE EMERGENCYSTATE_MODE  \n",
              "227344              Panel                  No  \n",
              "291079              Panel                  No  \n",
              "286592                NaN                 NaN  \n",
              "153384       Stone, brick                  No  \n",
              "130483                NaN                 NaN  \n",
              "...                   ...                 ...  \n",
              "178573              Panel                  No  \n",
              "31963        Stone, brick                  No  \n",
              "220065                NaN                 NaN  \n",
              "285924       Stone, brick                  No  \n",
              "37137               Panel                  No  \n",
              "\n",
              "[246004 rows x 26 columns]"
            ]
          },
          "execution_count": 54,
          "metadata": {},
          "output_type": "execute_result"
        }
      ],
      "source": [
        "X_train_fix"
      ]
    },
    {
      "attachments": {},
      "cell_type": "markdown",
      "id": "lwgfptse9xvn",
      "metadata": {
        "id": "lwgfptse9xvn"
      },
      "source": [
        "### Fitur Kategorik"
      ]
    },
    {
      "cell_type": "code",
      "execution_count": 55,
      "id": "5L5oig-nLn7S",
      "metadata": {
        "id": "5L5oig-nLn7S"
      },
      "outputs": [],
      "source": [
        "X_train_fix_cat=X_train_fix[cat]"
      ]
    },
    {
      "cell_type": "code",
      "execution_count": 56,
      "id": "WkX0DRj6Ll5G",
      "metadata": {
        "colab": {
          "base_uri": "https://localhost:8080/",
          "height": 520
        },
        "id": "WkX0DRj6Ll5G",
        "outputId": "59557eb7-4238-4eaa-a8b7-03023ac9dcfe"
      },
      "outputs": [
        {
          "data": {
            "text/html": [
              "\n",
              "  <div id=\"df-78f9ab56-568a-4109-8348-392e5d7c8d86\">\n",
              "    <div class=\"colab-df-container\">\n",
              "      <div>\n",
              "<style scoped>\n",
              "    .dataframe tbody tr th:only-of-type {\n",
              "        vertical-align: middle;\n",
              "    }\n",
              "\n",
              "    .dataframe tbody tr th {\n",
              "        vertical-align: top;\n",
              "    }\n",
              "\n",
              "    .dataframe thead th {\n",
              "        text-align: right;\n",
              "    }\n",
              "</style>\n",
              "<table border=\"1\" class=\"dataframe\">\n",
              "  <thead>\n",
              "    <tr style=\"text-align: right;\">\n",
              "      <th></th>\n",
              "      <th>fitur</th>\n",
              "      <th>nuniq</th>\n",
              "      <th>uniq</th>\n",
              "    </tr>\n",
              "  </thead>\n",
              "  <tbody>\n",
              "    <tr>\n",
              "      <th>NAME_CONTRACT_TYPE</th>\n",
              "      <td>NAME_CONTRACT_TYPE</td>\n",
              "      <td>2</td>\n",
              "      <td>[Cash loans, Revolving loans]</td>\n",
              "    </tr>\n",
              "    <tr>\n",
              "      <th>CODE_GENDER</th>\n",
              "      <td>CODE_GENDER</td>\n",
              "      <td>2</td>\n",
              "      <td>[F, M]</td>\n",
              "    </tr>\n",
              "    <tr>\n",
              "      <th>FLAG_OWN_CAR</th>\n",
              "      <td>FLAG_OWN_CAR</td>\n",
              "      <td>2</td>\n",
              "      <td>[N, Y]</td>\n",
              "    </tr>\n",
              "    <tr>\n",
              "      <th>FLAG_OWN_REALTY</th>\n",
              "      <td>FLAG_OWN_REALTY</td>\n",
              "      <td>2</td>\n",
              "      <td>[Y, N]</td>\n",
              "    </tr>\n",
              "    <tr>\n",
              "      <th>NAME_TYPE_SUITE</th>\n",
              "      <td>NAME_TYPE_SUITE</td>\n",
              "      <td>7</td>\n",
              "      <td>[Unaccompanied, Family, Spouse, partner, Child...</td>\n",
              "    </tr>\n",
              "    <tr>\n",
              "      <th>NAME_INCOME_TYPE</th>\n",
              "      <td>NAME_INCOME_TYPE</td>\n",
              "      <td>8</td>\n",
              "      <td>[Commercial associate, Working, Pensioner, Sta...</td>\n",
              "    </tr>\n",
              "    <tr>\n",
              "      <th>NAME_EDUCATION_TYPE</th>\n",
              "      <td>NAME_EDUCATION_TYPE</td>\n",
              "      <td>5</td>\n",
              "      <td>[Secondary / secondary special, Higher educati...</td>\n",
              "    </tr>\n",
              "    <tr>\n",
              "      <th>NAME_FAMILY_STATUS</th>\n",
              "      <td>NAME_FAMILY_STATUS</td>\n",
              "      <td>6</td>\n",
              "      <td>[Single / not married, Married, Separated, Civ...</td>\n",
              "    </tr>\n",
              "    <tr>\n",
              "      <th>NAME_HOUSING_TYPE</th>\n",
              "      <td>NAME_HOUSING_TYPE</td>\n",
              "      <td>6</td>\n",
              "      <td>[House / apartment, Municipal apartment, Rente...</td>\n",
              "    </tr>\n",
              "    <tr>\n",
              "      <th>OCCUPATION_TYPE</th>\n",
              "      <td>OCCUPATION_TYPE</td>\n",
              "      <td>18</td>\n",
              "      <td>[Laborers, nan, Core staff, High skill tech st...</td>\n",
              "    </tr>\n",
              "    <tr>\n",
              "      <th>ORGANIZATION_TYPE</th>\n",
              "      <td>ORGANIZATION_TYPE</td>\n",
              "      <td>58</td>\n",
              "      <td>[Business Entity Type 3, Housing, XNA, School,...</td>\n",
              "    </tr>\n",
              "    <tr>\n",
              "      <th>FONDKAPREMONT_MODE</th>\n",
              "      <td>FONDKAPREMONT_MODE</td>\n",
              "      <td>4</td>\n",
              "      <td>[reg oper account, reg oper spec account, nan,...</td>\n",
              "    </tr>\n",
              "    <tr>\n",
              "      <th>HOUSETYPE_MODE</th>\n",
              "      <td>HOUSETYPE_MODE</td>\n",
              "      <td>3</td>\n",
              "      <td>[block of flats, nan, specific housing, terrac...</td>\n",
              "    </tr>\n",
              "    <tr>\n",
              "      <th>WALLSMATERIAL_MODE</th>\n",
              "      <td>WALLSMATERIAL_MODE</td>\n",
              "      <td>7</td>\n",
              "      <td>[Panel, nan, Stone, brick, Block, Wooden, Mixe...</td>\n",
              "    </tr>\n",
              "    <tr>\n",
              "      <th>EMERGENCYSTATE_MODE</th>\n",
              "      <td>EMERGENCYSTATE_MODE</td>\n",
              "      <td>2</td>\n",
              "      <td>[No, nan, Yes]</td>\n",
              "    </tr>\n",
              "  </tbody>\n",
              "</table>\n",
              "</div>\n",
              "      <button class=\"colab-df-convert\" onclick=\"convertToInteractive('df-78f9ab56-568a-4109-8348-392e5d7c8d86')\"\n",
              "              title=\"Convert this dataframe to an interactive table.\"\n",
              "              style=\"display:none;\">\n",
              "        \n",
              "  <svg xmlns=\"http://www.w3.org/2000/svg\" height=\"24px\"viewBox=\"0 0 24 24\"\n",
              "       width=\"24px\">\n",
              "    <path d=\"M0 0h24v24H0V0z\" fill=\"none\"/>\n",
              "    <path d=\"M18.56 5.44l.94 2.06.94-2.06 2.06-.94-2.06-.94-.94-2.06-.94 2.06-2.06.94zm-11 1L8.5 8.5l.94-2.06 2.06-.94-2.06-.94L8.5 2.5l-.94 2.06-2.06.94zm10 10l.94 2.06.94-2.06 2.06-.94-2.06-.94-.94-2.06-.94 2.06-2.06.94z\"/><path d=\"M17.41 7.96l-1.37-1.37c-.4-.4-.92-.59-1.43-.59-.52 0-1.04.2-1.43.59L10.3 9.45l-7.72 7.72c-.78.78-.78 2.05 0 2.83L4 21.41c.39.39.9.59 1.41.59.51 0 1.02-.2 1.41-.59l7.78-7.78 2.81-2.81c.8-.78.8-2.07 0-2.86zM5.41 20L4 18.59l7.72-7.72 1.47 1.35L5.41 20z\"/>\n",
              "  </svg>\n",
              "      </button>\n",
              "      \n",
              "  <style>\n",
              "    .colab-df-container {\n",
              "      display:flex;\n",
              "      flex-wrap:wrap;\n",
              "      gap: 12px;\n",
              "    }\n",
              "\n",
              "    .colab-df-convert {\n",
              "      background-color: #E8F0FE;\n",
              "      border: none;\n",
              "      border-radius: 50%;\n",
              "      cursor: pointer;\n",
              "      display: none;\n",
              "      fill: #1967D2;\n",
              "      height: 32px;\n",
              "      padding: 0 0 0 0;\n",
              "      width: 32px;\n",
              "    }\n",
              "\n",
              "    .colab-df-convert:hover {\n",
              "      background-color: #E2EBFA;\n",
              "      box-shadow: 0px 1px 2px rgba(60, 64, 67, 0.3), 0px 1px 3px 1px rgba(60, 64, 67, 0.15);\n",
              "      fill: #174EA6;\n",
              "    }\n",
              "\n",
              "    [theme=dark] .colab-df-convert {\n",
              "      background-color: #3B4455;\n",
              "      fill: #D2E3FC;\n",
              "    }\n",
              "\n",
              "    [theme=dark] .colab-df-convert:hover {\n",
              "      background-color: #434B5C;\n",
              "      box-shadow: 0px 1px 3px 1px rgba(0, 0, 0, 0.15);\n",
              "      filter: drop-shadow(0px 1px 2px rgba(0, 0, 0, 0.3));\n",
              "      fill: #FFFFFF;\n",
              "    }\n",
              "  </style>\n",
              "\n",
              "      <script>\n",
              "        const buttonEl =\n",
              "          document.querySelector('#df-78f9ab56-568a-4109-8348-392e5d7c8d86 button.colab-df-convert');\n",
              "        buttonEl.style.display =\n",
              "          google.colab.kernel.accessAllowed ? 'block' : 'none';\n",
              "\n",
              "        async function convertToInteractive(key) {\n",
              "          const element = document.querySelector('#df-78f9ab56-568a-4109-8348-392e5d7c8d86');\n",
              "          const dataTable =\n",
              "            await google.colab.kernel.invokeFunction('convertToInteractive',\n",
              "                                                     [key], {});\n",
              "          if (!dataTable) return;\n",
              "\n",
              "          const docLinkHtml = 'Like what you see? Visit the ' +\n",
              "            '<a target=\"_blank\" href=https://colab.research.google.com/notebooks/data_table.ipynb>data table notebook</a>'\n",
              "            + ' to learn more about interactive tables.';\n",
              "          element.innerHTML = '';\n",
              "          dataTable['output_type'] = 'display_data';\n",
              "          await google.colab.output.renderOutput(dataTable, element);\n",
              "          const docLink = document.createElement('div');\n",
              "          docLink.innerHTML = docLinkHtml;\n",
              "          element.appendChild(docLink);\n",
              "        }\n",
              "      </script>\n",
              "    </div>\n",
              "  </div>\n",
              "  "
            ],
            "text/plain": [
              "                                   fitur  nuniq  \\\n",
              "NAME_CONTRACT_TYPE    NAME_CONTRACT_TYPE      2   \n",
              "CODE_GENDER                  CODE_GENDER      2   \n",
              "FLAG_OWN_CAR                FLAG_OWN_CAR      2   \n",
              "FLAG_OWN_REALTY          FLAG_OWN_REALTY      2   \n",
              "NAME_TYPE_SUITE          NAME_TYPE_SUITE      7   \n",
              "NAME_INCOME_TYPE        NAME_INCOME_TYPE      8   \n",
              "NAME_EDUCATION_TYPE  NAME_EDUCATION_TYPE      5   \n",
              "NAME_FAMILY_STATUS    NAME_FAMILY_STATUS      6   \n",
              "NAME_HOUSING_TYPE      NAME_HOUSING_TYPE      6   \n",
              "OCCUPATION_TYPE          OCCUPATION_TYPE     18   \n",
              "ORGANIZATION_TYPE      ORGANIZATION_TYPE     58   \n",
              "FONDKAPREMONT_MODE    FONDKAPREMONT_MODE      4   \n",
              "HOUSETYPE_MODE            HOUSETYPE_MODE      3   \n",
              "WALLSMATERIAL_MODE    WALLSMATERIAL_MODE      7   \n",
              "EMERGENCYSTATE_MODE  EMERGENCYSTATE_MODE      2   \n",
              "\n",
              "                                                                  uniq  \n",
              "NAME_CONTRACT_TYPE                       [Cash loans, Revolving loans]  \n",
              "CODE_GENDER                                                     [F, M]  \n",
              "FLAG_OWN_CAR                                                    [N, Y]  \n",
              "FLAG_OWN_REALTY                                                 [Y, N]  \n",
              "NAME_TYPE_SUITE      [Unaccompanied, Family, Spouse, partner, Child...  \n",
              "NAME_INCOME_TYPE     [Commercial associate, Working, Pensioner, Sta...  \n",
              "NAME_EDUCATION_TYPE  [Secondary / secondary special, Higher educati...  \n",
              "NAME_FAMILY_STATUS   [Single / not married, Married, Separated, Civ...  \n",
              "NAME_HOUSING_TYPE    [House / apartment, Municipal apartment, Rente...  \n",
              "OCCUPATION_TYPE      [Laborers, nan, Core staff, High skill tech st...  \n",
              "ORGANIZATION_TYPE    [Business Entity Type 3, Housing, XNA, School,...  \n",
              "FONDKAPREMONT_MODE   [reg oper account, reg oper spec account, nan,...  \n",
              "HOUSETYPE_MODE       [block of flats, nan, specific housing, terrac...  \n",
              "WALLSMATERIAL_MODE   [Panel, nan, Stone, brick, Block, Wooden, Mixe...  \n",
              "EMERGENCYSTATE_MODE                                     [No, nan, Yes]  "
            ]
          },
          "execution_count": 56,
          "metadata": {},
          "output_type": "execute_result"
        }
      ],
      "source": [
        "data = {\n",
        "    'fitur': X_train_fix_cat.columns,\n",
        "    'nuniq': X_train_fix_cat.nunique(),\n",
        "    'uniq': X_train_fix_cat.apply(lambda x: x.unique())\n",
        "}\n",
        "X_cat_uniq = pd.DataFrame(data)\n",
        "\n",
        "X_cat_uniq"
      ]
    },
    {
      "cell_type": "code",
      "execution_count": 57,
      "id": "E_ocxT8uwmvl",
      "metadata": {
        "colab": {
          "base_uri": "https://localhost:8080/"
        },
        "id": "E_ocxT8uwmvl",
        "outputId": "0702733a-a660-4d18-e6ed-31ac9532874e"
      },
      "outputs": [
        {
          "name": "stdout",
          "output_type": "stream",
          "text": [
            "<class 'pandas.core.frame.DataFrame'>\n",
            "Int64Index: 246004 entries, 227344 to 37137\n",
            "Data columns (total 26 columns):\n",
            " #   Column                       Non-Null Count   Dtype  \n",
            "---  ------                       --------------   -----  \n",
            " 0   DAYS_BIRTH                   246004 non-null  int64  \n",
            " 1   DAYS_EMPLOYED                201599 non-null  float64\n",
            " 2   DAYS_ID_PUBLISH              246004 non-null  int64  \n",
            " 3   OWN_CAR_AGE                  83845 non-null   float64\n",
            " 4   REGION_RATING_CLIENT         246004 non-null  int64  \n",
            " 5   REGION_RATING_CLIENT_W_CITY  246004 non-null  int64  \n",
            " 6   REG_CITY_NOT_WORK_CITY       246004 non-null  int64  \n",
            " 7   EXT_SOURCE_1                 107252 non-null  float64\n",
            " 8   EXT_SOURCE_2                 245454 non-null  float64\n",
            " 9   EXT_SOURCE_3                 197193 non-null  float64\n",
            " 10  DAYS_LAST_PHONE_CHANGE       246003 non-null  float64\n",
            " 11  NAME_CONTRACT_TYPE           246004 non-null  object \n",
            " 12  CODE_GENDER                  246004 non-null  object \n",
            " 13  FLAG_OWN_CAR                 246004 non-null  object \n",
            " 14  FLAG_OWN_REALTY              246004 non-null  object \n",
            " 15  NAME_TYPE_SUITE              244944 non-null  object \n",
            " 16  NAME_INCOME_TYPE             246004 non-null  object \n",
            " 17  NAME_EDUCATION_TYPE          246004 non-null  object \n",
            " 18  NAME_FAMILY_STATUS           246004 non-null  object \n",
            " 19  NAME_HOUSING_TYPE            246004 non-null  object \n",
            " 20  OCCUPATION_TYPE              168859 non-null  object \n",
            " 21  ORGANIZATION_TYPE            246004 non-null  object \n",
            " 22  FONDKAPREMONT_MODE           77840 non-null   object \n",
            " 23  HOUSETYPE_MODE               122625 non-null  object \n",
            " 24  WALLSMATERIAL_MODE           120993 non-null  object \n",
            " 25  EMERGENCYSTATE_MODE          129430 non-null  object \n",
            "dtypes: float64(6), int64(5), object(15)\n",
            "memory usage: 58.7+ MB\n"
          ]
        }
      ],
      "source": [
        "X_train_fix.info()"
      ]
    },
    {
      "cell_type": "code",
      "execution_count": 58,
      "id": "6RCITwRuoVf4",
      "metadata": {
        "id": "6RCITwRuoVf4"
      },
      "outputs": [],
      "source": [
        "cat_lab=X_cat_uniq['fitur'][X_cat_uniq[\"nuniq\"]==2].tolist()"
      ]
    },
    {
      "attachments": {},
      "cell_type": "markdown",
      "id": "I1hyABSPowTe",
      "metadata": {
        "id": "I1hyABSPowTe"
      },
      "source": []
    },
    {
      "cell_type": "code",
      "execution_count": 59,
      "id": "2NwaXNQiow5j",
      "metadata": {
        "id": "2NwaXNQiow5j"
      },
      "outputs": [],
      "source": [
        "cat_nlab=[col for col in cat if col not in cat_lab]"
      ]
    },
    {
      "cell_type": "code",
      "execution_count": 60,
      "id": "WKhdwu4bJC7n",
      "metadata": {
        "id": "WKhdwu4bJC7n"
      },
      "outputs": [],
      "source": [
        "cat_ord=['NAME_EDUCATION_TYPE']\n",
        "cat_nom=[col for col in cat_nlab if col not in cat_ord]"
      ]
    },
    {
      "cell_type": "code",
      "execution_count": 61,
      "id": "G65zF_yENmQw",
      "metadata": {
        "colab": {
          "base_uri": "https://localhost:8080/"
        },
        "id": "G65zF_yENmQw",
        "outputId": "0e210cdb-d940-40a5-9350-8744c6986389"
      },
      "outputs": [
        {
          "data": {
            "text/plain": [
              "array(['Secondary / secondary special', 'Higher education',\n",
              "       'Lower secondary', 'Incomplete higher', 'Academic degree'],\n",
              "      dtype=object)"
            ]
          },
          "execution_count": 61,
          "metadata": {},
          "output_type": "execute_result"
        }
      ],
      "source": [
        "X_train_fix['NAME_EDUCATION_TYPE'].unique()"
      ]
    },
    {
      "cell_type": "code",
      "execution_count": 62,
      "id": "EwINkz6VwDnU",
      "metadata": {
        "colab": {
          "base_uri": "https://localhost:8080/"
        },
        "id": "EwINkz6VwDnU",
        "outputId": "5317ff78-25c3-4634-afc9-a7c49c077c77"
      },
      "outputs": [
        {
          "data": {
            "text/plain": [
              "['NAME_CONTRACT_TYPE',\n",
              " 'CODE_GENDER',\n",
              " 'FLAG_OWN_CAR',\n",
              " 'FLAG_OWN_REALTY',\n",
              " 'EMERGENCYSTATE_MODE']"
            ]
          },
          "execution_count": 62,
          "metadata": {},
          "output_type": "execute_result"
        }
      ],
      "source": [
        "cat_lab"
      ]
    },
    {
      "cell_type": "code",
      "execution_count": 63,
      "id": "usddtnnEv4NZ",
      "metadata": {
        "colab": {
          "base_uri": "https://localhost:8080/"
        },
        "id": "usddtnnEv4NZ",
        "outputId": "304e788c-6f25-4a1d-df28-c32f39eadc72"
      },
      "outputs": [
        {
          "data": {
            "text/plain": [
              "['NAME_TYPE_SUITE',\n",
              " 'NAME_INCOME_TYPE',\n",
              " 'NAME_FAMILY_STATUS',\n",
              " 'NAME_HOUSING_TYPE',\n",
              " 'OCCUPATION_TYPE',\n",
              " 'ORGANIZATION_TYPE',\n",
              " 'FONDKAPREMONT_MODE',\n",
              " 'HOUSETYPE_MODE',\n",
              " 'WALLSMATERIAL_MODE']"
            ]
          },
          "execution_count": 63,
          "metadata": {},
          "output_type": "execute_result"
        }
      ],
      "source": [
        "cat_nom"
      ]
    },
    {
      "attachments": {},
      "cell_type": "markdown",
      "id": "DpKQoosKoJ84",
      "metadata": {
        "id": "DpKQoosKoJ84"
      },
      "source": [
        "### Fitur Numerik - Outlier"
      ]
    },
    {
      "cell_type": "code",
      "execution_count": 64,
      "id": "eeR4ASIbK02X",
      "metadata": {
        "colab": {
          "base_uri": "https://localhost:8080/"
        },
        "id": "eeR4ASIbK02X",
        "outputId": "aec7fd1c-5b65-42f0-edc4-87ae2647f340"
      },
      "outputs": [
        {
          "name": "stdout",
          "output_type": "stream",
          "text": [
            "                                              Nama Kolom  Skewness  Kurtosis\n",
            "DAYS_BIRTH                                    DAYS_BIRTH  0.115423 -1.048660\n",
            "DAYS_EMPLOYED                              DAYS_EMPLOYED  1.967045  4.743147\n",
            "DAYS_ID_PUBLISH                          DAYS_ID_PUBLISH -0.352391 -1.104731\n",
            "OWN_CAR_AGE                                  OWN_CAR_AGE  2.753827  9.295969\n",
            "REGION_RATING_CLIENT                REGION_RATING_CLIENT  0.087798  0.799462\n",
            "REGION_RATING_CLIENT_W_CITY  REGION_RATING_CLIENT_W_CITY  0.060084  0.933719\n",
            "REG_CITY_NOT_WORK_CITY            REG_CITY_NOT_WORK_CITY  1.281514 -0.357725\n",
            "EXT_SOURCE_1                                EXT_SOURCE_1 -0.066800 -0.966387\n",
            "EXT_SOURCE_2                                EXT_SOURCE_2 -0.794133 -0.265433\n",
            "EXT_SOURCE_3                                EXT_SOURCE_3 -0.410778 -0.663707\n",
            "DAYS_LAST_PHONE_CHANGE            DAYS_LAST_PHONE_CHANGE  0.712562 -0.309739\n"
          ]
        }
      ],
      "source": [
        "import pandas as pd\n",
        "import scipy.stats as stats\n",
        "\n",
        "# Hitung skewness dan kurtosis untuk setiap kolom\n",
        "kolom = X_train[num].columns\n",
        "skewness = X_train[num].skew()\n",
        "kurtosis = X_train[num].kurtosis()\n",
        "\n",
        "# Buat DataFrame baru dengan kolom nama, skewness, dan kurtosis\n",
        "data = {\n",
        "    'Nama Kolom': kolom,\n",
        "    'Skewness': skewness,\n",
        "    'Kurtosis': kurtosis\n",
        "}\n",
        "df_stats = pd.DataFrame(data)\n",
        "\n",
        "# Tampilkan DataFrame dengan nilai skewness dan kurtosis\n",
        "print(df_stats)"
      ]
    },
    {
      "cell_type": "code",
      "execution_count": 65,
      "id": "3pq4b94CL3VW",
      "metadata": {
        "colab": {
          "base_uri": "https://localhost:8080/"
        },
        "id": "3pq4b94CL3VW",
        "outputId": "5cc9458d-1d15-4bcc-ed1f-c61a4fe7da4a"
      },
      "outputs": [
        {
          "name": "stdout",
          "output_type": "stream",
          "text": [
            "                                    Nama Kolom  Skewness\n",
            "DAYS_EMPLOYED                    DAYS_EMPLOYED  1.967045\n",
            "OWN_CAR_AGE                        OWN_CAR_AGE  2.753827\n",
            "REG_CITY_NOT_WORK_CITY  REG_CITY_NOT_WORK_CITY  1.281514\n",
            "EXT_SOURCE_2                      EXT_SOURCE_2 -0.794133\n",
            "DAYS_LAST_PHONE_CHANGE  DAYS_LAST_PHONE_CHANGE  0.712562\n"
          ]
        }
      ],
      "source": [
        "filtered_df = df_stats[(df_stats['Skewness'].abs() > 0.5)]\n",
        "filtered_df = filtered_df[['Nama Kolom','Skewness']]\n",
        "print(filtered_df)"
      ]
    },
    {
      "cell_type": "code",
      "execution_count": 66,
      "id": "_QyBc2qjMczh",
      "metadata": {
        "id": "_QyBc2qjMczh"
      },
      "outputs": [],
      "source": [
        "num_skew=filtered_df['Nama Kolom'].tolist()\n",
        "num_nor=[col for col in num if col not in num_skew]"
      ]
    },
    {
      "cell_type": "code",
      "execution_count": 67,
      "id": "vGkwt393QiCD",
      "metadata": {
        "id": "vGkwt393QiCD"
      },
      "outputs": [],
      "source": [
        "#break"
      ]
    },
    {
      "cell_type": "code",
      "execution_count": 68,
      "id": "0gIzCy75R6pB",
      "metadata": {
        "id": "0gIzCy75R6pB"
      },
      "outputs": [],
      "source": [
        "from sklearn.preprocessing import RobustScaler\n",
        "from sklearn.impute import SimpleImputer"
      ]
    },
    {
      "cell_type": "code",
      "execution_count": 69,
      "id": "f8ExraYQYBYK",
      "metadata": {
        "id": "f8ExraYQYBYK"
      },
      "outputs": [],
      "source": [
        "from scipy.stats.mstats import winsorize"
      ]
    },
    {
      "attachments": {},
      "cell_type": "markdown",
      "id": "55uBuQTli6Zs",
      "metadata": {
        "id": "55uBuQTli6Zs"
      },
      "source": [
        "##Pipeline"
      ]
    },
    {
      "cell_type": "code",
      "execution_count": 70,
      "id": "44da818e",
      "metadata": {
        "id": "44da818e"
      },
      "outputs": [],
      "source": [
        "num_imputer_skew = SimpleImputer(strategy='median')\n",
        "\n",
        "num_skew_pipeline = Pipeline([\n",
        "    ('imputer', num_imputer_skew),\n",
        "    ('winsorizer', Winsorizer(capping_method='gaussian', tail='both', fold=0.05)),\n",
        "    ('scaler', RobustScaler())\n",
        "])\n",
        "\n",
        "num_imputer_nor = SimpleImputer(strategy='mean')\n",
        "\n",
        "num_nor_pipeline = Pipeline([\n",
        "    ('imputer', num_imputer_nor),\n",
        "    ('scaler', StandardScaler())\n",
        "])\n",
        "\n",
        "cat_imputer = SimpleImputer(strategy='most_frequent')\n",
        "\n",
        "cat_nom_pipeline = Pipeline([\n",
        "    ('imputer', cat_imputer),\n",
        "    ('encoder', OneHotEncoder())\n",
        "])\n",
        "\n",
        "cat_lab_pipeline = Pipeline([\n",
        "    ('imputer', cat_imputer),\n",
        "    ('encoder', OrdinalEncoder())\n",
        "])\n",
        "\n",
        "cat_ord_pipeline = Pipeline([\n",
        "    ('encoder', OrdinalEncoder(categories=[[ 'Lower secondary',\n",
        "                                            'Secondary / secondary special',\n",
        "                                             'Incomplete higher',\n",
        "                                            'Higher education',\n",
        "                                            'Academic degree']]))\n",
        "])\n",
        "\n",
        "\n",
        "\n",
        "pipeline = ColumnTransformer(\n",
        "    transformers=[\n",
        "        ('num_skew', num_skew_pipeline, num_skew),\n",
        "        ('num_nor', num_nor_pipeline, num_nor),\n",
        "        ('cat_nom', cat_nom_pipeline, cat_nom),\n",
        "        ('cat_lab', cat_lab_pipeline, cat_lab),\n",
        "        ('cat_ord', cat_ord_pipeline, cat_ord)\n",
        "    ]\n",
        ")"
      ]
    },
    {
      "cell_type": "code",
      "execution_count": 71,
      "id": "wMMiS8R8ptZu",
      "metadata": {
        "colab": {
          "base_uri": "https://localhost:8080/"
        },
        "id": "wMMiS8R8ptZu",
        "outputId": "7892f9e4-daf5-4032-ea8e-aceaaada7b7f"
      },
      "outputs": [
        {
          "data": {
            "text/plain": [
              "(246004, 26)"
            ]
          },
          "execution_count": 71,
          "metadata": {},
          "output_type": "execute_result"
        }
      ],
      "source": [
        "X_train_fix.shape"
      ]
    },
    {
      "cell_type": "code",
      "execution_count": 72,
      "id": "140c5a04",
      "metadata": {
        "id": "140c5a04"
      },
      "outputs": [],
      "source": [
        "X_train_scaled = pipeline.fit_transform(X_train_fix)\n",
        "X_test_scaled = pipeline.transform(X_test)"
      ]
    },
    {
      "cell_type": "code",
      "execution_count": 73,
      "id": "c_oqaH082U6g",
      "metadata": {
        "colab": {
          "base_uri": "https://localhost:8080/"
        },
        "id": "c_oqaH082U6g",
        "outputId": "1fa64f3b-170f-49eb-da32-a494924372a2"
      },
      "outputs": [
        {
          "data": {
            "text/plain": [
              "(246004, 134)"
            ]
          },
          "execution_count": 73,
          "metadata": {},
          "output_type": "execute_result"
        }
      ],
      "source": [
        "X_train_scaled.shape"
      ]
    },
    {
      "cell_type": "code",
      "execution_count": 74,
      "id": "gPcsjNKpdXgk",
      "metadata": {
        "id": "gPcsjNKpdXgk"
      },
      "outputs": [],
      "source": [
        "#break"
      ]
    },
    {
      "attachments": {},
      "cell_type": "markdown",
      "id": "rDGWE1qVcXZo",
      "metadata": {
        "id": "rDGWE1qVcXZo"
      },
      "source": [
        "## TSVD"
      ]
    },
    {
      "attachments": {},
      "cell_type": "markdown",
      "id": "qtWblszU9Xlg",
      "metadata": {
        "id": "qtWblszU9Xlg"
      },
      "source": [
        "### Mencari nilai n_estimator\n",
        "\n",
        "kode berasal dari\n",
        "https://www.kaggle.com/code/rahulpatel11315/selecting-the-best-number-of-components-for-tsvd"
      ]
    },
    {
      "cell_type": "code",
      "execution_count": 75,
      "id": "oYpK75G8hnhe",
      "metadata": {
        "id": "oYpK75G8hnhe"
      },
      "outputs": [],
      "source": [
        "from sklearn.decomposition import TruncatedSVD"
      ]
    },
    {
      "cell_type": "code",
      "execution_count": 76,
      "id": "j_NdEgbAnxBc",
      "metadata": {
        "colab": {
          "base_uri": "https://localhost:8080/"
        },
        "id": "j_NdEgbAnxBc",
        "outputId": "0ffbe7ab-21a5-4897-e1f3-f510a5892081"
      },
      "outputs": [
        {
          "data": {
            "text/plain": [
              "(246004, 134)"
            ]
          },
          "execution_count": 76,
          "metadata": {},
          "output_type": "execute_result"
        }
      ],
      "source": [
        "X_train_scaled.shape"
      ]
    },
    {
      "cell_type": "code",
      "execution_count": 77,
      "id": "IAo7G_1ZblLU",
      "metadata": {
        "id": "IAo7G_1ZblLU"
      },
      "outputs": [],
      "source": [
        "tsvd = TruncatedSVD(n_components=X_train_scaled.shape[1]-1)\n",
        "X_tsvd = tsvd.fit(X_train_scaled)"
      ]
    },
    {
      "cell_type": "code",
      "execution_count": 78,
      "id": "UQYdEMmjbl1m",
      "metadata": {
        "id": "UQYdEMmjbl1m"
      },
      "outputs": [],
      "source": [
        "tsvd_var_ratios = tsvd.explained_variance_ratio_"
      ]
    },
    {
      "cell_type": "code",
      "execution_count": 79,
      "id": "ZLQzsUClcFvM",
      "metadata": {
        "id": "ZLQzsUClcFvM"
      },
      "outputs": [],
      "source": [
        "def select_n_components(var_ratio, goal_var: float) -> int:\n",
        "    # Set initial variance explained so far\n",
        "    total_variance = 0.0\n",
        "\n",
        "     # Set initial number of features\n",
        "    n_components = 0\n",
        "\n",
        "    # For the explained variance of each feature:\n",
        "    for explained_variance in var_ratio:\n",
        "\n",
        "        # Add the explained variance to the total\n",
        "        total_variance += explained_variance\n",
        "\n",
        "        # Add one to the number of components\n",
        "        n_components += 1\n",
        "\n",
        "        # If we reach our goal level of explained variance\n",
        "        if total_variance >= goal_var:\n",
        "            # End the loop\n",
        "           break\n",
        "\n",
        "    # Return the number of components\n",
        "    return n_components"
      ]
    },
    {
      "cell_type": "code",
      "execution_count": 80,
      "id": "59oUnwIXcMgT",
      "metadata": {
        "id": "59oUnwIXcMgT"
      },
      "outputs": [],
      "source": [
        "n_components=select_n_components(tsvd_var_ratios, 0.95)"
      ]
    },
    {
      "cell_type": "code",
      "execution_count": 81,
      "id": "YcZfkpzUKkpH",
      "metadata": {
        "colab": {
          "base_uri": "https://localhost:8080/"
        },
        "id": "YcZfkpzUKkpH",
        "outputId": "1bbdfcd7-82df-4fe1-bf5c-d9def7fdd448"
      },
      "outputs": [
        {
          "data": {
            "text/plain": [
              "41"
            ]
          },
          "execution_count": 81,
          "metadata": {},
          "output_type": "execute_result"
        }
      ],
      "source": [
        "n_components"
      ]
    },
    {
      "attachments": {},
      "cell_type": "markdown",
      "id": "QRVSzv1r9fC_",
      "metadata": {
        "id": "QRVSzv1r9fC_"
      },
      "source": [
        "### Reduksi dengan TSVD"
      ]
    },
    {
      "cell_type": "code",
      "execution_count": 82,
      "id": "menCaM0LROyJ",
      "metadata": {
        "id": "menCaM0LROyJ"
      },
      "outputs": [],
      "source": [
        "svd = TruncatedSVD(n_components)  # Specify the desired number of components\n",
        "\n",
        "X_train_svd = svd.fit_transform(X_train_scaled)\n",
        "X_test_svd = svd.transform(X_test_scaled)"
      ]
    },
    {
      "cell_type": "code",
      "execution_count": 83,
      "id": "b7g-D3EpbANk",
      "metadata": {
        "colab": {
          "base_uri": "https://localhost:8080/"
        },
        "id": "b7g-D3EpbANk",
        "outputId": "fb5a23f4-564c-4331-ed9d-7ea23bdfa0a2"
      },
      "outputs": [
        {
          "data": {
            "text/plain": [
              "0.951970339412625"
            ]
          },
          "execution_count": 83,
          "metadata": {},
          "output_type": "execute_result"
        }
      ],
      "source": [
        "var_explained = svd.explained_variance_ratio_.sum()\n",
        "var_explained"
      ]
    },
    {
      "cell_type": "code",
      "execution_count": 84,
      "id": "a4CSL3NSb9n_",
      "metadata": {
        "colab": {
          "base_uri": "https://localhost:8080/"
        },
        "id": "a4CSL3NSb9n_",
        "outputId": "1e219e47-c096-40c6-9fe9-67ebd7c61063"
      },
      "outputs": [
        {
          "data": {
            "text/plain": [
              "(246004, 41)"
            ]
          },
          "execution_count": 84,
          "metadata": {},
          "output_type": "execute_result"
        }
      ],
      "source": [
        "X_train_svd.shape"
      ]
    },
    {
      "cell_type": "code",
      "execution_count": 85,
      "id": "86uCKoK0Tk44",
      "metadata": {
        "colab": {
          "base_uri": "https://localhost:8080/"
        },
        "id": "86uCKoK0Tk44",
        "outputId": "b896d6e0-43ea-40db-92c3-d8edcf043dc7"
      },
      "outputs": [
        {
          "data": {
            "text/plain": [
              "(246004, 41)"
            ]
          },
          "execution_count": 85,
          "metadata": {},
          "output_type": "execute_result"
        }
      ],
      "source": [
        "X_train_svd.shape"
      ]
    },
    {
      "cell_type": "code",
      "execution_count": 86,
      "id": "fSLkGngIaS2t",
      "metadata": {
        "colab": {
          "base_uri": "https://localhost:8080/"
        },
        "id": "fSLkGngIaS2t",
        "outputId": "3b7d094e-e68c-40d0-a053-6ae2f61c0d2a"
      },
      "outputs": [
        {
          "data": {
            "text/plain": [
              "(61502, 41)"
            ]
          },
          "execution_count": 86,
          "metadata": {},
          "output_type": "execute_result"
        }
      ],
      "source": [
        "X_test_svd.shape"
      ]
    },
    {
      "attachments": {},
      "cell_type": "markdown",
      "id": "RtcFaSDp5q15",
      "metadata": {
        "id": "RtcFaSDp5q15"
      },
      "source": [
        "## Resampling"
      ]
    },
    {
      "cell_type": "code",
      "execution_count": 87,
      "id": "13cbd5be",
      "metadata": {
        "id": "13cbd5be"
      },
      "outputs": [],
      "source": [
        "from imblearn.under_sampling import RandomUnderSampler\n",
        "from imblearn.over_sampling import RandomOverSampler\n",
        "from imblearn.over_sampling import SMOTE\n",
        "from imblearn.under_sampling import RandomUnderSampler"
      ]
    },
    {
      "cell_type": "code",
      "execution_count": 88,
      "id": "tWk1tzACVyCb",
      "metadata": {
        "id": "tWk1tzACVyCb"
      },
      "outputs": [],
      "source": [
        "#ros = SMOTE(sampling_strategy=\n",
        "#            'auto'\n",
        "#            #{1: (123002)}\n",
        "#            ,\n",
        "#            random_state=42)\n",
        "\n",
        "rus = RandomUnderSampler(sampling_strategy=\n",
        "                         'auto'\n",
        "                        #{0: (123002)}\n",
        "                         ,\n",
        "                         random_state=42)"
      ]
    },
    {
      "cell_type": "code",
      "execution_count": 89,
      "id": "X7ZA7ML9yepl",
      "metadata": {
        "id": "X7ZA7ML9yepl"
      },
      "outputs": [],
      "source": [
        "# Oversampling\n",
        "#X_oversampled, y_oversampled = ros.fit_resample(X_train_svd, y_train)"
      ]
    },
    {
      "cell_type": "code",
      "execution_count": 90,
      "id": "TBlBYa_dw_xS",
      "metadata": {
        "id": "TBlBYa_dw_xS"
      },
      "outputs": [],
      "source": [
        "#y_oversampled.value_counts()"
      ]
    },
    {
      "cell_type": "code",
      "execution_count": 91,
      "id": "N_WRcbrgFzJS",
      "metadata": {
        "id": "N_WRcbrgFzJS"
      },
      "outputs": [],
      "source": [
        "# Undersampling\n",
        "#X_resampled, y_resampled = rus.fit_resample(X_oversampled, y_oversampled)"
      ]
    },
    {
      "cell_type": "code",
      "execution_count": 92,
      "id": "NBVnIBrNAo2j",
      "metadata": {
        "id": "NBVnIBrNAo2j"
      },
      "outputs": [],
      "source": [
        "X_resampled, y_resampled = rus.fit_resample(X_train_svd, y_train)"
      ]
    },
    {
      "cell_type": "code",
      "execution_count": 93,
      "id": "tZTYz_IluWNT",
      "metadata": {
        "colab": {
          "base_uri": "https://localhost:8080/"
        },
        "id": "tZTYz_IluWNT",
        "outputId": "5a8ea79e-fd4d-4958-e7c5-377907271a73"
      },
      "outputs": [
        {
          "data": {
            "text/plain": [
              "0    19772\n",
              "1    19772\n",
              "Name: TARGET, dtype: int64"
            ]
          },
          "execution_count": 93,
          "metadata": {},
          "output_type": "execute_result"
        }
      ],
      "source": [
        "y_resampled.value_counts()"
      ]
    },
    {
      "cell_type": "code",
      "execution_count": 93,
      "id": "YmYFVwvI9Sf9",
      "metadata": {
        "id": "YmYFVwvI9Sf9"
      },
      "outputs": [],
      "source": []
    },
    {
      "attachments": {},
      "cell_type": "markdown",
      "id": "DhstDKKB9SB5",
      "metadata": {
        "id": "DhstDKKB9SB5"
      },
      "source": []
    },
    {
      "cell_type": "code",
      "execution_count": 94,
      "id": "Rl7bokag9fyy",
      "metadata": {
        "colab": {
          "base_uri": "https://localhost:8080/"
        },
        "id": "Rl7bokag9fyy",
        "outputId": "3943651f-2ef5-4907-fa63-80f9c0d8a442"
      },
      "outputs": [
        {
          "data": {
            "text/plain": [
              "0    19772\n",
              "1    19772\n",
              "Name: TARGET, dtype: int64"
            ]
          },
          "execution_count": 94,
          "metadata": {},
          "output_type": "execute_result"
        }
      ],
      "source": [
        "y_resampled.value_counts()"
      ]
    },
    {
      "attachments": {},
      "cell_type": "markdown",
      "id": "n0fkgqsJ9TO4",
      "metadata": {
        "id": "n0fkgqsJ9TO4"
      },
      "source": []
    },
    {
      "cell_type": "code",
      "execution_count": 95,
      "id": "HQdmXijlvmZD",
      "metadata": {
        "id": "HQdmXijlvmZD"
      },
      "outputs": [],
      "source": [
        "X_train_fin=X_resampled\n",
        "y_train_fin=y_resampled\n"
      ]
    },
    {
      "cell_type": "code",
      "execution_count": 96,
      "id": "ky8cpFyiPUo8",
      "metadata": {
        "colab": {
          "base_uri": "https://localhost:8080/"
        },
        "id": "ky8cpFyiPUo8",
        "outputId": "1dae6444-aaa3-454a-ad3d-5e89fc2fb65e"
      },
      "outputs": [
        {
          "data": {
            "text/plain": [
              "array([[ 3.71450071e+00,  1.88711291e-01,  4.32910734e-01, ...,\n",
              "         4.33362847e-02, -7.19068528e-02, -9.22430800e-02],\n",
              "       [ 2.66504714e+00, -8.73635559e-02,  8.60373256e-01, ...,\n",
              "         3.12428044e-01, -5.40084371e-02, -1.23885185e-01],\n",
              "       [ 3.20328194e+00, -2.72345866e+00, -3.08448507e-01, ...,\n",
              "         2.94367214e-01,  3.54581426e-02, -1.07674826e-02],\n",
              "       ...,\n",
              "       [ 2.63049386e+00, -2.95781783e-01,  8.08352019e-01, ...,\n",
              "        -1.03997638e-01,  2.53764556e-02, -2.98753072e-03],\n",
              "       [ 2.13970585e+00,  1.54348153e-02,  9.75264160e-01, ...,\n",
              "         2.36505740e-01, -3.47662796e-02,  5.72636661e-02],\n",
              "       [ 2.13037740e+00, -2.18883790e-01,  2.01224686e+00, ...,\n",
              "         4.43229911e-02, -1.17732896e-02, -4.55545115e-03]])"
            ]
          },
          "execution_count": 96,
          "metadata": {},
          "output_type": "execute_result"
        }
      ],
      "source": [
        "X_train_fin"
      ]
    },
    {
      "cell_type": "code",
      "execution_count": 96,
      "id": "tgsAHHVTyu7k",
      "metadata": {
        "id": "tgsAHHVTyu7k"
      },
      "outputs": [],
      "source": []
    },
    {
      "cell_type": "code",
      "execution_count": 97,
      "id": "14mxwm3jsP3z",
      "metadata": {
        "id": "14mxwm3jsP3z"
      },
      "outputs": [],
      "source": [
        "#break"
      ]
    },
    {
      "attachments": {},
      "cell_type": "markdown",
      "id": "FFXCQa-mgpzN",
      "metadata": {
        "id": "FFXCQa-mgpzN"
      },
      "source": []
    },
    {
      "attachments": {},
      "cell_type": "markdown",
      "id": "wv8edZJ4Vn5C",
      "metadata": {
        "id": "wv8edZJ4Vn5C"
      },
      "source": [
        "# Inisiasi Model"
      ]
    },
    {
      "cell_type": "code",
      "execution_count": 98,
      "id": "Uu0KZP3zeQNR",
      "metadata": {
        "id": "Uu0KZP3zeQNR"
      },
      "outputs": [],
      "source": [
        "lr = LogisticRegression()"
      ]
    },
    {
      "cell_type": "code",
      "execution_count": 99,
      "id": "yIsP9FEyMbgu",
      "metadata": {
        "id": "yIsP9FEyMbgu"
      },
      "outputs": [],
      "source": [
        "lgb =LGBMClassifier()"
      ]
    },
    {
      "cell_type": "code",
      "execution_count": 100,
      "id": "GZxBJ475-EPX",
      "metadata": {
        "id": "GZxBJ475-EPX"
      },
      "outputs": [],
      "source": [
        "xgb=XGBClassifier()"
      ]
    },
    {
      "cell_type": "code",
      "execution_count": 101,
      "id": "E38HUZc1s37x",
      "metadata": {
        "id": "E38HUZc1s37x"
      },
      "outputs": [],
      "source": [
        "def evaluasi (model):\n",
        "  y_train_pred = model.predict(X_train_fin)\n",
        "  y_pred = model.predict(X_test_svd)\n",
        "\n",
        "  print('Train')\n",
        "  print(classification_report(y_train_fin, y_train_pred))\n",
        "  print('Test')\n",
        "  print(classification_report(y_test, y_pred))\n",
        "  print('Train')\n",
        "  print(confusion_matrix(y_train_fin, y_train_pred))\n",
        "  print('Test')\n",
        "  print(confusion_matrix(y_test, y_pred))\n",
        "  print('Train')\n",
        "  print(roc_auc_score(y_train_fin, y_train_pred))\n",
        "  print('Test')\n",
        "  print(roc_auc_score(y_test, y_pred))"
      ]
    },
    {
      "cell_type": "code",
      "execution_count": 102,
      "id": "oo1pkl7FzMQE",
      "metadata": {
        "id": "oo1pkl7FzMQE"
      },
      "outputs": [],
      "source": [
        "#break"
      ]
    },
    {
      "attachments": {},
      "cell_type": "markdown",
      "id": "Yx_ir2HEgr-K",
      "metadata": {
        "id": "Yx_ir2HEgr-K"
      },
      "source": [
        "# Training dan Evaluasi"
      ]
    },
    {
      "attachments": {},
      "cell_type": "markdown",
      "id": "g3r0FDJ5ePAM",
      "metadata": {
        "id": "g3r0FDJ5ePAM"
      },
      "source": [
        "## Log Reg"
      ]
    },
    {
      "cell_type": "code",
      "execution_count": 103,
      "id": "w0CW7EHBeVMR",
      "metadata": {
        "id": "w0CW7EHBeVMR"
      },
      "outputs": [],
      "source": [
        "model_lr=lr.fit(X_train_fin, y_train_fin)"
      ]
    },
    {
      "cell_type": "code",
      "execution_count": 104,
      "id": "8DyXqt2vegW0",
      "metadata": {
        "colab": {
          "base_uri": "https://localhost:8080/"
        },
        "id": "8DyXqt2vegW0",
        "outputId": "e7a5dc46-3135-4025-97e2-7f7239bfe654"
      },
      "outputs": [
        {
          "name": "stdout",
          "output_type": "stream",
          "text": [
            "Train\n",
            "              precision    recall  f1-score   support\n",
            "\n",
            "           0       0.67      0.68      0.67     19772\n",
            "           1       0.67      0.67      0.67     19772\n",
            "\n",
            "    accuracy                           0.67     39544\n",
            "   macro avg       0.67      0.67      0.67     39544\n",
            "weighted avg       0.67      0.67      0.67     39544\n",
            "\n",
            "Test\n",
            "              precision    recall  f1-score   support\n",
            "\n",
            "           0       0.96      0.67      0.79     56450\n",
            "           1       0.15      0.67      0.25      5052\n",
            "\n",
            "    accuracy                           0.67     61502\n",
            "   macro avg       0.56      0.67      0.52     61502\n",
            "weighted avg       0.89      0.67      0.74     61502\n",
            "\n",
            "Train\n",
            "[[13356  6416]\n",
            " [ 6483 13289]]\n",
            "Test\n",
            "[[37776 18674]\n",
            " [ 1668  3384]]\n",
            "Train\n",
            "0.6738063928788185\n",
            "Test\n",
            "0.6695138530934613\n"
          ]
        }
      ],
      "source": [
        "evaluasi (model_lr)"
      ]
    },
    {
      "attachments": {},
      "cell_type": "markdown",
      "id": "BomFqVHAM5ga",
      "metadata": {
        "id": "BomFqVHAM5ga"
      },
      "source": [
        "## LGB"
      ]
    },
    {
      "cell_type": "code",
      "execution_count": 105,
      "id": "ewK65adP4qBn",
      "metadata": {
        "id": "ewK65adP4qBn"
      },
      "outputs": [],
      "source": [
        "model_lgb=lgb.fit(X_train_fin, y_train_fin)"
      ]
    },
    {
      "cell_type": "code",
      "execution_count": 106,
      "id": "XrWg2vR7NCVn",
      "metadata": {
        "colab": {
          "base_uri": "https://localhost:8080/"
        },
        "id": "XrWg2vR7NCVn",
        "outputId": "2d2ec021-9112-4446-f5d7-1b27e2a8e442"
      },
      "outputs": [
        {
          "name": "stdout",
          "output_type": "stream",
          "text": [
            "Train\n",
            "              precision    recall  f1-score   support\n",
            "\n",
            "           0       0.73      0.72      0.73     19772\n",
            "           1       0.73      0.74      0.73     19772\n",
            "\n",
            "    accuracy                           0.73     39544\n",
            "   macro avg       0.73      0.73      0.73     39544\n",
            "weighted avg       0.73      0.73      0.73     39544\n",
            "\n",
            "Test\n",
            "              precision    recall  f1-score   support\n",
            "\n",
            "           0       0.96      0.66      0.78     56450\n",
            "           1       0.15      0.68      0.25      5052\n",
            "\n",
            "    accuracy                           0.66     61502\n",
            "   macro avg       0.56      0.67      0.51     61502\n",
            "weighted avg       0.89      0.66      0.74     61502\n",
            "\n",
            "Train\n",
            "[[14316  5456]\n",
            " [ 5239 14533]]\n",
            "Test\n",
            "[[37206 19244]\n",
            " [ 1607  3445]]\n",
            "Train\n",
            "0.7295417762492413\n",
            "Test\n",
            "0.670502350400827\n"
          ]
        }
      ],
      "source": [
        "evaluasi (model_lgb)"
      ]
    },
    {
      "cell_type": "code",
      "execution_count": 106,
      "id": "7lQlIxMl448z",
      "metadata": {
        "id": "7lQlIxMl448z"
      },
      "outputs": [],
      "source": []
    },
    {
      "attachments": {},
      "cell_type": "markdown",
      "id": "6q6kKxgKfivd",
      "metadata": {
        "id": "6q6kKxgKfivd"
      },
      "source": [
        "## XGB"
      ]
    },
    {
      "cell_type": "code",
      "execution_count": 107,
      "id": "djEMql4Q41Pd",
      "metadata": {
        "id": "djEMql4Q41Pd"
      },
      "outputs": [],
      "source": [
        "model_xgb=xgb.fit(X_train_fin, y_train_fin)"
      ]
    },
    {
      "cell_type": "code",
      "execution_count": 108,
      "id": "s-Oil8IovGa1",
      "metadata": {
        "colab": {
          "base_uri": "https://localhost:8080/"
        },
        "id": "s-Oil8IovGa1",
        "outputId": "4f6ffa09-a0e3-4617-a781-3360a0ec2016"
      },
      "outputs": [
        {
          "name": "stdout",
          "output_type": "stream",
          "text": [
            "Train\n",
            "              precision    recall  f1-score   support\n",
            "\n",
            "           0       0.81      0.80      0.80     19772\n",
            "           1       0.80      0.81      0.81     19772\n",
            "\n",
            "    accuracy                           0.80     39544\n",
            "   macro avg       0.80      0.80      0.80     39544\n",
            "weighted avg       0.80      0.80      0.80     39544\n",
            "\n",
            "Test\n",
            "              precision    recall  f1-score   support\n",
            "\n",
            "           0       0.96      0.65      0.77     56450\n",
            "           1       0.15      0.67      0.24      5052\n",
            "\n",
            "    accuracy                           0.65     61502\n",
            "   macro avg       0.55      0.66      0.51     61502\n",
            "weighted avg       0.89      0.65      0.73     61502\n",
            "\n",
            "Train\n",
            "[[15858  3914]\n",
            " [ 3805 15967]]\n",
            "Test\n",
            "[[36746 19704]\n",
            " [ 1691  3361]]\n",
            "Train\n",
            "0.8047997167711916\n",
            "Test\n",
            "0.658114409082653\n"
          ]
        }
      ],
      "source": [
        "evaluasi (model_xgb)"
      ]
    },
    {
      "cell_type": "code",
      "execution_count": 109,
      "id": "3Td0n0pz8vNJ",
      "metadata": {
        "id": "3Td0n0pz8vNJ"
      },
      "outputs": [],
      "source": [
        "#break"
      ]
    },
    {
      "attachments": {},
      "cell_type": "markdown",
      "id": "BdyQjrkq6NVA",
      "metadata": {
        "id": "BdyQjrkq6NVA"
      },
      "source": [
        "## Log Reg - RandomSearch"
      ]
    },
    {
      "cell_type": "code",
      "execution_count": 110,
      "id": "9m5bAIuPqp_-",
      "metadata": {
        "colab": {
          "base_uri": "https://localhost:8080/"
        },
        "id": "9m5bAIuPqp_-",
        "outputId": "a365933e-3819-49b8-8ee1-7acea22ff1a4"
      },
      "outputs": [
        {
          "name": "stdout",
          "output_type": "stream",
          "text": [
            "Best parameters:  {'solver': 'liblinear', 'penalty': 'l1', 'max_iter': 10000, 'C': 0.1}\n",
            "Best score:  0.7331827055532207\n"
          ]
        }
      ],
      "source": [
        "from sklearn.model_selection import RandomizedSearchCV\n",
        "from lightgbm import LGBMClassifier\n",
        "\n",
        "param_grid = {'C': [0.1, 1.0, 10.0],\n",
        "              'penalty': ['l1', 'l2'],\n",
        "              'max_iter': [100,1000,10000],\n",
        "              'solver': ['newton-cg', 'lbfgs', 'liblinear', 'sag','saga']}\n",
        "\n",
        "\n",
        "\n",
        "random_search = RandomizedSearchCV(model_lr, param_grid, n_iter=3, scoring='roc_auc', cv=5, random_state=42)\n",
        "\n",
        "\n",
        "random_search.fit(X_train_fin, y_train_fin)\n",
        "\n",
        "\n",
        "print(\"Best parameters: \", random_search.best_params_)\n",
        "print(\"Best score: \", random_search.best_score_)\n"
      ]
    },
    {
      "cell_type": "code",
      "execution_count": 111,
      "id": "L_IAlc0dq5jb",
      "metadata": {
        "id": "L_IAlc0dq5jb"
      },
      "outputs": [],
      "source": [
        "best_model_lr = random_search.best_estimator_"
      ]
    },
    {
      "cell_type": "code",
      "execution_count": 112,
      "id": "CBW4wEZHq65s",
      "metadata": {
        "colab": {
          "base_uri": "https://localhost:8080/"
        },
        "id": "CBW4wEZHq65s",
        "outputId": "f3ced68f-2fa5-4245-d361-703728af2799"
      },
      "outputs": [
        {
          "name": "stdout",
          "output_type": "stream",
          "text": [
            "Train\n",
            "              precision    recall  f1-score   support\n",
            "\n",
            "           0       0.67      0.68      0.67     19772\n",
            "           1       0.67      0.67      0.67     19772\n",
            "\n",
            "    accuracy                           0.67     39544\n",
            "   macro avg       0.67      0.67      0.67     39544\n",
            "weighted avg       0.67      0.67      0.67     39544\n",
            "\n",
            "Test\n",
            "              precision    recall  f1-score   support\n",
            "\n",
            "           0       0.96      0.67      0.79     56450\n",
            "           1       0.15      0.67      0.25      5052\n",
            "\n",
            "    accuracy                           0.67     61502\n",
            "   macro avg       0.56      0.67      0.52     61502\n",
            "weighted avg       0.89      0.67      0.74     61502\n",
            "\n",
            "Train\n",
            "[[13350  6422]\n",
            " [ 6483 13289]]\n",
            "Test\n",
            "[[37751 18699]\n",
            " [ 1663  3389]]\n",
            "Train\n",
            "0.6736546631600242\n",
            "Test\n",
            "0.6697872717186785\n"
          ]
        }
      ],
      "source": [
        "evaluasi (best_model_lr)"
      ]
    },
    {
      "attachments": {},
      "cell_type": "markdown",
      "id": "HO3eVc0oyhYL",
      "metadata": {
        "id": "HO3eVc0oyhYL"
      },
      "source": [
        "## LGB - RandomSearch"
      ]
    },
    {
      "cell_type": "code",
      "execution_count": 113,
      "id": "Dgib5f0Dw_w_",
      "metadata": {
        "colab": {
          "base_uri": "https://localhost:8080/"
        },
        "id": "Dgib5f0Dw_w_",
        "outputId": "4fa9d150-9cc6-4a3d-e5e1-bfabed2ee0b5"
      },
      "outputs": [
        {
          "name": "stdout",
          "output_type": "stream",
          "text": [
            "Best parameters:  {'n_estimators': 100, 'max_depth': 3, 'learning_rate': 0.1, 'boosting_type': 'gbdt'}\n",
            "Best score:  0.7287408727641382\n"
          ]
        }
      ],
      "source": [
        "\n",
        "param_grid = {\n",
        "    'boosting_type': ['gbdt', 'dart', 'goss', 'rf'],\n",
        "    'n_estimators': [100, 200, 300],\n",
        "    'learning_rate': [0.1, 0.01, 0.001],\n",
        "    'max_depth': [-1, 1, 3, 5, 7, 9, 11]\n",
        "}\n",
        "\n",
        "model = LGBMClassifier()\n",
        "\n",
        "random_search = RandomizedSearchCV(model, param_grid, n_iter=3, scoring='roc_auc', cv=5, random_state=42)\n",
        "\n",
        "random_search.fit(X_train_fin, y_train_fin)\n",
        "\n",
        "print(\"Best parameters: \", random_search.best_params_)\n",
        "print(\"Best score: \", random_search.best_score_)\n"
      ]
    },
    {
      "cell_type": "code",
      "execution_count": 114,
      "id": "LdLMKcC8ys0f",
      "metadata": {
        "id": "LdLMKcC8ys0f"
      },
      "outputs": [],
      "source": [
        "best_model_rs = random_search.best_estimator_"
      ]
    },
    {
      "cell_type": "code",
      "execution_count": 115,
      "id": "Rrubad40yte5",
      "metadata": {
        "colab": {
          "base_uri": "https://localhost:8080/"
        },
        "id": "Rrubad40yte5",
        "outputId": "f69991a4-4ee9-45be-83e2-9bcbc5d21d3d"
      },
      "outputs": [
        {
          "name": "stdout",
          "output_type": "stream",
          "text": [
            "Train\n",
            "              precision    recall  f1-score   support\n",
            "\n",
            "           0       0.69      0.67      0.68     19772\n",
            "           1       0.68      0.70      0.69     19772\n",
            "\n",
            "    accuracy                           0.68     39544\n",
            "   macro avg       0.68      0.68      0.68     39544\n",
            "weighted avg       0.68      0.68      0.68     39544\n",
            "\n",
            "Test\n",
            "              precision    recall  f1-score   support\n",
            "\n",
            "           0       0.96      0.65      0.77     56450\n",
            "           1       0.15      0.69      0.24      5052\n",
            "\n",
            "    accuracy                           0.65     61502\n",
            "   macro avg       0.55      0.67      0.51     61502\n",
            "weighted avg       0.89      0.65      0.73     61502\n",
            "\n",
            "Train\n",
            "[[13272  6500]\n",
            " [ 5969 13803]]\n",
            "Test\n",
            "[[36699 19751]\n",
            " [ 1590  3462]]\n",
            "Train\n",
            "0.6846803560590734\n",
            "Test\n",
            "0.6676941526459628\n"
          ]
        }
      ],
      "source": [
        "evaluasi (best_model_rs)"
      ]
    },
    {
      "attachments": {},
      "cell_type": "markdown",
      "id": "jCfd_Gst6Iky",
      "metadata": {
        "id": "jCfd_Gst6Iky"
      },
      "source": [
        "## XGB - RandomSearch"
      ]
    },
    {
      "cell_type": "code",
      "execution_count": 116,
      "id": "j2hb82xweBS8",
      "metadata": {
        "colab": {
          "base_uri": "https://localhost:8080/"
        },
        "id": "j2hb82xweBS8",
        "outputId": "a536b50a-3726-4367-961b-60e5c9950fce"
      },
      "outputs": [
        {
          "name": "stdout",
          "output_type": "stream",
          "text": [
            "Best parameters:  {'n_estimators': 100, 'max_depth': 3, 'learning_rate': 0.3}\n",
            "Best score:  0.7253227897350781\n"
          ]
        }
      ],
      "source": [
        "param_grid = {\n",
        "    'n_estimators': [100, 200, 300],\n",
        "    'learning_rate': [0.3, 0.1 , 0.01, 0.001],\n",
        "    'max_depth': [3, 5, 6, 7, 9]\n",
        "}\n",
        "\n",
        "model = XGBClassifier()\n",
        "\n",
        "random_search = RandomizedSearchCV(model_xgb, param_grid, n_iter=3, scoring='roc_auc', cv=5, random_state=42)\n",
        "\n",
        "random_search.fit(X_train_fin, y_train_fin)\n",
        "\n",
        "print(\"Best parameters: \", random_search.best_params_)\n",
        "print(\"Best score: \", random_search.best_score_)\n"
      ]
    },
    {
      "cell_type": "code",
      "execution_count": 117,
      "id": "iYpKB1EmzKdc",
      "metadata": {
        "id": "iYpKB1EmzKdc"
      },
      "outputs": [],
      "source": [
        "best_model_xgb = random_search.best_estimator_"
      ]
    },
    {
      "cell_type": "code",
      "execution_count": 118,
      "id": "a_5HsVTBzfVw",
      "metadata": {
        "colab": {
          "base_uri": "https://localhost:8080/"
        },
        "id": "a_5HsVTBzfVw",
        "outputId": "0367494d-ef3f-4643-d05d-0937461404d6"
      },
      "outputs": [
        {
          "name": "stdout",
          "output_type": "stream",
          "text": [
            "Train\n",
            "              precision    recall  f1-score   support\n",
            "\n",
            "           0       0.70      0.69      0.70     19772\n",
            "           1       0.70      0.71      0.70     19772\n",
            "\n",
            "    accuracy                           0.70     39544\n",
            "   macro avg       0.70      0.70      0.70     39544\n",
            "weighted avg       0.70      0.70      0.70     39544\n",
            "\n",
            "Test\n",
            "              precision    recall  f1-score   support\n",
            "\n",
            "           0       0.96      0.66      0.78     56450\n",
            "           1       0.15      0.68      0.25      5052\n",
            "\n",
            "    accuracy                           0.66     61502\n",
            "   macro avg       0.55      0.67      0.51     61502\n",
            "weighted avg       0.89      0.66      0.74     61502\n",
            "\n",
            "Train\n",
            "[[13741  6031]\n",
            " [ 5761 14011]]\n",
            "Test\n",
            "[[37049 19401]\n",
            " [ 1622  3430]]\n",
            "Train\n",
            "0.7018005259963584\n",
            "Test\n",
            "0.6676271786704367\n"
          ]
        }
      ],
      "source": [
        "evaluasi (best_model_xgb)"
      ]
    },
    {
      "cell_type": "code",
      "execution_count": 118,
      "id": "XedFnFsDiK1r",
      "metadata": {
        "id": "XedFnFsDiK1r"
      },
      "outputs": [],
      "source": []
    },
    {
      "attachments": {},
      "cell_type": "markdown",
      "id": "jjuVVnaFgxGk",
      "metadata": {
        "id": "jjuVVnaFgxGk"
      },
      "source": []
    },
    {
      "attachments": {},
      "cell_type": "markdown",
      "id": "I64kmGndgxXA",
      "metadata": {
        "id": "I64kmGndgxXA"
      },
      "source": [
        "# Simpan Model"
      ]
    },
    {
      "cell_type": "code",
      "execution_count": 119,
      "id": "g7ebQl-lpF4k",
      "metadata": {
        "id": "g7ebQl-lpF4k"
      },
      "outputs": [],
      "source": [
        "best_model = model_lgb"
      ]
    },
    {
      "cell_type": "code",
      "execution_count": 148,
      "id": "zpdpCN2onLSw",
      "metadata": {
        "id": "zpdpCN2onLSw"
      },
      "outputs": [],
      "source": [
        "# Save Pipeline\n",
        "with open('pipeline.pkl', 'wb') as file_1:\n",
        "  pickle.dump(pipeline, file_1)\n",
        "\n",
        "# model\n",
        "with open('TSDV.pkl', 'wb') as file_2:\n",
        "  pickle.dump(svd, file_2)\n",
        "\n",
        "# model\n",
        "with open('best_model.pkl', 'wb') as file_3:\n",
        "  pickle.dump(best_model, file_3)\n",
        "\n",
        "# list fs\n",
        "with open('kolom_fitur.txt', 'w') as file_4:\n",
        "  json.dump(kolom_fitur, file_4)"
      ]
    },
    {
      "attachments": {},
      "cell_type": "markdown",
      "id": "UYs09Wu4g0ab",
      "metadata": {
        "id": "UYs09Wu4g0ab"
      },
      "source": [
        "# Data Inference"
      ]
    },
    {
      "cell_type": "code",
      "execution_count": 121,
      "id": "VaY00TXSprvs",
      "metadata": {
        "id": "VaY00TXSprvs"
      },
      "outputs": [],
      "source": [
        "df_inf=df2[kolom_fitur]"
      ]
    },
    {
      "cell_type": "code",
      "execution_count": 122,
      "id": "DGo6Z9EMp7yF",
      "metadata": {
        "id": "DGo6Z9EMp7yF"
      },
      "outputs": [],
      "source": [
        "df_inf_scaled = pipeline.transform(df_inf)"
      ]
    },
    {
      "cell_type": "code",
      "execution_count": 123,
      "id": "lWkJd1qDrP6F",
      "metadata": {
        "id": "lWkJd1qDrP6F"
      },
      "outputs": [],
      "source": [
        "df_inf_svd = svd.transform(df_inf_scaled)"
      ]
    },
    {
      "cell_type": "code",
      "execution_count": 124,
      "id": "TVMDuUMBqFFV",
      "metadata": {
        "colab": {
          "base_uri": "https://localhost:8080/"
        },
        "id": "TVMDuUMBqFFV",
        "outputId": "8b8201dd-245c-4821-e68f-877d030fa811"
      },
      "outputs": [
        {
          "data": {
            "text/plain": [
              "array([[0.75618762, 0.24381238],\n",
              "       [0.67109945, 0.32890055],\n",
              "       [0.6941261 , 0.3058739 ],\n",
              "       ...,\n",
              "       [0.71688777, 0.28311223],\n",
              "       [0.59042358, 0.40957642],\n",
              "       [0.6852427 , 0.3147573 ]])"
            ]
          },
          "execution_count": 124,
          "metadata": {},
          "output_type": "execute_result"
        }
      ],
      "source": [
        "inf_pred_proba = best_model.predict_proba(df_inf_svd)\n",
        "\n",
        "inf_pred_proba"
      ]
    },
    {
      "cell_type": "code",
      "execution_count": 125,
      "id": "v2LceaVurgVm",
      "metadata": {
        "colab": {
          "base_uri": "https://localhost:8080/"
        },
        "id": "v2LceaVurgVm",
        "outputId": "032773cb-6623-4d0d-e391-15e571dcadec"
      },
      "outputs": [
        {
          "data": {
            "text/plain": [
              "array([0, 0, 0, ..., 0, 0, 0])"
            ]
          },
          "execution_count": 125,
          "metadata": {},
          "output_type": "execute_result"
        }
      ],
      "source": [
        "inf_pred = best_model.predict(df_inf_svd)\n",
        "\n",
        "inf_pred"
      ]
    },
    {
      "cell_type": "code",
      "execution_count": 126,
      "id": "zWc3bbcqrmCu",
      "metadata": {
        "colab": {
          "base_uri": "https://localhost:8080/",
          "height": 424
        },
        "id": "zWc3bbcqrmCu",
        "outputId": "e26c5f61-0249-4f33-9f7b-8293a4cad94f"
      },
      "outputs": [
        {
          "data": {
            "text/html": [
              "\n",
              "  <div id=\"df-f68a0d8b-a758-4972-a96f-f7ce8df1f28e\">\n",
              "    <div class=\"colab-df-container\">\n",
              "      <div>\n",
              "<style scoped>\n",
              "    .dataframe tbody tr th:only-of-type {\n",
              "        vertical-align: middle;\n",
              "    }\n",
              "\n",
              "    .dataframe tbody tr th {\n",
              "        vertical-align: top;\n",
              "    }\n",
              "\n",
              "    .dataframe thead th {\n",
              "        text-align: right;\n",
              "    }\n",
              "</style>\n",
              "<table border=\"1\" class=\"dataframe\">\n",
              "  <thead>\n",
              "    <tr style=\"text-align: right;\">\n",
              "      <th></th>\n",
              "      <th>proba_0</th>\n",
              "      <th>proba_1</th>\n",
              "      <th>inf_pred</th>\n",
              "    </tr>\n",
              "  </thead>\n",
              "  <tbody>\n",
              "    <tr>\n",
              "      <th>0</th>\n",
              "      <td>0.756188</td>\n",
              "      <td>0.243812</td>\n",
              "      <td>0</td>\n",
              "    </tr>\n",
              "    <tr>\n",
              "      <th>1</th>\n",
              "      <td>0.671099</td>\n",
              "      <td>0.328901</td>\n",
              "      <td>0</td>\n",
              "    </tr>\n",
              "    <tr>\n",
              "      <th>2</th>\n",
              "      <td>0.694126</td>\n",
              "      <td>0.305874</td>\n",
              "      <td>0</td>\n",
              "    </tr>\n",
              "    <tr>\n",
              "      <th>3</th>\n",
              "      <td>0.727013</td>\n",
              "      <td>0.272987</td>\n",
              "      <td>0</td>\n",
              "    </tr>\n",
              "    <tr>\n",
              "      <th>4</th>\n",
              "      <td>0.631394</td>\n",
              "      <td>0.368606</td>\n",
              "      <td>0</td>\n",
              "    </tr>\n",
              "    <tr>\n",
              "      <th>...</th>\n",
              "      <td>...</td>\n",
              "      <td>...</td>\n",
              "      <td>...</td>\n",
              "    </tr>\n",
              "    <tr>\n",
              "      <th>48739</th>\n",
              "      <td>0.540631</td>\n",
              "      <td>0.459369</td>\n",
              "      <td>0</td>\n",
              "    </tr>\n",
              "    <tr>\n",
              "      <th>48740</th>\n",
              "      <td>0.734878</td>\n",
              "      <td>0.265122</td>\n",
              "      <td>0</td>\n",
              "    </tr>\n",
              "    <tr>\n",
              "      <th>48741</th>\n",
              "      <td>0.716888</td>\n",
              "      <td>0.283112</td>\n",
              "      <td>0</td>\n",
              "    </tr>\n",
              "    <tr>\n",
              "      <th>48742</th>\n",
              "      <td>0.590424</td>\n",
              "      <td>0.409576</td>\n",
              "      <td>0</td>\n",
              "    </tr>\n",
              "    <tr>\n",
              "      <th>48743</th>\n",
              "      <td>0.685243</td>\n",
              "      <td>0.314757</td>\n",
              "      <td>0</td>\n",
              "    </tr>\n",
              "  </tbody>\n",
              "</table>\n",
              "<p>48744 rows × 3 columns</p>\n",
              "</div>\n",
              "      <button class=\"colab-df-convert\" onclick=\"convertToInteractive('df-f68a0d8b-a758-4972-a96f-f7ce8df1f28e')\"\n",
              "              title=\"Convert this dataframe to an interactive table.\"\n",
              "              style=\"display:none;\">\n",
              "        \n",
              "  <svg xmlns=\"http://www.w3.org/2000/svg\" height=\"24px\"viewBox=\"0 0 24 24\"\n",
              "       width=\"24px\">\n",
              "    <path d=\"M0 0h24v24H0V0z\" fill=\"none\"/>\n",
              "    <path d=\"M18.56 5.44l.94 2.06.94-2.06 2.06-.94-2.06-.94-.94-2.06-.94 2.06-2.06.94zm-11 1L8.5 8.5l.94-2.06 2.06-.94-2.06-.94L8.5 2.5l-.94 2.06-2.06.94zm10 10l.94 2.06.94-2.06 2.06-.94-2.06-.94-.94-2.06-.94 2.06-2.06.94z\"/><path d=\"M17.41 7.96l-1.37-1.37c-.4-.4-.92-.59-1.43-.59-.52 0-1.04.2-1.43.59L10.3 9.45l-7.72 7.72c-.78.78-.78 2.05 0 2.83L4 21.41c.39.39.9.59 1.41.59.51 0 1.02-.2 1.41-.59l7.78-7.78 2.81-2.81c.8-.78.8-2.07 0-2.86zM5.41 20L4 18.59l7.72-7.72 1.47 1.35L5.41 20z\"/>\n",
              "  </svg>\n",
              "      </button>\n",
              "      \n",
              "  <style>\n",
              "    .colab-df-container {\n",
              "      display:flex;\n",
              "      flex-wrap:wrap;\n",
              "      gap: 12px;\n",
              "    }\n",
              "\n",
              "    .colab-df-convert {\n",
              "      background-color: #E8F0FE;\n",
              "      border: none;\n",
              "      border-radius: 50%;\n",
              "      cursor: pointer;\n",
              "      display: none;\n",
              "      fill: #1967D2;\n",
              "      height: 32px;\n",
              "      padding: 0 0 0 0;\n",
              "      width: 32px;\n",
              "    }\n",
              "\n",
              "    .colab-df-convert:hover {\n",
              "      background-color: #E2EBFA;\n",
              "      box-shadow: 0px 1px 2px rgba(60, 64, 67, 0.3), 0px 1px 3px 1px rgba(60, 64, 67, 0.15);\n",
              "      fill: #174EA6;\n",
              "    }\n",
              "\n",
              "    [theme=dark] .colab-df-convert {\n",
              "      background-color: #3B4455;\n",
              "      fill: #D2E3FC;\n",
              "    }\n",
              "\n",
              "    [theme=dark] .colab-df-convert:hover {\n",
              "      background-color: #434B5C;\n",
              "      box-shadow: 0px 1px 3px 1px rgba(0, 0, 0, 0.15);\n",
              "      filter: drop-shadow(0px 1px 2px rgba(0, 0, 0, 0.3));\n",
              "      fill: #FFFFFF;\n",
              "    }\n",
              "  </style>\n",
              "\n",
              "      <script>\n",
              "        const buttonEl =\n",
              "          document.querySelector('#df-f68a0d8b-a758-4972-a96f-f7ce8df1f28e button.colab-df-convert');\n",
              "        buttonEl.style.display =\n",
              "          google.colab.kernel.accessAllowed ? 'block' : 'none';\n",
              "\n",
              "        async function convertToInteractive(key) {\n",
              "          const element = document.querySelector('#df-f68a0d8b-a758-4972-a96f-f7ce8df1f28e');\n",
              "          const dataTable =\n",
              "            await google.colab.kernel.invokeFunction('convertToInteractive',\n",
              "                                                     [key], {});\n",
              "          if (!dataTable) return;\n",
              "\n",
              "          const docLinkHtml = 'Like what you see? Visit the ' +\n",
              "            '<a target=\"_blank\" href=https://colab.research.google.com/notebooks/data_table.ipynb>data table notebook</a>'\n",
              "            + ' to learn more about interactive tables.';\n",
              "          element.innerHTML = '';\n",
              "          dataTable['output_type'] = 'display_data';\n",
              "          await google.colab.output.renderOutput(dataTable, element);\n",
              "          const docLink = document.createElement('div');\n",
              "          docLink.innerHTML = docLinkHtml;\n",
              "          element.appendChild(docLink);\n",
              "        }\n",
              "      </script>\n",
              "    </div>\n",
              "  </div>\n",
              "  "
            ],
            "text/plain": [
              "        proba_0   proba_1  inf_pred\n",
              "0      0.756188  0.243812         0\n",
              "1      0.671099  0.328901         0\n",
              "2      0.694126  0.305874         0\n",
              "3      0.727013  0.272987         0\n",
              "4      0.631394  0.368606         0\n",
              "...         ...       ...       ...\n",
              "48739  0.540631  0.459369         0\n",
              "48740  0.734878  0.265122         0\n",
              "48741  0.716888  0.283112         0\n",
              "48742  0.590424  0.409576         0\n",
              "48743  0.685243  0.314757         0\n",
              "\n",
              "[48744 rows x 3 columns]"
            ]
          },
          "execution_count": 126,
          "metadata": {},
          "output_type": "execute_result"
        }
      ],
      "source": [
        "df_inf_result = pd.DataFrame(inf_pred_proba, columns=['proba_0', 'proba_1'])\n",
        "df_inf_result['inf_pred'] = inf_pred\n",
        "\n",
        "df_inf_result"
      ]
    },
    {
      "cell_type": "code",
      "execution_count": 127,
      "id": "Lnu0EJfVt1vd",
      "metadata": {
        "id": "Lnu0EJfVt1vd"
      },
      "outputs": [],
      "source": [
        "df_inf_result = df_inf_result.join(df2['SK_ID_CURR'])"
      ]
    },
    {
      "cell_type": "code",
      "execution_count": 128,
      "id": "QsyODGzWuKEG",
      "metadata": {
        "colab": {
          "base_uri": "https://localhost:8080/",
          "height": 424
        },
        "id": "QsyODGzWuKEG",
        "outputId": "70cfa8af-2eda-4129-cb58-13e65fee292e"
      },
      "outputs": [
        {
          "data": {
            "text/html": [
              "\n",
              "  <div id=\"df-44ea256f-7ae8-4d98-8597-5b1f82bbabe0\">\n",
              "    <div class=\"colab-df-container\">\n",
              "      <div>\n",
              "<style scoped>\n",
              "    .dataframe tbody tr th:only-of-type {\n",
              "        vertical-align: middle;\n",
              "    }\n",
              "\n",
              "    .dataframe tbody tr th {\n",
              "        vertical-align: top;\n",
              "    }\n",
              "\n",
              "    .dataframe thead th {\n",
              "        text-align: right;\n",
              "    }\n",
              "</style>\n",
              "<table border=\"1\" class=\"dataframe\">\n",
              "  <thead>\n",
              "    <tr style=\"text-align: right;\">\n",
              "      <th></th>\n",
              "      <th>proba_0</th>\n",
              "      <th>proba_1</th>\n",
              "      <th>inf_pred</th>\n",
              "      <th>SK_ID_CURR</th>\n",
              "    </tr>\n",
              "  </thead>\n",
              "  <tbody>\n",
              "    <tr>\n",
              "      <th>0</th>\n",
              "      <td>0.756188</td>\n",
              "      <td>0.243812</td>\n",
              "      <td>0</td>\n",
              "      <td>100001</td>\n",
              "    </tr>\n",
              "    <tr>\n",
              "      <th>1</th>\n",
              "      <td>0.671099</td>\n",
              "      <td>0.328901</td>\n",
              "      <td>0</td>\n",
              "      <td>100005</td>\n",
              "    </tr>\n",
              "    <tr>\n",
              "      <th>2</th>\n",
              "      <td>0.694126</td>\n",
              "      <td>0.305874</td>\n",
              "      <td>0</td>\n",
              "      <td>100013</td>\n",
              "    </tr>\n",
              "    <tr>\n",
              "      <th>3</th>\n",
              "      <td>0.727013</td>\n",
              "      <td>0.272987</td>\n",
              "      <td>0</td>\n",
              "      <td>100028</td>\n",
              "    </tr>\n",
              "    <tr>\n",
              "      <th>4</th>\n",
              "      <td>0.631394</td>\n",
              "      <td>0.368606</td>\n",
              "      <td>0</td>\n",
              "      <td>100038</td>\n",
              "    </tr>\n",
              "    <tr>\n",
              "      <th>...</th>\n",
              "      <td>...</td>\n",
              "      <td>...</td>\n",
              "      <td>...</td>\n",
              "      <td>...</td>\n",
              "    </tr>\n",
              "    <tr>\n",
              "      <th>48739</th>\n",
              "      <td>0.540631</td>\n",
              "      <td>0.459369</td>\n",
              "      <td>0</td>\n",
              "      <td>456221</td>\n",
              "    </tr>\n",
              "    <tr>\n",
              "      <th>48740</th>\n",
              "      <td>0.734878</td>\n",
              "      <td>0.265122</td>\n",
              "      <td>0</td>\n",
              "      <td>456222</td>\n",
              "    </tr>\n",
              "    <tr>\n",
              "      <th>48741</th>\n",
              "      <td>0.716888</td>\n",
              "      <td>0.283112</td>\n",
              "      <td>0</td>\n",
              "      <td>456223</td>\n",
              "    </tr>\n",
              "    <tr>\n",
              "      <th>48742</th>\n",
              "      <td>0.590424</td>\n",
              "      <td>0.409576</td>\n",
              "      <td>0</td>\n",
              "      <td>456224</td>\n",
              "    </tr>\n",
              "    <tr>\n",
              "      <th>48743</th>\n",
              "      <td>0.685243</td>\n",
              "      <td>0.314757</td>\n",
              "      <td>0</td>\n",
              "      <td>456250</td>\n",
              "    </tr>\n",
              "  </tbody>\n",
              "</table>\n",
              "<p>48744 rows × 4 columns</p>\n",
              "</div>\n",
              "      <button class=\"colab-df-convert\" onclick=\"convertToInteractive('df-44ea256f-7ae8-4d98-8597-5b1f82bbabe0')\"\n",
              "              title=\"Convert this dataframe to an interactive table.\"\n",
              "              style=\"display:none;\">\n",
              "        \n",
              "  <svg xmlns=\"http://www.w3.org/2000/svg\" height=\"24px\"viewBox=\"0 0 24 24\"\n",
              "       width=\"24px\">\n",
              "    <path d=\"M0 0h24v24H0V0z\" fill=\"none\"/>\n",
              "    <path d=\"M18.56 5.44l.94 2.06.94-2.06 2.06-.94-2.06-.94-.94-2.06-.94 2.06-2.06.94zm-11 1L8.5 8.5l.94-2.06 2.06-.94-2.06-.94L8.5 2.5l-.94 2.06-2.06.94zm10 10l.94 2.06.94-2.06 2.06-.94-2.06-.94-.94-2.06-.94 2.06-2.06.94z\"/><path d=\"M17.41 7.96l-1.37-1.37c-.4-.4-.92-.59-1.43-.59-.52 0-1.04.2-1.43.59L10.3 9.45l-7.72 7.72c-.78.78-.78 2.05 0 2.83L4 21.41c.39.39.9.59 1.41.59.51 0 1.02-.2 1.41-.59l7.78-7.78 2.81-2.81c.8-.78.8-2.07 0-2.86zM5.41 20L4 18.59l7.72-7.72 1.47 1.35L5.41 20z\"/>\n",
              "  </svg>\n",
              "      </button>\n",
              "      \n",
              "  <style>\n",
              "    .colab-df-container {\n",
              "      display:flex;\n",
              "      flex-wrap:wrap;\n",
              "      gap: 12px;\n",
              "    }\n",
              "\n",
              "    .colab-df-convert {\n",
              "      background-color: #E8F0FE;\n",
              "      border: none;\n",
              "      border-radius: 50%;\n",
              "      cursor: pointer;\n",
              "      display: none;\n",
              "      fill: #1967D2;\n",
              "      height: 32px;\n",
              "      padding: 0 0 0 0;\n",
              "      width: 32px;\n",
              "    }\n",
              "\n",
              "    .colab-df-convert:hover {\n",
              "      background-color: #E2EBFA;\n",
              "      box-shadow: 0px 1px 2px rgba(60, 64, 67, 0.3), 0px 1px 3px 1px rgba(60, 64, 67, 0.15);\n",
              "      fill: #174EA6;\n",
              "    }\n",
              "\n",
              "    [theme=dark] .colab-df-convert {\n",
              "      background-color: #3B4455;\n",
              "      fill: #D2E3FC;\n",
              "    }\n",
              "\n",
              "    [theme=dark] .colab-df-convert:hover {\n",
              "      background-color: #434B5C;\n",
              "      box-shadow: 0px 1px 3px 1px rgba(0, 0, 0, 0.15);\n",
              "      filter: drop-shadow(0px 1px 2px rgba(0, 0, 0, 0.3));\n",
              "      fill: #FFFFFF;\n",
              "    }\n",
              "  </style>\n",
              "\n",
              "      <script>\n",
              "        const buttonEl =\n",
              "          document.querySelector('#df-44ea256f-7ae8-4d98-8597-5b1f82bbabe0 button.colab-df-convert');\n",
              "        buttonEl.style.display =\n",
              "          google.colab.kernel.accessAllowed ? 'block' : 'none';\n",
              "\n",
              "        async function convertToInteractive(key) {\n",
              "          const element = document.querySelector('#df-44ea256f-7ae8-4d98-8597-5b1f82bbabe0');\n",
              "          const dataTable =\n",
              "            await google.colab.kernel.invokeFunction('convertToInteractive',\n",
              "                                                     [key], {});\n",
              "          if (!dataTable) return;\n",
              "\n",
              "          const docLinkHtml = 'Like what you see? Visit the ' +\n",
              "            '<a target=\"_blank\" href=https://colab.research.google.com/notebooks/data_table.ipynb>data table notebook</a>'\n",
              "            + ' to learn more about interactive tables.';\n",
              "          element.innerHTML = '';\n",
              "          dataTable['output_type'] = 'display_data';\n",
              "          await google.colab.output.renderOutput(dataTable, element);\n",
              "          const docLink = document.createElement('div');\n",
              "          docLink.innerHTML = docLinkHtml;\n",
              "          element.appendChild(docLink);\n",
              "        }\n",
              "      </script>\n",
              "    </div>\n",
              "  </div>\n",
              "  "
            ],
            "text/plain": [
              "        proba_0   proba_1  inf_pred  SK_ID_CURR\n",
              "0      0.756188  0.243812         0      100001\n",
              "1      0.671099  0.328901         0      100005\n",
              "2      0.694126  0.305874         0      100013\n",
              "3      0.727013  0.272987         0      100028\n",
              "4      0.631394  0.368606         0      100038\n",
              "...         ...       ...       ...         ...\n",
              "48739  0.540631  0.459369         0      456221\n",
              "48740  0.734878  0.265122         0      456222\n",
              "48741  0.716888  0.283112         0      456223\n",
              "48742  0.590424  0.409576         0      456224\n",
              "48743  0.685243  0.314757         0      456250\n",
              "\n",
              "[48744 rows x 4 columns]"
            ]
          },
          "execution_count": 128,
          "metadata": {},
          "output_type": "execute_result"
        }
      ],
      "source": [
        "df_inf_result"
      ]
    },
    {
      "cell_type": "code",
      "execution_count": 149,
      "id": "UOKT-sYJME2i",
      "metadata": {
        "id": "UOKT-sYJME2i"
      },
      "outputs": [],
      "source": [
        "df_inf_result.to_csv('result.csv', index=False)"
      ]
    },
    {
      "attachments": {},
      "cell_type": "markdown",
      "id": "FMIasfPI1tIe",
      "metadata": {
        "id": "FMIasfPI1tIe"
      },
      "source": [
        "# KESIMPULAN\n",
        "\n",
        "## FE\n",
        "- Pada FE kita menghapus kolom yang memiliki persentase nilai missing value di atas 40%, hal ini dilakukan agar fitur pada data kita kita tidak banyak data sintetik\n",
        "- Fitur Selection dilakukan dengan mengambil fitur kategorik yang memiliki p-value > 0.05 pada pencarian nilai chi-vakue dan mengambil nilai korelasi >|+/-0.5|\n",
        "- Fitur numerik dan kategorik dibagi menjadi :\n",
        "  - Numerik, dibagi menjadi numerik skew (nilai skew > |+/-0.5|) dan normal (nilai skew < |+/-0.5|). numerik skew dilakukan simpler imputer nilai median, handling outlier dengan winsorizer, dan Robust Scaler sedangkan numerik normal dilakukan simpler imputer nilai mean dan Standard Scaler\n",
        "  - Kategorik, dibagi menjadi tiga: ordinal, nominal, dan label. Pada ordinal dan label dilakukan Ordinal Encoding, dan nominal dilakukan One Hot Encoding\n",
        "- Dilakukan Fitur Reduction dengan TruncatedSVD karena fitur kita memiliki matrix yang sparse.\n",
        "- Dilakukan Resampling dengan metode Undersampling pada kelas mayoritas (kelas 0). Hal ini dilakukan agar kelas 0 dan kelas 1 memiliki jumlah data yang sama. Kita tidak melakukan Oversampling karena kita tidak menginginkan data sintetik pada kelas minoritas\n",
        "\n",
        "## Training\n",
        "- Kita menggunakan LogReg, LGB, dan XGB untuk mencari nilai evaluasi ROC-AUC yang bagus. Algoritma tersebut dipilih karena memiliki kecepatan yang baik dan cenderung tahan terhadap data robust (LGB dan XGB)\n",
        "\n",
        "## Evaluasi\n",
        "- Berdasarkan Nilai ROC-AUC pada data test maka model yang bagus adalah model yang menggunakan algoritma Light Gradien Boosting dengan nilai ROC-AUC 67%\n",
        "\n",
        "- Model ini belum lah bagus jika melihat dari nilai ROC-AUC. Kita bisa meningkatkan model kita dengan mencoba algoritma klasifikasi yang lain dan/atau FE yang lebih baik"
      ]
    }
  ],
  "metadata": {
    "colab": {
      "gpuType": "T4",
      "provenance": []
    },
    "kernelspec": {
      "display_name": "Python 3",
      "name": "python3"
    },
    "language_info": {
      "codemirror_mode": {
        "name": "ipython",
        "version": 3
      },
      "file_extension": ".py",
      "mimetype": "text/x-python",
      "name": "python",
      "nbconvert_exporter": "python",
      "pygments_lexer": "ipython3",
      "version": "3.11.3"
    }
  },
  "nbformat": 4,
  "nbformat_minor": 5
}
